{
 "cells": [
  {
   "cell_type": "markdown",
   "metadata": {},
   "source": [
    "# Lab 5.1 - Crossvalidation \n"
   ]
  },
  {
   "cell_type": "code",
   "execution_count": 1,
   "metadata": {},
   "outputs": [],
   "source": [
    "import pandas as pd\n",
    "import numpy as np\n",
    "import matplotlib.pyplot as plt\n",
    "import seaborn as sns\n",
    "from sklearn.model_selection import train_test_split, cross_val_score\n",
    "from sklearn.linear_model import LinearRegression\n",
    "from sklearn.pipeline import Pipeline\n",
    "from sklearn.base import BaseEstimator, TransformerMixin\n",
    "from sklearn.decomposition import PCA\n",
    "from sklearn.preprocessing import StandardScaler, PolynomialFeatures\n",
    "from sklearn.metrics import mean_squared_error, mean_absolute_error, make_scorer\n",
    "from sklearn.model_selection import KFold, LeaveOneOut\n",
    "\n",
    "pd.set_option('display.max_columns', 500)\n",
    "\n",
    "%matplotlib inline"
   ]
  },
  {
   "cell_type": "markdown",
   "metadata": {},
   "source": [
    "# 1. Loading a data set a building a model"
   ]
  },
  {
   "cell_type": "code",
   "execution_count": 2,
   "metadata": {},
   "outputs": [
    {
     "data": {
      "text/html": [
       "<div>\n",
       "<style scoped>\n",
       "    .dataframe tbody tr th:only-of-type {\n",
       "        vertical-align: middle;\n",
       "    }\n",
       "\n",
       "    .dataframe tbody tr th {\n",
       "        vertical-align: top;\n",
       "    }\n",
       "\n",
       "    .dataframe thead th {\n",
       "        text-align: right;\n",
       "    }\n",
       "</style>\n",
       "<table border=\"1\" class=\"dataframe\">\n",
       "  <thead>\n",
       "    <tr style=\"text-align: right;\">\n",
       "      <th></th>\n",
       "      <th>age</th>\n",
       "      <th>height_cm</th>\n",
       "      <th>weight_kg</th>\n",
       "      <th>work_rate_att</th>\n",
       "      <th>overall</th>\n",
       "    </tr>\n",
       "  </thead>\n",
       "  <tbody>\n",
       "    <tr>\n",
       "      <th>0</th>\n",
       "      <td>20</td>\n",
       "      <td>175</td>\n",
       "      <td>70</td>\n",
       "      <td>Medium</td>\n",
       "      <td>58</td>\n",
       "    </tr>\n",
       "    <tr>\n",
       "      <th>1</th>\n",
       "      <td>29</td>\n",
       "      <td>183</td>\n",
       "      <td>80</td>\n",
       "      <td>High</td>\n",
       "      <td>65</td>\n",
       "    </tr>\n",
       "    <tr>\n",
       "      <th>2</th>\n",
       "      <td>35</td>\n",
       "      <td>183</td>\n",
       "      <td>78</td>\n",
       "      <td>High</td>\n",
       "      <td>67</td>\n",
       "    </tr>\n",
       "    <tr>\n",
       "      <th>3</th>\n",
       "      <td>24</td>\n",
       "      <td>178</td>\n",
       "      <td>72</td>\n",
       "      <td>Medium</td>\n",
       "      <td>69</td>\n",
       "    </tr>\n",
       "    <tr>\n",
       "      <th>4</th>\n",
       "      <td>23</td>\n",
       "      <td>173</td>\n",
       "      <td>73</td>\n",
       "      <td>Medium</td>\n",
       "      <td>70</td>\n",
       "    </tr>\n",
       "  </tbody>\n",
       "</table>\n",
       "</div>"
      ],
      "text/plain": [
       "   age  height_cm  weight_kg work_rate_att  overall\n",
       "0   20        175         70        Medium       58\n",
       "1   29        183         80          High       65\n",
       "2   35        183         78          High       67\n",
       "3   24        178         72        Medium       69\n",
       "4   23        173         73        Medium       70"
      ]
     },
     "execution_count": 2,
     "metadata": {},
     "output_type": "execute_result"
    }
   ],
   "source": [
    "# Read in subset of footballer data\n",
    "\n",
    "model_data = pd.read_csv('footballer_reduced.csv')\n",
    "model_data.head()"
   ]
  },
  {
   "cell_type": "code",
   "execution_count": 3,
   "metadata": {},
   "outputs": [
    {
     "data": {
      "text/plain": [
       "Medium    266\n",
       "High       71\n",
       "Low        23\n",
       "Name: work_rate_att, dtype: int64"
      ]
     },
     "execution_count": 3,
     "metadata": {},
     "output_type": "execute_result"
    }
   ],
   "source": [
    "# Study categories\n",
    "model_data.work_rate_att.value_counts()"
   ]
  },
  {
   "cell_type": "code",
   "execution_count": 4,
   "metadata": {},
   "outputs": [
    {
     "data": {
      "text/html": [
       "<div>\n",
       "<style scoped>\n",
       "    .dataframe tbody tr th:only-of-type {\n",
       "        vertical-align: middle;\n",
       "    }\n",
       "\n",
       "    .dataframe tbody tr th {\n",
       "        vertical-align: top;\n",
       "    }\n",
       "\n",
       "    .dataframe thead th {\n",
       "        text-align: right;\n",
       "    }\n",
       "</style>\n",
       "<table border=\"1\" class=\"dataframe\">\n",
       "  <thead>\n",
       "    <tr style=\"text-align: right;\">\n",
       "      <th></th>\n",
       "      <th>age</th>\n",
       "      <th>height_cm</th>\n",
       "      <th>weight_kg</th>\n",
       "      <th>overall</th>\n",
       "      <th>work_rate_att_Low</th>\n",
       "      <th>work_rate_att_Medium</th>\n",
       "    </tr>\n",
       "  </thead>\n",
       "  <tbody>\n",
       "    <tr>\n",
       "      <th>0</th>\n",
       "      <td>20</td>\n",
       "      <td>175</td>\n",
       "      <td>70</td>\n",
       "      <td>58</td>\n",
       "      <td>0</td>\n",
       "      <td>1</td>\n",
       "    </tr>\n",
       "    <tr>\n",
       "      <th>1</th>\n",
       "      <td>29</td>\n",
       "      <td>183</td>\n",
       "      <td>80</td>\n",
       "      <td>65</td>\n",
       "      <td>0</td>\n",
       "      <td>0</td>\n",
       "    </tr>\n",
       "    <tr>\n",
       "      <th>2</th>\n",
       "      <td>35</td>\n",
       "      <td>183</td>\n",
       "      <td>78</td>\n",
       "      <td>67</td>\n",
       "      <td>0</td>\n",
       "      <td>0</td>\n",
       "    </tr>\n",
       "    <tr>\n",
       "      <th>3</th>\n",
       "      <td>24</td>\n",
       "      <td>178</td>\n",
       "      <td>72</td>\n",
       "      <td>69</td>\n",
       "      <td>0</td>\n",
       "      <td>1</td>\n",
       "    </tr>\n",
       "    <tr>\n",
       "      <th>4</th>\n",
       "      <td>23</td>\n",
       "      <td>173</td>\n",
       "      <td>73</td>\n",
       "      <td>70</td>\n",
       "      <td>0</td>\n",
       "      <td>1</td>\n",
       "    </tr>\n",
       "  </tbody>\n",
       "</table>\n",
       "</div>"
      ],
      "text/plain": [
       "   age  height_cm  weight_kg  overall  work_rate_att_Low  work_rate_att_Medium\n",
       "0   20        175         70       58                  0                     1\n",
       "1   29        183         80       65                  0                     0\n",
       "2   35        183         78       67                  0                     0\n",
       "3   24        178         72       69                  0                     1\n",
       "4   23        173         73       70                  0                     1"
      ]
     },
     "execution_count": 4,
     "metadata": {},
     "output_type": "execute_result"
    }
   ],
   "source": [
    "# Turn category into numeric variables\n",
    "model_data = pd.get_dummies(model_data, drop_first=True)\n",
    "model_data.head()"
   ]
  },
  {
   "cell_type": "code",
   "execution_count": null,
   "metadata": {},
   "outputs": [],
   "source": [
    "# Even though we are not using seaborn we can style the plots with it\n",
    "sns.set_style(\"darkgrid\") \n",
    "\n",
    "# Create a dataframe\n",
    "ax = \n",
    "\n",
    "plt.show()"
   ]
  },
  {
   "cell_type": "code",
   "execution_count": 5,
   "metadata": {},
   "outputs": [],
   "source": [
    "# Define our X and y\n",
    "y = model_data.overall\n",
    "X = model_data.drop('overall', axis = 'columns')"
   ]
  },
  {
   "cell_type": "markdown",
   "metadata": {},
   "source": [
    "## 2. Simple train-test split"
   ]
  },
  {
   "cell_type": "code",
   "execution_count": 7,
   "metadata": {},
   "outputs": [
    {
     "name": "stdout",
     "output_type": "stream",
     "text": [
      "(288, 5) (72, 5)\n"
     ]
    }
   ],
   "source": [
    "# Split into train&validation, test\n",
    "# Random state assures that folds are consistent across models\n",
    "Xtrain, Xtest, ytrain, ytest = train_test_split(X,y, test_size = 0.20, random_state = 0)\n",
    "print(Xtrain.shape, Xtest.shape)"
   ]
  },
  {
   "cell_type": "code",
   "execution_count": 8,
   "metadata": {},
   "outputs": [
    {
     "name": "stdout",
     "output_type": "stream",
     "text": [
      "Training loss: 33.230\n",
      "Training loss:40.952\n"
     ]
    }
   ],
   "source": [
    "# Check training and test loss\n",
    "linmodel = LinearRegression().fit(Xtrain, ytrain)\n",
    "trainloss = mean_squared_error(ytrain, linmodel.predict(Xtrain))\n",
    "print(f\"Training loss: %.3f\" %  trainloss)\n",
    "testloss = mean_squared_error(ytest, linmodel.predict(Xtest))\n",
    "print(f\"Training loss:%.3f\" % testloss)"
   ]
  },
  {
   "cell_type": "markdown",
   "metadata": {},
   "source": [
    "## 3. Crossvalidation: define the partitions\n",
    "For more details, see: https://scikit-learn.org/stable/modules/cross_validation.html#cross-validation"
   ]
  },
  {
   "cell_type": "code",
   "execution_count": 9,
   "metadata": {},
   "outputs": [
    {
     "name": "stdout",
     "output_type": "stream",
     "text": [
      "Train set: [ 4  5  6  7  8  9 10 11 12 13 14 15 16 17 18 19], Test set: [0 1 2 3]\n",
      "Train set: [ 0  1  2  3  8  9 10 11 12 13 14 15 16 17 18 19], Test set: [4 5 6 7]\n",
      "Train set: [ 0  1  2  3  4  5  6  7 12 13 14 15 16 17 18 19], Test set: [ 8  9 10 11]\n",
      "Train set: [ 0  1  2  3  4  5  6  7  8  9 10 11 16 17 18 19], Test set: [12 13 14 15]\n",
      "Train set: [ 0  1  2  3  4  5  6  7  8  9 10 11 12 13 14 15], Test set: [16 17 18 19]\n"
     ]
    }
   ],
   "source": [
    "# Define Kfold crossvalidation \n",
    "x=np.arange(20)\n",
    "kf = KFold(n_splits = 5)\n",
    "for train,test in kf.split(x):\n",
    "    print(\"Train set: %s, Test set: %s\" % (train, test))\n"
   ]
  },
  {
   "cell_type": "code",
   "execution_count": 11,
   "metadata": {},
   "outputs": [
    {
     "name": "stdout",
     "output_type": "stream",
     "text": [
      "Train set: [ 1  2  4  6  7  8  9 10 11 12 13 14 15 16 17 18], Test set: [ 0  3  5 19]\n",
      "Train set: [ 0  1  3  4  5  6  7  8 10 11 12 13 14 15 16 19], Test set: [ 2  9 17 18]\n",
      "Train set: [ 0  1  2  3  4  5  7  8  9 11 12 15 16 17 18 19], Test set: [ 6 10 13 14]\n",
      "Train set: [ 0  1  2  3  4  5  6  8  9 10 11 13 14 17 18 19], Test set: [ 7 12 15 16]\n",
      "Train set: [ 0  2  3  5  6  7  9 10 12 13 14 15 16 17 18 19], Test set: [ 1  4  8 11]\n"
     ]
    }
   ],
   "source": [
    "# Define Kfold crossvalidation with random shuffling\n",
    "from sklearn.model_selection import KFold\n",
    "x=np.arange(20)\n",
    "kf = KFold(n_splits = 5, shuffle = True)\n",
    "for train,test in kf.split(x):\n",
    "    print(\"Train set: %s, Test set: %s\" % (train, test))\n"
   ]
  },
  {
   "cell_type": "code",
   "execution_count": 12,
   "metadata": {},
   "outputs": [
    {
     "name": "stdout",
     "output_type": "stream",
     "text": [
      "[ 1  2  3  4  5  6  7  8  9 10 11 12 13 14 15 16 17 18 19] [0]\n",
      "[ 0  2  3  4  5  6  7  8  9 10 11 12 13 14 15 16 17 18 19] [1]\n",
      "[ 0  1  3  4  5  6  7  8  9 10 11 12 13 14 15 16 17 18 19] [2]\n",
      "[ 0  1  2  4  5  6  7  8  9 10 11 12 13 14 15 16 17 18 19] [3]\n",
      "[ 0  1  2  3  5  6  7  8  9 10 11 12 13 14 15 16 17 18 19] [4]\n",
      "[ 0  1  2  3  4  6  7  8  9 10 11 12 13 14 15 16 17 18 19] [5]\n",
      "[ 0  1  2  3  4  5  7  8  9 10 11 12 13 14 15 16 17 18 19] [6]\n",
      "[ 0  1  2  3  4  5  6  8  9 10 11 12 13 14 15 16 17 18 19] [7]\n",
      "[ 0  1  2  3  4  5  6  7  9 10 11 12 13 14 15 16 17 18 19] [8]\n",
      "[ 0  1  2  3  4  5  6  7  8 10 11 12 13 14 15 16 17 18 19] [9]\n",
      "[ 0  1  2  3  4  5  6  7  8  9 11 12 13 14 15 16 17 18 19] [10]\n",
      "[ 0  1  2  3  4  5  6  7  8  9 10 12 13 14 15 16 17 18 19] [11]\n",
      "[ 0  1  2  3  4  5  6  7  8  9 10 11 13 14 15 16 17 18 19] [12]\n",
      "[ 0  1  2  3  4  5  6  7  8  9 10 11 12 14 15 16 17 18 19] [13]\n",
      "[ 0  1  2  3  4  5  6  7  8  9 10 11 12 13 15 16 17 18 19] [14]\n",
      "[ 0  1  2  3  4  5  6  7  8  9 10 11 12 13 14 16 17 18 19] [15]\n",
      "[ 0  1  2  3  4  5  6  7  8  9 10 11 12 13 14 15 17 18 19] [16]\n",
      "[ 0  1  2  3  4  5  6  7  8  9 10 11 12 13 14 15 16 18 19] [17]\n",
      "[ 0  1  2  3  4  5  6  7  8  9 10 11 12 13 14 15 16 17 19] [18]\n",
      "[ 0  1  2  3  4  5  6  7  8  9 10 11 12 13 14 15 16 17 18] [19]\n"
     ]
    }
   ],
   "source": [
    "# Leave one out crossvalidation\n",
    "x=np.arange(20)\n",
    "loo = LeaveOneOut()\n",
    "for train,test in loo.split(x):\n",
    "    print(\"%s %s\" % (train, test))"
   ]
  },
  {
   "cell_type": "markdown",
   "metadata": {},
   "source": [
    "## 4. Run the crossvalidation"
   ]
  },
  {
   "cell_type": "code",
   "execution_count": 17,
   "metadata": {},
   "outputs": [
    {
     "name": "stdout",
     "output_type": "stream",
     "text": [
      "List of CV loss: [30.107 39.038 33.24  33.382 37.925]\n",
      "Average CV loss: 34.738 +/- 3.292\n"
     ]
    }
   ],
   "source": [
    "# Check CV loss\n",
    "kf = KFold(n_splits=5, shuffle=False)\n",
    "sc = make_scorer(mean_squared_error)\n",
    "cv_scores = cross_val_score(LinearRegression(), Xtrain, ytrain, cv=kf, scoring=sc)\n",
    "\n",
    "# When printing arrays, set_printoptions controls the format\n",
    "np.set_printoptions(precision=3)\n",
    "print(f'List of CV loss:', cv_scores)\n",
    "print(f\"Average CV loss: %.3f +/- %.3f\" % (cv_scores.mean(), cv_scores.std())) # this is the value we care about (use to compare models)"
   ]
  },
  {
   "cell_type": "code",
   "execution_count": 18,
   "metadata": {},
   "outputs": [
    {
     "name": "stdout",
     "output_type": "stream",
     "text": [
      "List of CV loss: [2.236e-02 7.182e-02 5.698e+01 1.561e+01 7.926e-01 1.685e+01 8.049e+01\n",
      " 8.902e+00 1.262e+02 1.778e+01 2.153e+01 1.872e+00 5.026e+00 5.899e+01\n",
      " 8.673e+00 1.296e+02 1.498e+02 4.350e+01 9.340e+01 4.862e+00 2.338e-02\n",
      " 6.188e-02 1.154e+01 1.109e+02 1.354e+01 1.514e+01 3.699e+00 3.693e+00\n",
      " 1.045e+01 1.804e+01 1.515e+01 2.456e+00 1.590e+02 2.307e+00 4.325e+00\n",
      " 1.023e+01 4.496e+00 1.152e+01 1.441e+01 1.099e+00 4.679e+01 1.303e+01\n",
      " 3.004e+00 5.049e+01 6.056e+01 2.315e+00 2.736e+01 3.905e+01 1.538e+01\n",
      " 2.627e+01 2.827e+01 7.206e+01 2.344e+01 7.301e+01 5.108e+00 1.491e+01\n",
      " 5.331e+00 1.402e+00 5.762e+00 1.252e+02 1.342e+00 3.574e+01 8.423e+00\n",
      " 1.435e+02 3.010e+01 6.935e+01 7.783e+01 1.413e-02 8.333e+01 1.507e+01\n",
      " 3.817e+01 8.960e+01 1.651e+01 1.859e-01 3.360e+00 9.474e+00 8.218e+01\n",
      " 1.149e+02 1.305e+00 6.639e+01 8.430e+01 3.496e+01 1.332e+00 3.470e+01\n",
      " 3.929e+00 5.054e+01 2.245e+01 3.333e+00 5.685e-01 7.017e+01 7.423e+00\n",
      " 1.102e+02 6.007e+01 2.168e+02 6.198e+01 1.336e+02 7.076e+00 9.416e+01\n",
      " 2.210e-02 1.967e+00 1.244e+00 1.389e+00 2.958e-01 8.432e-02 4.912e+01\n",
      " 3.752e+01 7.555e-02 1.914e-01 4.884e-02 1.643e+01 2.178e+01 3.106e+01\n",
      " 5.039e+01 4.340e+00 2.145e+01 3.079e+01 1.326e+01 1.251e+02 1.325e-03\n",
      " 3.600e+01 3.485e-01 4.077e+01 2.189e+01 1.883e+01 4.295e+01 2.731e+01\n",
      " 1.386e+02 6.648e+00 1.435e+02 3.269e+01 1.610e+00 8.907e+01 1.774e+00\n",
      " 1.838e+00 1.248e+01 5.399e+01 9.181e+01 5.615e+00 1.133e+00 1.786e+00\n",
      " 3.012e+00 1.313e+01 1.141e+02 4.079e+01 3.862e+00 2.548e+01 3.525e+00\n",
      " 6.235e+00 1.760e+01 3.492e+01 6.368e-01 1.695e+00 2.464e+01 5.010e+00\n",
      " 5.112e+01 1.168e+00 1.691e+01 2.041e+01 6.790e+01 7.382e+00 1.563e+01\n",
      " 2.831e+02 6.243e+01 9.083e+00 2.445e+01 3.817e+01 3.495e+01 3.771e-01\n",
      " 4.659e+00 2.385e+01 8.427e+01 9.052e-02 5.777e+00 5.320e+00 1.271e+02\n",
      " 1.372e+01 5.246e+01 5.362e+00 3.116e+01 1.567e+01 2.240e+00 1.045e+01\n",
      " 1.282e+01 9.029e-01 1.701e+02 6.734e+01 3.963e+00 7.660e+00 2.070e-03\n",
      " 9.225e+00 2.072e+00 1.706e+01 1.027e+02 1.190e+02 1.432e+00 7.340e+00\n",
      " 3.514e+01 6.417e+01 3.099e+01 2.279e+01 2.403e+01 2.005e+01 4.820e-01\n",
      " 8.266e+00 1.677e+02 1.585e+02 6.873e+01 9.017e+00 3.449e+00 3.614e+01\n",
      " 2.712e-01 1.524e+00 1.365e+00 4.611e+00 4.628e+01 2.510e+01 9.401e-01\n",
      " 3.538e+01 2.770e+01 7.665e-01 6.822e-01 3.461e+01 2.322e-02 2.368e+01\n",
      " 4.107e+01 1.003e+01 9.384e-01 9.234e+01 4.558e+00 2.648e+01 2.301e+01\n",
      " 4.647e-01 7.312e+01 1.265e+02 2.561e+02 1.147e+01 3.294e+00 1.551e+01\n",
      " 6.212e+01 7.960e+01 7.498e-02 2.056e+01 2.232e+00 1.939e+00 8.974e-01\n",
      " 1.675e+01 7.752e+01 2.940e+01 1.191e+00 8.556e+01 1.349e+01 3.857e+01\n",
      " 1.478e+01 2.527e+00 1.530e+00 2.474e+01 8.509e-01 1.466e+00 5.236e+01\n",
      " 3.358e-03 1.922e+02 9.853e+01 1.083e+02 1.706e-01 9.226e+01 1.531e+01\n",
      " 1.761e+00 1.109e+01 3.276e+01 8.169e+00 1.670e+01 3.615e-03 1.640e+01\n",
      " 6.536e+01 1.453e+01 6.807e+01 4.797e+01 2.938e+00 4.163e+00 2.548e+01\n",
      " 8.404e+01 5.792e+01 2.064e+00 3.907e+01 1.049e+01 5.161e-01 9.916e+01\n",
      " 1.556e+01]\n",
      "Average CV loss: 34.658 +/- 45.584\n"
     ]
    }
   ],
   "source": [
    "# Leave One Out\n",
    "kf = LeaveOneOut()\n",
    "sc = make_scorer(mean_squared_error)\n",
    "\n",
    "# use full data\n",
    "cv_scores = cross_val_score(LinearRegression(), X, y, cv=kf, scoring=sc)\n",
    "\n",
    "# When printing arrays, set_printoptions controls the format\n",
    "np.set_printoptions(precision=3)\n",
    "print(f'List of CV loss:', cv_scores)\n",
    "print(f\"Average CV loss: %.3f +/- %.3f\" % (cv_scores.mean(), cv_scores.std()))"
   ]
  },
  {
   "cell_type": "code",
   "execution_count": null,
   "metadata": {},
   "outputs": [],
   "source": []
  }
 ],
 "metadata": {
  "kernelspec": {
   "display_name": "Python 3 (ipykernel)",
   "language": "python",
   "name": "python3"
  },
  "language_info": {
   "codemirror_mode": {
    "name": "ipython",
    "version": 3
   },
   "file_extension": ".py",
   "mimetype": "text/x-python",
   "name": "python",
   "nbconvert_exporter": "python",
   "pygments_lexer": "ipython3",
   "version": "3.9.7"
  }
 },
 "nbformat": 4,
 "nbformat_minor": 4
}
