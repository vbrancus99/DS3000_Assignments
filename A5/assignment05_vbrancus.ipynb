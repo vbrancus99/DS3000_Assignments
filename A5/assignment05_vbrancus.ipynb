{
 "cells": [
  {
   "cell_type": "markdown",
   "metadata": {
    "id": "zsJM27mMVBgZ"
   },
   "source": [
    "# Grade: /100 pts\n",
    "\n",
    "# Assignment 05: Model Selection & Cross Validation\n",
    "\n",
    "### Dear Applicant...You've Been Invited To  Interview To Be A Data Scientist!\n",
    "\n",
    "You've been invited to interview for a Junior Data Scientist job for a consulting firm. This company works with a variety of machine learning applications from banking to sports!.\n",
    "\n",
    "You will face one important task: *Advice a bank. Constructing a model for predicting the probability of retail products default.*\n",
    "\n",
    "The bank has provided you with data for 1000 loans.  Your job: build a model or models, perform model selection using cross validation techniques, and evaluate your final selected model.\n",
    "\n",
    "### The Dataset\n",
    "\n",
    "The data is stored in a csv file called `loan_Data.csv`.  The data includes some information about the payment behavior and customer characteristics such  as job and purpose acquiring the current loan. You could view the dictionary of the variables given in the file `loan_param.xlsx)`.\n",
    "\n",
    "The target variable is `loanDefault`, which takes the categories Fully Paid or Charged Off.\n",
    "\n",
    "\n",
    "### Follow These Steps before submitting\n",
    "Once you are finished, ensure to complete the following steps.\n",
    "\n",
    "1.  Restart your kernel by clicking 'Kernel' > 'Restart & Run All'.\n",
    "\n",
    "2.  Fix any errors which result from this.\n",
    "\n",
    "3.  Repeat steps 1. and 2. until your notebook runs without errors.\n",
    "\n",
    "4.  Submit your completed notebook to OWL by the deadline. \n",
    "\n",
    "5.  Your submission document should be saved in the form: `LastName_FirstName_Assignment5.ipynb`\n",
    "\n",
    "---"
   ]
  },
  {
   "cell_type": "code",
   "execution_count": 1,
   "metadata": {
    "id": "qyn1a-ZqVBgf"
   },
   "outputs": [],
   "source": [
    "import pandas as pd\n",
    "import numpy as np\n",
    "import matplotlib.pyplot as plt\n",
    "import seaborn as sns\n",
    "from sklearn.model_selection import train_test_split,StratifiedKFold,cross_val_score\n",
    "from sklearn.linear_model import LogisticRegression, LinearRegression\n",
    "from sklearn.pipeline import Pipeline\n",
    "from sklearn.preprocessing import StandardScaler, PolynomialFeatures\n",
    "from sklearn.metrics import make_scorer, mean_squared_error,roc_curve, auc, roc_auc_score\n",
    "from sklearn.base import BaseEstimator, TransformerMixin\n",
    "\n",
    "pd.set_option('display.max_columns', 500)\n",
    "\n",
    "%matplotlib inline\n",
    "\n",
    "%matplotlib inline\n",
    "plt.style.use('ggplot')\n"
   ]
  },
  {
   "cell_type": "markdown",
   "metadata": {
    "id": "5vhmu5x5VBgj"
   },
   "source": [
    "_____"
   ]
  },
  {
   "cell_type": "markdown",
   "metadata": {
    "id": "GSB_avXLVBgk"
   },
   "source": [
    "### Question 1: /10pts\n",
    "\n",
    "As the initial step, the hiring manager asks you to load the data `loan_Data.csv` and identify the last 5 rows of the data (observe that the rows have been shuffled).\n",
    "Since you are going to create a predictive model for the default probability the hiring manager is expecting you to change the values of the column `loanDefault` to 1 if the loan is `Charged Off` and 0 if it is `Fully Paid`. "
   ]
  },
  {
   "cell_type": "code",
   "execution_count": 2,
   "metadata": {
    "id": "rlGmp5PWVBgm"
   },
   "outputs": [
    {
     "data": {
      "text/html": [
       "<div>\n",
       "<style scoped>\n",
       "    .dataframe tbody tr th:only-of-type {\n",
       "        vertical-align: middle;\n",
       "    }\n",
       "\n",
       "    .dataframe tbody tr th {\n",
       "        vertical-align: top;\n",
       "    }\n",
       "\n",
       "    .dataframe thead th {\n",
       "        text-align: right;\n",
       "    }\n",
       "</style>\n",
       "<table border=\"1\" class=\"dataframe\">\n",
       "  <thead>\n",
       "    <tr style=\"text-align: right;\">\n",
       "      <th></th>\n",
       "      <th>loanAmnt</th>\n",
       "      <th>annualInc</th>\n",
       "      <th>application_type</th>\n",
       "      <th>int_rate</th>\n",
       "      <th>revol_bal</th>\n",
       "      <th>revol_util</th>\n",
       "      <th>dti</th>\n",
       "      <th>emp_length</th>\n",
       "      <th>grade</th>\n",
       "      <th>homeOwnership</th>\n",
       "      <th>installment</th>\n",
       "      <th>job</th>\n",
       "      <th>loanDefault</th>\n",
       "      <th>mortAcc</th>\n",
       "      <th>pub_rec_bankruptcies</th>\n",
       "      <th>purpose</th>\n",
       "      <th>term</th>\n",
       "      <th>Year</th>\n",
       "    </tr>\n",
       "  </thead>\n",
       "  <tbody>\n",
       "    <tr>\n",
       "      <th>835</th>\n",
       "      <td>25000.0</td>\n",
       "      <td>112000.0</td>\n",
       "      <td>INDIVIDUAL</td>\n",
       "      <td>11.99</td>\n",
       "      <td>42261.0</td>\n",
       "      <td>70.7</td>\n",
       "      <td>11.14</td>\n",
       "      <td>10</td>\n",
       "      <td>B</td>\n",
       "      <td>MORTGAGE</td>\n",
       "      <td>830.24</td>\n",
       "      <td>VP dealer relations</td>\n",
       "      <td>Fully Paid</td>\n",
       "      <td>10</td>\n",
       "      <td>0</td>\n",
       "      <td>debt_consolidation</td>\n",
       "      <td>36</td>\n",
       "      <td>2015</td>\n",
       "    </tr>\n",
       "    <tr>\n",
       "      <th>192</th>\n",
       "      <td>30000.0</td>\n",
       "      <td>101000.0</td>\n",
       "      <td>INDIVIDUAL</td>\n",
       "      <td>19.52</td>\n",
       "      <td>16300.0</td>\n",
       "      <td>48.7</td>\n",
       "      <td>19.88</td>\n",
       "      <td>7</td>\n",
       "      <td>E</td>\n",
       "      <td>MORTGAGE</td>\n",
       "      <td>786.83</td>\n",
       "      <td>cbp officer</td>\n",
       "      <td>Fully Paid</td>\n",
       "      <td>13</td>\n",
       "      <td>0</td>\n",
       "      <td>debt_consolidation</td>\n",
       "      <td>60</td>\n",
       "      <td>2015</td>\n",
       "    </tr>\n",
       "    <tr>\n",
       "      <th>629</th>\n",
       "      <td>17000.0</td>\n",
       "      <td>73000.0</td>\n",
       "      <td>INDIVIDUAL</td>\n",
       "      <td>13.11</td>\n",
       "      <td>27909.0</td>\n",
       "      <td>66.3</td>\n",
       "      <td>29.00</td>\n",
       "      <td>2</td>\n",
       "      <td>B</td>\n",
       "      <td>RENT</td>\n",
       "      <td>573.70</td>\n",
       "      <td>HCA</td>\n",
       "      <td>Fully Paid</td>\n",
       "      <td>14</td>\n",
       "      <td>0</td>\n",
       "      <td>debt_consolidation</td>\n",
       "      <td>36</td>\n",
       "      <td>2013</td>\n",
       "    </tr>\n",
       "    <tr>\n",
       "      <th>559</th>\n",
       "      <td>15600.0</td>\n",
       "      <td>67500.0</td>\n",
       "      <td>INDIVIDUAL</td>\n",
       "      <td>7.39</td>\n",
       "      <td>16146.0</td>\n",
       "      <td>43.9</td>\n",
       "      <td>14.29</td>\n",
       "      <td>4</td>\n",
       "      <td>A</td>\n",
       "      <td>RENT</td>\n",
       "      <td>484.47</td>\n",
       "      <td>Senior associatw</td>\n",
       "      <td>Fully Paid</td>\n",
       "      <td>15</td>\n",
       "      <td>0</td>\n",
       "      <td>debt_consolidation</td>\n",
       "      <td>36</td>\n",
       "      <td>2016</td>\n",
       "    </tr>\n",
       "    <tr>\n",
       "      <th>684</th>\n",
       "      <td>10000.0</td>\n",
       "      <td>70000.0</td>\n",
       "      <td>INDIVIDUAL</td>\n",
       "      <td>22.15</td>\n",
       "      <td>6475.0</td>\n",
       "      <td>75.3</td>\n",
       "      <td>12.62</td>\n",
       "      <td>2</td>\n",
       "      <td>E</td>\n",
       "      <td>RENT</td>\n",
       "      <td>382.69</td>\n",
       "      <td>Account Managet</td>\n",
       "      <td>Charged Off</td>\n",
       "      <td>7</td>\n",
       "      <td>0</td>\n",
       "      <td>moving</td>\n",
       "      <td>36</td>\n",
       "      <td>2014</td>\n",
       "    </tr>\n",
       "  </tbody>\n",
       "</table>\n",
       "</div>"
      ],
      "text/plain": [
       "     loanAmnt  annualInc application_type  int_rate  revol_bal  revol_util  \\\n",
       "835   25000.0   112000.0       INDIVIDUAL     11.99    42261.0        70.7   \n",
       "192   30000.0   101000.0       INDIVIDUAL     19.52    16300.0        48.7   \n",
       "629   17000.0    73000.0       INDIVIDUAL     13.11    27909.0        66.3   \n",
       "559   15600.0    67500.0       INDIVIDUAL      7.39    16146.0        43.9   \n",
       "684   10000.0    70000.0       INDIVIDUAL     22.15     6475.0        75.3   \n",
       "\n",
       "       dti  emp_length grade homeOwnership  installment                  job  \\\n",
       "835  11.14          10     B      MORTGAGE       830.24  VP dealer relations   \n",
       "192  19.88           7     E      MORTGAGE       786.83          cbp officer   \n",
       "629  29.00           2     B          RENT       573.70                  HCA   \n",
       "559  14.29           4     A          RENT       484.47     Senior associatw   \n",
       "684  12.62           2     E          RENT       382.69      Account Managet   \n",
       "\n",
       "     loanDefault  mortAcc  pub_rec_bankruptcies             purpose  term  \\\n",
       "835   Fully Paid       10                     0  debt_consolidation    36   \n",
       "192   Fully Paid       13                     0  debt_consolidation    60   \n",
       "629   Fully Paid       14                     0  debt_consolidation    36   \n",
       "559   Fully Paid       15                     0  debt_consolidation    36   \n",
       "684  Charged Off        7                     0              moving    36   \n",
       "\n",
       "     Year  \n",
       "835  2015  \n",
       "192  2015  \n",
       "629  2013  \n",
       "559  2016  \n",
       "684  2014  "
      ]
     },
     "metadata": {},
     "output_type": "display_data"
    }
   ],
   "source": [
    "# Upload the data\n",
    "Data1 = pd.read_csv(\"loan_Data.csv\", delimiter = ';')\n",
    "\n",
    "# Shuffle the rows\n",
    "Data1 = Data1.sample(frac=1, random_state=0)\n",
    "\n",
    "# Print the last 5 rows\n",
    "display(Data1.tail())\n",
    "\n",
    "#2 pts"
   ]
  },
  {
   "cell_type": "code",
   "execution_count": 3,
   "metadata": {
    "id": "1VGBX5XJVBgn"
   },
   "outputs": [
    {
     "data": {
      "text/html": [
       "<div>\n",
       "<style scoped>\n",
       "    .dataframe tbody tr th:only-of-type {\n",
       "        vertical-align: middle;\n",
       "    }\n",
       "\n",
       "    .dataframe tbody tr th {\n",
       "        vertical-align: top;\n",
       "    }\n",
       "\n",
       "    .dataframe thead th {\n",
       "        text-align: right;\n",
       "    }\n",
       "</style>\n",
       "<table border=\"1\" class=\"dataframe\">\n",
       "  <thead>\n",
       "    <tr style=\"text-align: right;\">\n",
       "      <th></th>\n",
       "      <th>loanAmnt</th>\n",
       "      <th>annualInc</th>\n",
       "      <th>application_type</th>\n",
       "      <th>int_rate</th>\n",
       "      <th>revol_bal</th>\n",
       "      <th>revol_util</th>\n",
       "      <th>dti</th>\n",
       "      <th>emp_length</th>\n",
       "      <th>grade</th>\n",
       "      <th>homeOwnership</th>\n",
       "      <th>installment</th>\n",
       "      <th>job</th>\n",
       "      <th>mortAcc</th>\n",
       "      <th>pub_rec_bankruptcies</th>\n",
       "      <th>purpose</th>\n",
       "      <th>term</th>\n",
       "      <th>Year</th>\n",
       "      <th>loanDefault</th>\n",
       "    </tr>\n",
       "  </thead>\n",
       "  <tbody>\n",
       "    <tr>\n",
       "      <th>835</th>\n",
       "      <td>25000.0</td>\n",
       "      <td>112000.0</td>\n",
       "      <td>INDIVIDUAL</td>\n",
       "      <td>11.99</td>\n",
       "      <td>42261.0</td>\n",
       "      <td>70.7</td>\n",
       "      <td>11.14</td>\n",
       "      <td>10</td>\n",
       "      <td>B</td>\n",
       "      <td>MORTGAGE</td>\n",
       "      <td>830.24</td>\n",
       "      <td>VP dealer relations</td>\n",
       "      <td>10</td>\n",
       "      <td>0</td>\n",
       "      <td>debt_consolidation</td>\n",
       "      <td>36</td>\n",
       "      <td>2015</td>\n",
       "      <td>0</td>\n",
       "    </tr>\n",
       "    <tr>\n",
       "      <th>192</th>\n",
       "      <td>30000.0</td>\n",
       "      <td>101000.0</td>\n",
       "      <td>INDIVIDUAL</td>\n",
       "      <td>19.52</td>\n",
       "      <td>16300.0</td>\n",
       "      <td>48.7</td>\n",
       "      <td>19.88</td>\n",
       "      <td>7</td>\n",
       "      <td>E</td>\n",
       "      <td>MORTGAGE</td>\n",
       "      <td>786.83</td>\n",
       "      <td>cbp officer</td>\n",
       "      <td>13</td>\n",
       "      <td>0</td>\n",
       "      <td>debt_consolidation</td>\n",
       "      <td>60</td>\n",
       "      <td>2015</td>\n",
       "      <td>0</td>\n",
       "    </tr>\n",
       "    <tr>\n",
       "      <th>629</th>\n",
       "      <td>17000.0</td>\n",
       "      <td>73000.0</td>\n",
       "      <td>INDIVIDUAL</td>\n",
       "      <td>13.11</td>\n",
       "      <td>27909.0</td>\n",
       "      <td>66.3</td>\n",
       "      <td>29.00</td>\n",
       "      <td>2</td>\n",
       "      <td>B</td>\n",
       "      <td>RENT</td>\n",
       "      <td>573.70</td>\n",
       "      <td>HCA</td>\n",
       "      <td>14</td>\n",
       "      <td>0</td>\n",
       "      <td>debt_consolidation</td>\n",
       "      <td>36</td>\n",
       "      <td>2013</td>\n",
       "      <td>0</td>\n",
       "    </tr>\n",
       "    <tr>\n",
       "      <th>559</th>\n",
       "      <td>15600.0</td>\n",
       "      <td>67500.0</td>\n",
       "      <td>INDIVIDUAL</td>\n",
       "      <td>7.39</td>\n",
       "      <td>16146.0</td>\n",
       "      <td>43.9</td>\n",
       "      <td>14.29</td>\n",
       "      <td>4</td>\n",
       "      <td>A</td>\n",
       "      <td>RENT</td>\n",
       "      <td>484.47</td>\n",
       "      <td>Senior associatw</td>\n",
       "      <td>15</td>\n",
       "      <td>0</td>\n",
       "      <td>debt_consolidation</td>\n",
       "      <td>36</td>\n",
       "      <td>2016</td>\n",
       "      <td>0</td>\n",
       "    </tr>\n",
       "    <tr>\n",
       "      <th>684</th>\n",
       "      <td>10000.0</td>\n",
       "      <td>70000.0</td>\n",
       "      <td>INDIVIDUAL</td>\n",
       "      <td>22.15</td>\n",
       "      <td>6475.0</td>\n",
       "      <td>75.3</td>\n",
       "      <td>12.62</td>\n",
       "      <td>2</td>\n",
       "      <td>E</td>\n",
       "      <td>RENT</td>\n",
       "      <td>382.69</td>\n",
       "      <td>Account Managet</td>\n",
       "      <td>7</td>\n",
       "      <td>0</td>\n",
       "      <td>moving</td>\n",
       "      <td>36</td>\n",
       "      <td>2014</td>\n",
       "      <td>1</td>\n",
       "    </tr>\n",
       "  </tbody>\n",
       "</table>\n",
       "</div>"
      ],
      "text/plain": [
       "     loanAmnt  annualInc application_type  int_rate  revol_bal  revol_util  \\\n",
       "835   25000.0   112000.0       INDIVIDUAL     11.99    42261.0        70.7   \n",
       "192   30000.0   101000.0       INDIVIDUAL     19.52    16300.0        48.7   \n",
       "629   17000.0    73000.0       INDIVIDUAL     13.11    27909.0        66.3   \n",
       "559   15600.0    67500.0       INDIVIDUAL      7.39    16146.0        43.9   \n",
       "684   10000.0    70000.0       INDIVIDUAL     22.15     6475.0        75.3   \n",
       "\n",
       "       dti  emp_length grade homeOwnership  installment                  job  \\\n",
       "835  11.14          10     B      MORTGAGE       830.24  VP dealer relations   \n",
       "192  19.88           7     E      MORTGAGE       786.83          cbp officer   \n",
       "629  29.00           2     B          RENT       573.70                  HCA   \n",
       "559  14.29           4     A          RENT       484.47     Senior associatw   \n",
       "684  12.62           2     E          RENT       382.69      Account Managet   \n",
       "\n",
       "     mortAcc  pub_rec_bankruptcies             purpose  term  Year  \\\n",
       "835       10                     0  debt_consolidation    36  2015   \n",
       "192       13                     0  debt_consolidation    60  2015   \n",
       "629       14                     0  debt_consolidation    36  2013   \n",
       "559       15                     0  debt_consolidation    36  2016   \n",
       "684        7                     0              moving    36  2014   \n",
       "\n",
       "     loanDefault  \n",
       "835            0  \n",
       "192            0  \n",
       "629            0  \n",
       "559            0  \n",
       "684            1  "
      ]
     },
     "metadata": {},
     "output_type": "display_data"
    },
    {
     "data": {
      "text/plain": [
       "Index(['loanAmnt', 'annualInc', 'application_type', 'int_rate', 'revol_bal',\n",
       "       'revol_util', 'dti', 'emp_length', 'grade', 'homeOwnership',\n",
       "       'installment', 'job', 'mortAcc', 'pub_rec_bankruptcies', 'purpose',\n",
       "       'term', 'Year', 'loanDefault'],\n",
       "      dtype='object')"
      ]
     },
     "metadata": {},
     "output_type": "display_data"
    }
   ],
   "source": [
    "# Change loanDefault variable as binary\n",
    "Data1['loanDefault'] = pd.Categorical(Data1.loanDefault, categories = ['Fully Paid', 'Charged Off'])\n",
    "Data1 = pd.get_dummies(Data1, prefix = ['loanDefault'], columns = ['loanDefault'], drop_first = True)\n",
    "\n",
    "Data1.rename(columns={'loanDefault_Charged Off': 'loanDefault'}, inplace=True)\n",
    "\n",
    "display(Data1.tail())\n",
    "display(Data1.columns)\n",
    "# 2 pts"
   ]
  },
  {
   "cell_type": "code",
   "execution_count": 4,
   "metadata": {
    "id": "-kjM1JOvVBgp"
   },
   "outputs": [
    {
     "data": {
      "text/plain": [
       "(1000, 18)"
      ]
     },
     "metadata": {},
     "output_type": "display_data"
    }
   ],
   "source": [
    "# Print the dimension of Data1\n",
    "display(Data1.shape)\n",
    "# 1pt"
   ]
  },
  {
   "cell_type": "markdown",
   "metadata": {
    "id": "iCj9inZTVBgq"
   },
   "source": [
    "How many observations and columns does this data set have?"
   ]
  },
  {
   "cell_type": "markdown",
   "metadata": {
    "id": "gRsgLcxZVBgr"
   },
   "source": [
    "**ANSWER HERE:**[1pt] It has 18 columns and 1000 observations."
   ]
  },
  {
   "cell_type": "markdown",
   "metadata": {
    "id": "TMM9sMKUVBgr"
   },
   "source": [
    "Finally create a barchart with the the number of loans in default and non-default."
   ]
  },
  {
   "cell_type": "code",
   "execution_count": 5,
   "metadata": {
    "id": "CMC3SldgVBgu"
   },
   "outputs": [
    {
     "data": {
      "text/plain": [
       "<AxesSubplot:>"
      ]
     },
     "execution_count": 5,
     "metadata": {},
     "output_type": "execute_result"
    },
    {
     "data": {
      "image/png": "[encoded data removed]",
      "text/plain": [
       "<Figure size 432x288 with 1 Axes>"
      ]
     },
     "metadata": {},
     "output_type": "display_data"
    }
   ],
   "source": [
    "# Code to construct the bartchart \n",
    "Data1['loanDefault'].value_counts().plot(kind = 'bar')\n",
    "\n",
    "# 1pt"
   ]
  },
  {
   "cell_type": "code",
   "execution_count": 6,
   "metadata": {
    "id": "aH8N2KvfVBgw"
   },
   "outputs": [
    {
     "name": "stdout",
     "output_type": "stream",
     "text": [
      "Percentage of defaulters: 17.90\n"
     ]
    }
   ],
   "source": [
    "# Calculate the percentage of defaulters\n",
    "numDefault = Data1.loanDefault.sum()\n",
    "percentDefault = numDefault/1000 *100\n",
    "print(\"Percentage of defaulters: %.2f\" %percentDefault)\n",
    "# 1pt"
   ]
  },
  {
   "cell_type": "markdown",
   "metadata": {
    "id": "shJKYRSDVBgy"
   },
   "source": [
    "What is the percentage of defaulters in the data set?"
   ]
  },
  {
   "cell_type": "markdown",
   "metadata": {
    "id": "aV8n1aH3VBgy"
   },
   "source": [
    "**ANSWER HERE**[1pt] 17.90%"
   ]
  },
  {
   "cell_type": "markdown",
   "metadata": {
    "id": "FhYrSIQXVBgy"
   },
   "source": [
    "_____________"
   ]
  },
  {
   "cell_type": "markdown",
   "metadata": {
    "id": "XXAIxGdGVBgz"
   },
   "source": [
    "### Question 2: /10pts\n",
    "\n",
    "The hiring manager is surprised about the proportion of defaulters at the bank. You are asked to determine, using exploratory analysis, if the distribution of income is different between applicants who defaulted and applicants who did not default on their loans."
   ]
  },
  {
   "cell_type": "markdown",
   "metadata": {
    "id": "welvuvYFVBg0"
   },
   "source": [
    "#### 1 First, construct the histogram of the annual income for all the customers (Do not forget the labels in the axes)"
   ]
  },
  {
   "cell_type": "code",
   "execution_count": 7,
   "metadata": {
    "id": "JR86qp1ZVBg0"
   },
   "outputs": [
    {
     "data": {
      "text/plain": [
       "Text(0, 0.5, 'Count')"
      ]
     },
     "execution_count": 7,
     "metadata": {},
     "output_type": "execute_result"
    },
    {
     "data": {
      "image/png": "[encoded data removed]",
      "text/plain": [
       "<Figure size 432x288 with 1 Axes>"
      ]
     },
     "metadata": {},
     "output_type": "display_data"
    }
   ],
   "source": [
    "#Code to construct the histogram\n",
    "plt.hist(Data1['annualInc'])\n",
    "plt.xlabel(\"Annual Income\")\n",
    "plt.ylabel(\"Count\")\n",
    "# 1pt"
   ]
  },
  {
   "cell_type": "markdown",
   "metadata": {
    "id": "P__VWjDAVBg1"
   },
   "source": [
    "What do you notice about the distribution of the annual income variable?"
   ]
  },
  {
   "cell_type": "markdown",
   "metadata": {
    "id": "q-q3kYidVBg1"
   },
   "source": [
    "**ANSWER HERE**[1pt] "
   ]
  },
  {
   "cell_type": "markdown",
   "metadata": {
    "id": "M0VPZUNyVBg1"
   },
   "source": [
    "#### 2. You notice the characteristics of the annual income distribution. You remember from your DS 3000's assignment 5 that using a logarithmic transform is a good idea in those cases. Apply a logarithmic transform to the data and plot the new histogram. What do you observe?  Are there differences in the annual income between applicants who defaulted and applicants who did not default in their loans? \n"
   ]
  },
  {
   "cell_type": "code",
   "execution_count": 8,
   "metadata": {
    "id": "sDgGvg4fVBg2",
    "scrolled": true
   },
   "outputs": [
    {
     "data": {
      "text/plain": [
       "(array([  7.,  39., 131., 266., 336., 152.,  50.,  14.,   2.,   3.]),\n",
       " array([ 9.39266193,  9.80069776, 10.20873359, 10.61676942, 11.02480526,\n",
       "        11.43284109, 11.84087692, 12.24891275, 12.65694858, 13.06498442,\n",
       "        13.47302025]),\n",
       " <BarContainer object of 10 artists>)"
      ]
     },
     "execution_count": 8,
     "metadata": {},
     "output_type": "execute_result"
    },
    {
     "data": {
      "image/png": "[encoded data removed]",
      "text/plain": [
       "<Figure size 432x288 with 1 Axes>"
      ]
     },
     "metadata": {},
     "output_type": "display_data"
    }
   ],
   "source": [
    "#Code to construct the histogram\n",
    "\n",
    "plt.hist(np.log(Data1['annualInc']))\n",
    "\n",
    "\n",
    "# 6pts"
   ]
  },
  {
   "cell_type": "markdown",
   "metadata": {
    "id": "SZ4pe7fUVBg3"
   },
   "source": [
    "**ANSWER HERE**[2pts]  "
   ]
  },
  {
   "cell_type": "markdown",
   "metadata": {
    "id": "cHmb55I2VBg3"
   },
   "source": [
    "___________"
   ]
  },
  {
   "cell_type": "markdown",
   "metadata": {
    "id": "wrK1ceUIVBg4"
   },
   "source": [
    "### Question 3: /10\n",
    "\n",
    "The manager told you that the bank has a baseline model for predicting the default probability that consists of a standard logistic regression model with only one feature as the predictor."
   ]
  },
  {
   "cell_type": "markdown",
   "metadata": {
    "id": "LwhIISoSVBg4"
   },
   "source": [
    "You are told the predictor variable is the ratio between the yearly payment owed by the borrower and the annual income. You define this new variable as **ratio_inst_inc** column in your data set."
   ]
  },
  {
   "cell_type": "code",
   "execution_count": 9,
   "metadata": {
    "id": "uhcTqZt3VBg4"
   },
   "outputs": [
    {
     "data": {
      "text/html": [
       "<div>\n",
       "<style scoped>\n",
       "    .dataframe tbody tr th:only-of-type {\n",
       "        vertical-align: middle;\n",
       "    }\n",
       "\n",
       "    .dataframe tbody tr th {\n",
       "        vertical-align: top;\n",
       "    }\n",
       "\n",
       "    .dataframe thead th {\n",
       "        text-align: right;\n",
       "    }\n",
       "</style>\n",
       "<table border=\"1\" class=\"dataframe\">\n",
       "  <thead>\n",
       "    <tr style=\"text-align: right;\">\n",
       "      <th></th>\n",
       "      <th>loanAmnt</th>\n",
       "      <th>annualInc</th>\n",
       "      <th>application_type</th>\n",
       "      <th>int_rate</th>\n",
       "      <th>revol_bal</th>\n",
       "      <th>revol_util</th>\n",
       "      <th>dti</th>\n",
       "      <th>emp_length</th>\n",
       "      <th>grade</th>\n",
       "      <th>homeOwnership</th>\n",
       "      <th>installment</th>\n",
       "      <th>job</th>\n",
       "      <th>mortAcc</th>\n",
       "      <th>pub_rec_bankruptcies</th>\n",
       "      <th>purpose</th>\n",
       "      <th>term</th>\n",
       "      <th>Year</th>\n",
       "      <th>loanDefault</th>\n",
       "      <th>ratio_inst_inc</th>\n",
       "    </tr>\n",
       "  </thead>\n",
       "  <tbody>\n",
       "    <tr>\n",
       "      <th>993</th>\n",
       "      <td>30375.0</td>\n",
       "      <td>150000.0</td>\n",
       "      <td>INDIVIDUAL</td>\n",
       "      <td>14.31</td>\n",
       "      <td>55242.0</td>\n",
       "      <td>70.8</td>\n",
       "      <td>24.79</td>\n",
       "      <td>1</td>\n",
       "      <td>C</td>\n",
       "      <td>RENT</td>\n",
       "      <td>1042.73</td>\n",
       "      <td>Vice President</td>\n",
       "      <td>11</td>\n",
       "      <td>0</td>\n",
       "      <td>debt_consolidation</td>\n",
       "      <td>36</td>\n",
       "      <td>2015</td>\n",
       "      <td>0</td>\n",
       "      <td>0.083418</td>\n",
       "    </tr>\n",
       "    <tr>\n",
       "      <th>859</th>\n",
       "      <td>4950.0</td>\n",
       "      <td>17000.0</td>\n",
       "      <td>INDIVIDUAL</td>\n",
       "      <td>18.85</td>\n",
       "      <td>5944.0</td>\n",
       "      <td>91.4</td>\n",
       "      <td>21.32</td>\n",
       "      <td>3</td>\n",
       "      <td>D</td>\n",
       "      <td>MORTGAGE</td>\n",
       "      <td>181.08</td>\n",
       "      <td>Fairmont Hot Srings</td>\n",
       "      <td>4</td>\n",
       "      <td>0</td>\n",
       "      <td>other</td>\n",
       "      <td>36</td>\n",
       "      <td>2013</td>\n",
       "      <td>0</td>\n",
       "      <td>0.127821</td>\n",
       "    </tr>\n",
       "    <tr>\n",
       "      <th>298</th>\n",
       "      <td>4000.0</td>\n",
       "      <td>41000.0</td>\n",
       "      <td>INDIVIDUAL</td>\n",
       "      <td>16.49</td>\n",
       "      <td>7303.0</td>\n",
       "      <td>46.5</td>\n",
       "      <td>5.30</td>\n",
       "      <td>1</td>\n",
       "      <td>D</td>\n",
       "      <td>MORTGAGE</td>\n",
       "      <td>141.60</td>\n",
       "      <td>front desk</td>\n",
       "      <td>8</td>\n",
       "      <td>0</td>\n",
       "      <td>home_improvement</td>\n",
       "      <td>36</td>\n",
       "      <td>2014</td>\n",
       "      <td>0</td>\n",
       "      <td>0.041444</td>\n",
       "    </tr>\n",
       "    <tr>\n",
       "      <th>553</th>\n",
       "      <td>10000.0</td>\n",
       "      <td>65000.0</td>\n",
       "      <td>INDIVIDUAL</td>\n",
       "      <td>9.67</td>\n",
       "      <td>13917.0</td>\n",
       "      <td>58.0</td>\n",
       "      <td>5.42</td>\n",
       "      <td>4</td>\n",
       "      <td>B</td>\n",
       "      <td>MORTGAGE</td>\n",
       "      <td>321.13</td>\n",
       "      <td>Teacher</td>\n",
       "      <td>9</td>\n",
       "      <td>0</td>\n",
       "      <td>credit_card</td>\n",
       "      <td>36</td>\n",
       "      <td>2014</td>\n",
       "      <td>0</td>\n",
       "      <td>0.059286</td>\n",
       "    </tr>\n",
       "    <tr>\n",
       "      <th>672</th>\n",
       "      <td>8975.0</td>\n",
       "      <td>30000.0</td>\n",
       "      <td>INDIVIDUAL</td>\n",
       "      <td>16.29</td>\n",
       "      <td>10265.0</td>\n",
       "      <td>60.0</td>\n",
       "      <td>21.00</td>\n",
       "      <td>1</td>\n",
       "      <td>C</td>\n",
       "      <td>RENT</td>\n",
       "      <td>316.83</td>\n",
       "      <td>Shoemake Electric</td>\n",
       "      <td>15</td>\n",
       "      <td>0</td>\n",
       "      <td>debt_consolidation</td>\n",
       "      <td>36</td>\n",
       "      <td>2012</td>\n",
       "      <td>1</td>\n",
       "      <td>0.126732</td>\n",
       "    </tr>\n",
       "  </tbody>\n",
       "</table>\n",
       "</div>"
      ],
      "text/plain": [
       "     loanAmnt  annualInc application_type  int_rate  revol_bal  revol_util  \\\n",
       "993   30375.0   150000.0       INDIVIDUAL     14.31    55242.0        70.8   \n",
       "859    4950.0    17000.0       INDIVIDUAL     18.85     5944.0        91.4   \n",
       "298    4000.0    41000.0       INDIVIDUAL     16.49     7303.0        46.5   \n",
       "553   10000.0    65000.0       INDIVIDUAL      9.67    13917.0        58.0   \n",
       "672    8975.0    30000.0       INDIVIDUAL     16.29    10265.0        60.0   \n",
       "\n",
       "       dti  emp_length grade homeOwnership  installment                  job  \\\n",
       "993  24.79           1     C          RENT      1042.73       Vice President   \n",
       "859  21.32           3     D      MORTGAGE       181.08  Fairmont Hot Srings   \n",
       "298   5.30           1     D      MORTGAGE       141.60           front desk   \n",
       "553   5.42           4     B      MORTGAGE       321.13              Teacher   \n",
       "672  21.00           1     C          RENT       316.83   Shoemake Electric    \n",
       "\n",
       "     mortAcc  pub_rec_bankruptcies             purpose  term  Year  \\\n",
       "993       11                     0  debt_consolidation    36  2015   \n",
       "859        4                     0               other    36  2013   \n",
       "298        8                     0    home_improvement    36  2014   \n",
       "553        9                     0         credit_card    36  2014   \n",
       "672       15                     0  debt_consolidation    36  2012   \n",
       "\n",
       "     loanDefault  ratio_inst_inc  \n",
       "993            0        0.083418  \n",
       "859            0        0.127821  \n",
       "298            0        0.041444  \n",
       "553            0        0.059286  \n",
       "672            1        0.126732  "
      ]
     },
     "execution_count": 9,
     "metadata": {},
     "output_type": "execute_result"
    }
   ],
   "source": [
    "# Create the new variable ratio_inst_inc, remember the variable installment is given as a monthly payment\n",
    "\n",
    "Data1['ratio_inst_inc'] = 12*Data1['installment']/Data1['annualInc']\n",
    "Data1.head()\n",
    "# 1 pts"
   ]
  },
  {
   "cell_type": "markdown",
   "metadata": {
    "id": "FGomBfadVBg5"
   },
   "source": [
    "Create a basic logistic regression model (with default penalization) named `model_single`. The manager wants you to create a model pipeline to be fit later. (Use `solver='lbfgs'`, `max_iter=10000` and `random_state=0`)"
   ]
  },
  {
   "cell_type": "code",
   "execution_count": 10,
   "metadata": {
    "id": "eDPnCqRMVBg5"
   },
   "outputs": [],
   "source": [
    "model_single = LogisticRegression(solver = 'lbfgs', max_iter=10000, random_state=0)\n",
    "\n",
    "\n",
    "model1 = Pipeline([\n",
    "    ('logreg', LogisticRegression())\n",
    "])\n",
    "#1 pt"
   ]
  },
  {
   "cell_type": "markdown",
   "metadata": {
    "id": "9M0KZ_sHVBg6"
   },
   "source": [
    "Now that you have created the pipeline, fit `model1` for predicting the loan default with only one feature: `ratio_inst_inc`. Use a 70/30 train-test split of the data, remember to set `random_state=0` in the function `train_test_split`. After that, evaluate this model plotting the ROC curve and report the AUC value. "
   ]
  },
  {
   "cell_type": "code",
   "execution_count": 11,
   "metadata": {
    "id": "wTaPSJkNVBg6"
   },
   "outputs": [
    {
     "data": {
      "text/plain": [
       "Pipeline(steps=[('logreg', LogisticRegression())])"
      ]
     },
     "execution_count": 11,
     "metadata": {},
     "output_type": "execute_result"
    }
   ],
   "source": [
    "# Create the training and test data\n",
    "X = np.c_[Data1[\"ratio_inst_inc\"]]\n",
    "y = Data1['loanDefault']\n",
    "\n",
    "Xtrain, Xtest, ytrain, ytest = train_test_split(X, y, test_size = 0.3, random_state = 0)\n",
    "\n",
    "model1.fit(Xtrain, ytrain)\n",
    "\n",
    "\n",
    "# 3pts"
   ]
  },
  {
   "cell_type": "code",
   "execution_count": 12,
   "metadata": {
    "id": "yRkEdpv5VBg7"
   },
   "outputs": [
    {
     "name": "stderr",
     "output_type": "stream",
     "text": [
      "C:\\Users\\VBran\\anaconda3\\lib\\site-packages\\seaborn\\_decorators.py:36: FutureWarning: Pass the following variables as keyword args: x, y. From version 0.12, the only valid positional argument will be `data`, and passing other arguments without an explicit keyword will result in an error or misinterpretation.\n",
      "  warnings.warn(\n"
     ]
    },
    {
     "data": {
      "text/plain": [
       "0.5360934993506989"
      ]
     },
     "metadata": {},
     "output_type": "display_data"
    },
    {
     "data": {
      "image/png": "[encoded data removed]",
      "text/plain": [
       "<Figure size 432x288 with 1 Axes>"
      ]
     },
     "metadata": {},
     "output_type": "display_data"
    }
   ],
   "source": [
    "# Create the ROC curve and report AUC\n",
    "\n",
    "ytest_prob = model1.predict_proba(Xtest)\n",
    "\n",
    "fpr, tpr, _ = roc_curve(ytest, ytest_prob[:,1], pos_label = 1) \n",
    "\n",
    "ax = sns.lineplot(fpr, tpr)\n",
    "plt.xlabel(\"False Positive Rate\")\n",
    "plt.ylabel(\"True Positive Rate\")\n",
    "plt.title(\"ROC Curve for Model 1\")\n",
    "\n",
    "display(auc(fpr,tpr)) #AUC\n",
    "\n",
    "#3pts"
   ]
  },
  {
   "cell_type": "markdown",
   "metadata": {
    "id": "4i-rtlvIVBg7"
   },
   "source": [
    "The manager asks you if you advice the bank to continue using the baseline model. Why or why not?\n"
   ]
  },
  {
   "cell_type": "markdown",
   "metadata": {
    "id": "T3GpzT9GVBg7"
   },
   "source": [
    "**ANSWER HERE**\n",
    "\n",
    "[2 pt] \n"
   ]
  },
  {
   "cell_type": "markdown",
   "metadata": {
    "id": "4agkzZ79VBg8"
   },
   "source": [
    "____________"
   ]
  },
  {
   "cell_type": "markdown",
   "metadata": {
    "id": "XJw0iWztVBg8"
   },
   "source": [
    "### Question 4: /40\n",
    "\n",
    "The manager wants you to determine the best single numeric feature model to predict the default status. You are asked to create a model per each numeric variable: `mortAcc`, `pub_rec_bankruptcies`,`Log_annAmnt` `revol_util`  , `emp_length` `revol_bal`,`dti`, `ratio_inst_inc`,`Log_annualInc`,`term`,             `int_rate`. He also advises you to use the cross-validation technique to make your decision. \n"
   ]
  },
  {
   "cell_type": "markdown",
   "metadata": {
    "id": "LZVHp9H8VBg8"
   },
   "source": [
    "You remember that *cross-validation* is used to find the expected \n",
    "test error of the models. In addition, in the next code, 5 different folds are displayed using 5 fold cross-validation, using the `StratifiedKFold()` function."
   ]
  },
  {
   "cell_type": "code",
   "execution_count": 13,
   "metadata": {
    "id": "FloVxyf7VBg9"
   },
   "outputs": [
    {
     "data": {
      "text/plain": [
       "Text(0.5, 1.0, 'Cross Validation ')"
      ]
     },
     "execution_count": 13,
     "metadata": {},
     "output_type": "execute_result"
    },
    {
     "data": {
      "image/png": "[encoded data removed]",
      "text/plain": [
       "<Figure size 432x288 with 1 Axes>"
      ]
     },
     "metadata": {},
     "output_type": "display_data"
    }
   ],
   "source": [
    "# code in which you remember cross-validation technique\n",
    "str_kf = StratifiedKFold(n_splits=5)\n",
    "for j, (index_train, index_test) in enumerate(str_kf.split(X,y)):\n",
    "    plt.plot(index_train, [j+1 for s in index_train], '.')\n",
    "plt.title('Cross Validation ')"
   ]
  },
  {
   "cell_type": "markdown",
   "metadata": {
    "id": "ggqt7ljaVBg9"
   },
   "source": [
    "#### 4.1: /5\n",
    "**Define a function `AUC_calculation` with inputs `(X, y, index_train, index_test)`  which calculates the AUC of the `model1` trained on `index_train` and tested on `index_test`.**"
   ]
  },
  {
   "cell_type": "code",
   "execution_count": 14,
   "metadata": {
    "id": "kRoh-MeyVBg-"
   },
   "outputs": [],
   "source": [
    "def AUC_calculation(X, y, index_train, index_test):\n",
    "    # Define Xtrain, ytrain, Xtest, ytest \n",
    "    Xtrain, ytrain = X[index_train],  y[index_train]\n",
    "    Xtest, ytest =  X[index_test], y[index_test] \n",
    "    #fit the model and predict the default probabilities\n",
    "    \n",
    "    model1.fit(Xtrain, ytrain)\n",
    "    y_prob = model1.predict_proba(Xtest)\n",
    "    \n",
    "    fpr, tpr, _ = roc_curve(ytest, ytest_prob[:,1], pos_label = 1) \n",
    "    \n",
    "    # Calculate the auc score\n",
    "    auc = auc(fpr,tpr)\n",
    "     \n",
    "    return auc\n",
    "# 5 pts"
   ]
  },
  {
   "cell_type": "markdown",
   "metadata": {
    "id": "dlBwMYwbVBg_"
   },
   "source": [
    "#### 4.2: /8\n",
    "**Using `AUC_calculation` create a function named `AUC_cross_validation` which has as input (X, y, n_fold). `AUC_cross_validation` does a `n_fold` cross validation (using `StratifiedKFold`). The function's output should be a list with the AUC for each fold.** "
   ]
  },
  {
   "cell_type": "code",
   "execution_count": 15,
   "metadata": {
    "id": "zhWlUKY3VBhA"
   },
   "outputs": [],
   "source": [
    "def AUC_cross_validation(X, y, n_fold):\n",
    "    # Create the stratified folds\n",
    "    str_kf = StratifiedKFold(n_splits=n_fold)\n",
    "    # list with the auc scores\n",
    "    list_auc = []\n",
    "    # hint: take as guide the code in which you remembered cross-validation technique\n",
    "    for j, (index_train, index_test) in enumerate(str_kf.split(X,y)):\n",
    "        list_auc[j] = AUC_calcualtion(X,y, index_train, index_test)\n",
    "    \n",
    "    return list_auc\n",
    "# 8pts "
   ]
  },
  {
   "cell_type": "markdown",
   "metadata": {
    "id": "u55LilrfVBhB"
   },
   "source": [
    "#### 4.3: /5\n",
    "**Now you are ready to estimate and compare using cross validation the performance of all the *simple models* that only use one numeric predictor as input. Remember to use the logarithm transformation for the `annualInc` and  `loanAmnt` variables. You do not include `Year` and `installment` variables.**"
   ]
  },
  {
   "cell_type": "code",
   "execution_count": 16,
   "metadata": {
    "id": "UtEU2GG7VBhC"
   },
   "outputs": [
    {
     "name": "stderr",
     "output_type": "stream",
     "text": [
      "C:\\Users\\VBran\\AppData\\Local\\Temp/ipykernel_26844/1693896280.py:8: SettingWithCopyWarning: \n",
      "A value is trying to be set on a copy of a slice from a DataFrame.\n",
      "Try using .loc[row_indexer,col_indexer] = value instead\n",
      "\n",
      "See the caveats in the documentation: https://pandas.pydata.org/pandas-docs/stable/user_guide/indexing.html#returning-a-view-versus-a-copy\n",
      "  Data1_num['Log_annualInc'] = np.log(Data1_num['annualInc'])\n",
      "C:\\Users\\VBran\\AppData\\Local\\Temp/ipykernel_26844/1693896280.py:9: SettingWithCopyWarning: \n",
      "A value is trying to be set on a copy of a slice from a DataFrame.\n",
      "Try using .loc[row_indexer,col_indexer] = value instead\n",
      "\n",
      "See the caveats in the documentation: https://pandas.pydata.org/pandas-docs/stable/user_guide/indexing.html#returning-a-view-versus-a-copy\n",
      "  Data1_num['Log_loanAmnt'] = np.log(Data1_num['loanAmnt'])\n",
      "C:\\Users\\VBran\\anaconda3\\lib\\site-packages\\pandas\\core\\frame.py:4906: SettingWithCopyWarning: \n",
      "A value is trying to be set on a copy of a slice from a DataFrame\n",
      "\n",
      "See the caveats in the documentation: https://pandas.pydata.org/pandas-docs/stable/user_guide/indexing.html#returning-a-view-versus-a-copy\n",
      "  return super().drop(\n"
     ]
    },
    {
     "data": {
      "text/html": [
       "<div>\n",
       "<style scoped>\n",
       "    .dataframe tbody tr th:only-of-type {\n",
       "        vertical-align: middle;\n",
       "    }\n",
       "\n",
       "    .dataframe tbody tr th {\n",
       "        vertical-align: top;\n",
       "    }\n",
       "\n",
       "    .dataframe thead th {\n",
       "        text-align: right;\n",
       "    }\n",
       "</style>\n",
       "<table border=\"1\" class=\"dataframe\">\n",
       "  <thead>\n",
       "    <tr style=\"text-align: right;\">\n",
       "      <th></th>\n",
       "      <th>int_rate</th>\n",
       "      <th>revol_bal</th>\n",
       "      <th>revol_util</th>\n",
       "      <th>dti</th>\n",
       "      <th>emp_length</th>\n",
       "      <th>mortAcc</th>\n",
       "      <th>pub_rec_bankruptcies</th>\n",
       "      <th>term</th>\n",
       "      <th>loanDefault</th>\n",
       "      <th>ratio_inst_inc</th>\n",
       "      <th>Log_annualInc</th>\n",
       "      <th>Log_loanAmnt</th>\n",
       "    </tr>\n",
       "  </thead>\n",
       "  <tbody>\n",
       "    <tr>\n",
       "      <th>993</th>\n",
       "      <td>14.31</td>\n",
       "      <td>55242.0</td>\n",
       "      <td>70.8</td>\n",
       "      <td>24.79</td>\n",
       "      <td>1</td>\n",
       "      <td>11</td>\n",
       "      <td>0</td>\n",
       "      <td>36</td>\n",
       "      <td>0</td>\n",
       "      <td>0.083418</td>\n",
       "      <td>11.918391</td>\n",
       "      <td>10.321375</td>\n",
       "    </tr>\n",
       "    <tr>\n",
       "      <th>859</th>\n",
       "      <td>18.85</td>\n",
       "      <td>5944.0</td>\n",
       "      <td>91.4</td>\n",
       "      <td>21.32</td>\n",
       "      <td>3</td>\n",
       "      <td>4</td>\n",
       "      <td>0</td>\n",
       "      <td>36</td>\n",
       "      <td>0</td>\n",
       "      <td>0.127821</td>\n",
       "      <td>9.740969</td>\n",
       "      <td>8.507143</td>\n",
       "    </tr>\n",
       "    <tr>\n",
       "      <th>298</th>\n",
       "      <td>16.49</td>\n",
       "      <td>7303.0</td>\n",
       "      <td>46.5</td>\n",
       "      <td>5.30</td>\n",
       "      <td>1</td>\n",
       "      <td>8</td>\n",
       "      <td>0</td>\n",
       "      <td>36</td>\n",
       "      <td>0</td>\n",
       "      <td>0.041444</td>\n",
       "      <td>10.621327</td>\n",
       "      <td>8.294050</td>\n",
       "    </tr>\n",
       "    <tr>\n",
       "      <th>553</th>\n",
       "      <td>9.67</td>\n",
       "      <td>13917.0</td>\n",
       "      <td>58.0</td>\n",
       "      <td>5.42</td>\n",
       "      <td>4</td>\n",
       "      <td>9</td>\n",
       "      <td>0</td>\n",
       "      <td>36</td>\n",
       "      <td>0</td>\n",
       "      <td>0.059286</td>\n",
       "      <td>11.082143</td>\n",
       "      <td>9.210340</td>\n",
       "    </tr>\n",
       "    <tr>\n",
       "      <th>672</th>\n",
       "      <td>16.29</td>\n",
       "      <td>10265.0</td>\n",
       "      <td>60.0</td>\n",
       "      <td>21.00</td>\n",
       "      <td>1</td>\n",
       "      <td>15</td>\n",
       "      <td>0</td>\n",
       "      <td>36</td>\n",
       "      <td>1</td>\n",
       "      <td>0.126732</td>\n",
       "      <td>10.308953</td>\n",
       "      <td>9.102198</td>\n",
       "    </tr>\n",
       "  </tbody>\n",
       "</table>\n",
       "</div>"
      ],
      "text/plain": [
       "     int_rate  revol_bal  revol_util    dti  emp_length  mortAcc  \\\n",
       "993     14.31    55242.0        70.8  24.79           1       11   \n",
       "859     18.85     5944.0        91.4  21.32           3        4   \n",
       "298     16.49     7303.0        46.5   5.30           1        8   \n",
       "553      9.67    13917.0        58.0   5.42           4        9   \n",
       "672     16.29    10265.0        60.0  21.00           1       15   \n",
       "\n",
       "     pub_rec_bankruptcies  term  loanDefault  ratio_inst_inc  Log_annualInc  \\\n",
       "993                     0    36            0        0.083418      11.918391   \n",
       "859                     0    36            0        0.127821       9.740969   \n",
       "298                     0    36            0        0.041444      10.621327   \n",
       "553                     0    36            0        0.059286      11.082143   \n",
       "672                     0    36            1        0.126732      10.308953   \n",
       "\n",
       "     Log_loanAmnt  \n",
       "993     10.321375  \n",
       "859      8.507143  \n",
       "298      8.294050  \n",
       "553      9.210340  \n",
       "672      9.102198  "
      ]
     },
     "metadata": {},
     "output_type": "display_data"
    }
   ],
   "source": [
    "# Extract from Data1 only the numeric features\n",
    "\n",
    "Data1_num = Data1.select_dtypes(include=np.number)\n",
    "\n",
    "# Transform the variables using logarithm function, name these new variables\n",
    "# Log_annualInc and Log_annAmnt \n",
    "\n",
    "Data1_num['Log_annualInc'] = np.log(Data1_num['annualInc'])\n",
    "Data1_num['Log_loanAmnt'] = np.log(Data1_num['loanAmnt'])\n",
    "\n",
    "# Eliminate the variables Year and installment,and the originals\n",
    "# annualInc and loanAmnt\n",
    "Data1_num.drop('Year', inplace = True, axis = 'columns')\n",
    "Data1_num.drop('installment', inplace = True, axis = 'columns')\n",
    "Data1_num.drop('loanAmnt', inplace = True, axis = 'columns')\n",
    "Data1_num.drop('annualInc', inplace = True, axis = 'columns')\n",
    "\n",
    "# print the first 5 rows of Data1_num\n",
    "display(Data1_num.head())\n",
    "# 5pts"
   ]
  },
  {
   "cell_type": "markdown",
   "metadata": {
    "id": "DkEyRVeaVBhC"
   },
   "source": [
    "#### 4.4: /8\n",
    "\n",
    "**Use your function `AUC_cross_validation` to compute cross-validation estimates of the AUC for each single numeric feature model, use a data frame (named `AUC_models`) to report the AUC value for each fold and each of the models. (Use `n_fold=10`).**\n",
    "\n",
    "**The column names of `AUC_models` have to be in the form `Simple-numeric predictor variable`, e.g `simple-int_rate`.**"
   ]
  },
  {
   "cell_type": "code",
   "execution_count": 24,
   "metadata": {
    "id": "v5zUEaWCVBhC"
   },
   "outputs": [
    {
     "name": "stdout",
     "output_type": "stream",
     "text": [
      "int_rate\n"
     ]
    },
    {
     "ename": "ValueError",
     "evalue": "Supported target types are: ('binary', 'multiclass'). Got 'continuous' instead.",
     "output_type": "error",
     "traceback": [
      "\u001b[1;31m---------------------------------------------------------------------------\u001b[0m",
      "\u001b[1;31mValueError\u001b[0m                                Traceback (most recent call last)",
      "\u001b[1;32m~\\AppData\\Local\\Temp/ipykernel_26844/3197847302.py\u001b[0m in \u001b[0;36m<module>\u001b[1;34m\u001b[0m\n\u001b[0;32m      7\u001b[0m     \u001b[0mX\u001b[0m \u001b[1;33m=\u001b[0m \u001b[0mData1_num\u001b[0m\u001b[1;33m.\u001b[0m\u001b[0mdrop\u001b[0m\u001b[1;33m(\u001b[0m\u001b[0mcolumn\u001b[0m\u001b[1;33m,\u001b[0m \u001b[0maxis\u001b[0m\u001b[1;33m=\u001b[0m\u001b[1;34m'columns'\u001b[0m\u001b[1;33m)\u001b[0m\u001b[1;33m\u001b[0m\u001b[1;33m\u001b[0m\u001b[0m\n\u001b[0;32m      8\u001b[0m     \u001b[0my\u001b[0m \u001b[1;33m=\u001b[0m \u001b[0mData1_num\u001b[0m\u001b[1;33m[\u001b[0m\u001b[0mcolumn\u001b[0m\u001b[1;33m]\u001b[0m\u001b[1;33m\u001b[0m\u001b[1;33m\u001b[0m\u001b[0m\n\u001b[1;32m----> 9\u001b[1;33m     \u001b[0mmyCol\u001b[0m \u001b[1;33m=\u001b[0m \u001b[0mAUC_cross_validation\u001b[0m\u001b[1;33m(\u001b[0m\u001b[0mX\u001b[0m\u001b[1;33m,\u001b[0m \u001b[0my\u001b[0m\u001b[1;33m,\u001b[0m \u001b[0mn_fold\u001b[0m \u001b[1;33m=\u001b[0m \u001b[1;36m10\u001b[0m\u001b[1;33m)\u001b[0m\u001b[1;33m\u001b[0m\u001b[1;33m\u001b[0m\u001b[0m\n\u001b[0m\u001b[0;32m     10\u001b[0m \u001b[1;33m\u001b[0m\u001b[0m\n\u001b[0;32m     11\u001b[0m     \u001b[0mAUC_models\u001b[0m\u001b[1;33m.\u001b[0m\u001b[0mcolumn\u001b[0m \u001b[1;33m=\u001b[0m \u001b[0mmyCol\u001b[0m\u001b[1;33m\u001b[0m\u001b[1;33m\u001b[0m\u001b[0m\n",
      "\u001b[1;32m~\\AppData\\Local\\Temp/ipykernel_26844/1420567794.py\u001b[0m in \u001b[0;36mAUC_cross_validation\u001b[1;34m(X, y, n_fold)\u001b[0m\n\u001b[0;32m      5\u001b[0m     \u001b[0mlist_auc\u001b[0m \u001b[1;33m=\u001b[0m \u001b[1;33m[\u001b[0m\u001b[1;33m]\u001b[0m\u001b[1;33m\u001b[0m\u001b[1;33m\u001b[0m\u001b[0m\n\u001b[0;32m      6\u001b[0m     \u001b[1;31m# hint: take as guide the code in which you remembered cross-validation technique\u001b[0m\u001b[1;33m\u001b[0m\u001b[1;33m\u001b[0m\u001b[0m\n\u001b[1;32m----> 7\u001b[1;33m     \u001b[1;32mfor\u001b[0m \u001b[0mj\u001b[0m\u001b[1;33m,\u001b[0m \u001b[1;33m(\u001b[0m\u001b[0mindex_train\u001b[0m\u001b[1;33m,\u001b[0m \u001b[0mindex_test\u001b[0m\u001b[1;33m)\u001b[0m \u001b[1;32min\u001b[0m \u001b[0menumerate\u001b[0m\u001b[1;33m(\u001b[0m\u001b[0mstr_kf\u001b[0m\u001b[1;33m.\u001b[0m\u001b[0msplit\u001b[0m\u001b[1;33m(\u001b[0m\u001b[0mX\u001b[0m\u001b[1;33m,\u001b[0m\u001b[0my\u001b[0m\u001b[1;33m)\u001b[0m\u001b[1;33m)\u001b[0m\u001b[1;33m:\u001b[0m\u001b[1;33m\u001b[0m\u001b[1;33m\u001b[0m\u001b[0m\n\u001b[0m\u001b[0;32m      8\u001b[0m         \u001b[0mlist_auc\u001b[0m\u001b[1;33m[\u001b[0m\u001b[0mj\u001b[0m\u001b[1;33m]\u001b[0m \u001b[1;33m=\u001b[0m \u001b[0mAUC_calcualtion\u001b[0m\u001b[1;33m(\u001b[0m\u001b[0mX\u001b[0m\u001b[1;33m,\u001b[0m\u001b[0my\u001b[0m\u001b[1;33m,\u001b[0m \u001b[0mindex_train\u001b[0m\u001b[1;33m,\u001b[0m \u001b[0mindex_test\u001b[0m\u001b[1;33m)\u001b[0m\u001b[1;33m\u001b[0m\u001b[1;33m\u001b[0m\u001b[0m\n\u001b[0;32m      9\u001b[0m \u001b[1;33m\u001b[0m\u001b[0m\n",
      "\u001b[1;32m~\\anaconda3\\lib\\site-packages\\sklearn\\model_selection\\_split.py\u001b[0m in \u001b[0;36msplit\u001b[1;34m(self, X, y, groups)\u001b[0m\n\u001b[0;32m    330\u001b[0m                 .format(self.n_splits, n_samples))\n\u001b[0;32m    331\u001b[0m \u001b[1;33m\u001b[0m\u001b[0m\n\u001b[1;32m--> 332\u001b[1;33m         \u001b[1;32mfor\u001b[0m \u001b[0mtrain\u001b[0m\u001b[1;33m,\u001b[0m \u001b[0mtest\u001b[0m \u001b[1;32min\u001b[0m \u001b[0msuper\u001b[0m\u001b[1;33m(\u001b[0m\u001b[1;33m)\u001b[0m\u001b[1;33m.\u001b[0m\u001b[0msplit\u001b[0m\u001b[1;33m(\u001b[0m\u001b[0mX\u001b[0m\u001b[1;33m,\u001b[0m \u001b[0my\u001b[0m\u001b[1;33m,\u001b[0m \u001b[0mgroups\u001b[0m\u001b[1;33m)\u001b[0m\u001b[1;33m:\u001b[0m\u001b[1;33m\u001b[0m\u001b[1;33m\u001b[0m\u001b[0m\n\u001b[0m\u001b[0;32m    333\u001b[0m             \u001b[1;32myield\u001b[0m \u001b[0mtrain\u001b[0m\u001b[1;33m,\u001b[0m \u001b[0mtest\u001b[0m\u001b[1;33m\u001b[0m\u001b[1;33m\u001b[0m\u001b[0m\n\u001b[0;32m    334\u001b[0m \u001b[1;33m\u001b[0m\u001b[0m\n",
      "\u001b[1;32m~\\anaconda3\\lib\\site-packages\\sklearn\\model_selection\\_split.py\u001b[0m in \u001b[0;36msplit\u001b[1;34m(self, X, y, groups)\u001b[0m\n\u001b[0;32m     78\u001b[0m         \u001b[0mX\u001b[0m\u001b[1;33m,\u001b[0m \u001b[0my\u001b[0m\u001b[1;33m,\u001b[0m \u001b[0mgroups\u001b[0m \u001b[1;33m=\u001b[0m \u001b[0mindexable\u001b[0m\u001b[1;33m(\u001b[0m\u001b[0mX\u001b[0m\u001b[1;33m,\u001b[0m \u001b[0my\u001b[0m\u001b[1;33m,\u001b[0m \u001b[0mgroups\u001b[0m\u001b[1;33m)\u001b[0m\u001b[1;33m\u001b[0m\u001b[1;33m\u001b[0m\u001b[0m\n\u001b[0;32m     79\u001b[0m         \u001b[0mindices\u001b[0m \u001b[1;33m=\u001b[0m \u001b[0mnp\u001b[0m\u001b[1;33m.\u001b[0m\u001b[0marange\u001b[0m\u001b[1;33m(\u001b[0m\u001b[0m_num_samples\u001b[0m\u001b[1;33m(\u001b[0m\u001b[0mX\u001b[0m\u001b[1;33m)\u001b[0m\u001b[1;33m)\u001b[0m\u001b[1;33m\u001b[0m\u001b[1;33m\u001b[0m\u001b[0m\n\u001b[1;32m---> 80\u001b[1;33m         \u001b[1;32mfor\u001b[0m \u001b[0mtest_index\u001b[0m \u001b[1;32min\u001b[0m \u001b[0mself\u001b[0m\u001b[1;33m.\u001b[0m\u001b[0m_iter_test_masks\u001b[0m\u001b[1;33m(\u001b[0m\u001b[0mX\u001b[0m\u001b[1;33m,\u001b[0m \u001b[0my\u001b[0m\u001b[1;33m,\u001b[0m \u001b[0mgroups\u001b[0m\u001b[1;33m)\u001b[0m\u001b[1;33m:\u001b[0m\u001b[1;33m\u001b[0m\u001b[1;33m\u001b[0m\u001b[0m\n\u001b[0m\u001b[0;32m     81\u001b[0m             \u001b[0mtrain_index\u001b[0m \u001b[1;33m=\u001b[0m \u001b[0mindices\u001b[0m\u001b[1;33m[\u001b[0m\u001b[0mnp\u001b[0m\u001b[1;33m.\u001b[0m\u001b[0mlogical_not\u001b[0m\u001b[1;33m(\u001b[0m\u001b[0mtest_index\u001b[0m\u001b[1;33m)\u001b[0m\u001b[1;33m]\u001b[0m\u001b[1;33m\u001b[0m\u001b[1;33m\u001b[0m\u001b[0m\n\u001b[0;32m     82\u001b[0m             \u001b[0mtest_index\u001b[0m \u001b[1;33m=\u001b[0m \u001b[0mindices\u001b[0m\u001b[1;33m[\u001b[0m\u001b[0mtest_index\u001b[0m\u001b[1;33m]\u001b[0m\u001b[1;33m\u001b[0m\u001b[1;33m\u001b[0m\u001b[0m\n",
      "\u001b[1;32m~\\anaconda3\\lib\\site-packages\\sklearn\\model_selection\\_split.py\u001b[0m in \u001b[0;36m_iter_test_masks\u001b[1;34m(self, X, y, groups)\u001b[0m\n\u001b[0;32m    691\u001b[0m \u001b[1;33m\u001b[0m\u001b[0m\n\u001b[0;32m    692\u001b[0m     \u001b[1;32mdef\u001b[0m \u001b[0m_iter_test_masks\u001b[0m\u001b[1;33m(\u001b[0m\u001b[0mself\u001b[0m\u001b[1;33m,\u001b[0m \u001b[0mX\u001b[0m\u001b[1;33m,\u001b[0m \u001b[0my\u001b[0m\u001b[1;33m=\u001b[0m\u001b[1;32mNone\u001b[0m\u001b[1;33m,\u001b[0m \u001b[0mgroups\u001b[0m\u001b[1;33m=\u001b[0m\u001b[1;32mNone\u001b[0m\u001b[1;33m)\u001b[0m\u001b[1;33m:\u001b[0m\u001b[1;33m\u001b[0m\u001b[1;33m\u001b[0m\u001b[0m\n\u001b[1;32m--> 693\u001b[1;33m         \u001b[0mtest_folds\u001b[0m \u001b[1;33m=\u001b[0m \u001b[0mself\u001b[0m\u001b[1;33m.\u001b[0m\u001b[0m_make_test_folds\u001b[0m\u001b[1;33m(\u001b[0m\u001b[0mX\u001b[0m\u001b[1;33m,\u001b[0m \u001b[0my\u001b[0m\u001b[1;33m)\u001b[0m\u001b[1;33m\u001b[0m\u001b[1;33m\u001b[0m\u001b[0m\n\u001b[0m\u001b[0;32m    694\u001b[0m         \u001b[1;32mfor\u001b[0m \u001b[0mi\u001b[0m \u001b[1;32min\u001b[0m \u001b[0mrange\u001b[0m\u001b[1;33m(\u001b[0m\u001b[0mself\u001b[0m\u001b[1;33m.\u001b[0m\u001b[0mn_splits\u001b[0m\u001b[1;33m)\u001b[0m\u001b[1;33m:\u001b[0m\u001b[1;33m\u001b[0m\u001b[1;33m\u001b[0m\u001b[0m\n\u001b[0;32m    695\u001b[0m             \u001b[1;32myield\u001b[0m \u001b[0mtest_folds\u001b[0m \u001b[1;33m==\u001b[0m \u001b[0mi\u001b[0m\u001b[1;33m\u001b[0m\u001b[1;33m\u001b[0m\u001b[0m\n",
      "\u001b[1;32m~\\anaconda3\\lib\\site-packages\\sklearn\\model_selection\\_split.py\u001b[0m in \u001b[0;36m_make_test_folds\u001b[1;34m(self, X, y)\u001b[0m\n\u001b[0;32m    643\u001b[0m         \u001b[0mallowed_target_types\u001b[0m \u001b[1;33m=\u001b[0m \u001b[1;33m(\u001b[0m\u001b[1;34m'binary'\u001b[0m\u001b[1;33m,\u001b[0m \u001b[1;34m'multiclass'\u001b[0m\u001b[1;33m)\u001b[0m\u001b[1;33m\u001b[0m\u001b[1;33m\u001b[0m\u001b[0m\n\u001b[0;32m    644\u001b[0m         \u001b[1;32mif\u001b[0m \u001b[0mtype_of_target_y\u001b[0m \u001b[1;32mnot\u001b[0m \u001b[1;32min\u001b[0m \u001b[0mallowed_target_types\u001b[0m\u001b[1;33m:\u001b[0m\u001b[1;33m\u001b[0m\u001b[1;33m\u001b[0m\u001b[0m\n\u001b[1;32m--> 645\u001b[1;33m             raise ValueError(\n\u001b[0m\u001b[0;32m    646\u001b[0m                 'Supported target types are: {}. Got {!r} instead.'.format(\n\u001b[0;32m    647\u001b[0m                     allowed_target_types, type_of_target_y))\n",
      "\u001b[1;31mValueError\u001b[0m: Supported target types are: ('binary', 'multiclass'). Got 'continuous' instead."
     ]
    }
   ],
   "source": [
    "# Construct AUC_models dataframe\n",
    "AUC_models = pd.DataFrame()\n",
    "\n",
    "for column in Data1_num:\n",
    "    print(column)\n",
    "    \n",
    "    X = Data1_num.drop(column, axis='columns')\n",
    "    y = Data1_num[column]\n",
    "    myCol = AUC_cross_validation(X, y, n_fold = 10)\n",
    "\n",
    "    AUC_models.column = myCol\n",
    "\n",
    "#8 pts"
   ]
  },
  {
   "cell_type": "code",
   "execution_count": 22,
   "metadata": {
    "id": "g_ezWp-JVBhC"
   },
   "outputs": [
    {
     "data": {
      "text/html": [
       "<div>\n",
       "<style scoped>\n",
       "    .dataframe tbody tr th:only-of-type {\n",
       "        vertical-align: middle;\n",
       "    }\n",
       "\n",
       "    .dataframe tbody tr th {\n",
       "        vertical-align: top;\n",
       "    }\n",
       "\n",
       "    .dataframe thead th {\n",
       "        text-align: right;\n",
       "    }\n",
       "</style>\n",
       "<table border=\"1\" class=\"dataframe\">\n",
       "  <thead>\n",
       "    <tr style=\"text-align: right;\">\n",
       "      <th></th>\n",
       "    </tr>\n",
       "  </thead>\n",
       "  <tbody>\n",
       "  </tbody>\n",
       "</table>\n",
       "</div>"
      ],
      "text/plain": [
       "Empty DataFrame\n",
       "Columns: []\n",
       "Index: []"
      ]
     },
     "execution_count": 22,
     "metadata": {},
     "output_type": "execute_result"
    }
   ],
   "source": [
    "# Print AUC_models dataframe \n",
    "AUC_models"
   ]
  },
  {
   "cell_type": "code",
   "execution_count": null,
   "metadata": {
    "id": "zI09UOUVVBhD"
   },
   "outputs": [],
   "source": [
    "# print the shape of AUC_models dataframe\n",
    "AUC_models.shape"
   ]
  },
  {
   "cell_type": "markdown",
   "metadata": {
    "id": "W_pRoYEDVBhD"
   },
   "source": [
    "#### 4.5: /7\n",
    "\n",
    "**Decide which of the studied models has the best and the worst performance, using a boxplot (without presenting outliers) that shows the distribution of the previous AUC scores for every model.** (Again, do not forget labels!)\n",
    "\n",
    "*The manager expects you to present a boxplot in which the means of the AUC scores are, organized ascending. Of course, you include the axis labels, and the name of each model should be clearly seen!*"
   ]
  },
  {
   "cell_type": "code",
   "execution_count": null,
   "metadata": {
    "id": "U95B1ADsVBhE"
   },
   "outputs": [],
   "source": [
    "# Code to plot the boxplots organized as required\n",
    "\n",
    "\n",
    "#6 pts"
   ]
  },
  {
   "cell_type": "markdown",
   "metadata": {
    "id": "4-ZTNwwQVBhF"
   },
   "source": [
    "**ANSWER HERE:**[1 pt]\n"
   ]
  },
  {
   "cell_type": "markdown",
   "metadata": {
    "id": "CFwYruM2VBhF"
   },
   "source": [
    "#### 4.6: /7\n",
    "**The manager got surprised by your previous results! You are asked to compare these models with the one including all the numeric variables** \n",
    "\n",
    "**You again will use 10-fold cross-validation to determine if this new model has better performance, and at the end, you want to plot the boxplots with the information of this new model.**  "
   ]
  },
  {
   "cell_type": "code",
   "execution_count": null,
   "metadata": {
    "id": "CemvoPQ0VBhG"
   },
   "outputs": [],
   "source": [
    "\n",
    "# Print the modified data frame \n",
    "AUC_models\n",
    "# 4 pts "
   ]
  },
  {
   "cell_type": "code",
   "execution_count": null,
   "metadata": {
    "id": "MsDx0ZEXVBhG"
   },
   "outputs": [],
   "source": [
    "# Plot the boxplots\n",
    "\n",
    "\n",
    "# 3pt"
   ]
  },
  {
   "cell_type": "markdown",
   "metadata": {
    "id": "3Bhr1amjVBhG"
   },
   "source": [
    "_____________"
   ]
  },
  {
   "cell_type": "markdown",
   "metadata": {
    "id": "AeoU4oJtVBhH"
   },
   "source": [
    "### Question 5: /10\n",
    "\n",
    "Finally, the manager askes you to continue from `All_numeric` model and include some categorical variables that have not been used so far. You plan to do this in two steps:"
   ]
  },
  {
   "cell_type": "markdown",
   "metadata": {
    "id": "otT4alxNVBhH"
   },
   "source": [
    "1.First, add the variable `Grade` to the model."
   ]
  },
  {
   "cell_type": "code",
   "execution_count": null,
   "metadata": {
    "id": "9FnMmlQmVBhH"
   },
   "outputs": [],
   "source": [
    "# Use pandas.get_dummies() to incorporating grade, do not forget to use drop_first=True \n",
    "\n",
    "# Add this feature to all the numeric variables\n",
    "\n",
    "# Calculate the auc scores using cross validation\n",
    "\n",
    "# Include the auc scores in the AUC_models DataFrame in the column 'All_numeric_&_Grade'\n"
   ]
  },
  {
   "cell_type": "code",
   "execution_count": null,
   "metadata": {
    "id": "0lVE1bFzVBhH"
   },
   "outputs": [],
   "source": [
    "# Print the AUC mean for each of the models in ascending order\n",
    "\n",
    "# 4 pts"
   ]
  },
  {
   "cell_type": "markdown",
   "metadata": {
    "id": "FzBJxmEBVBhJ"
   },
   "source": [
    "2. Secondly add the `purpose` variable to the model `All_numeric_&_Grade`. "
   ]
  },
  {
   "cell_type": "code",
   "execution_count": null,
   "metadata": {
    "id": "FoQexa6uVBhJ"
   },
   "outputs": [],
   "source": [
    "# Use pandas.get_dummies() to incorporating job, do not forget to use drop_first=True \n",
    "\n",
    "# Add this feature to all the numeric variables\n",
    "\n",
    "# Calculate the auc scores using cross validation\n"
   ]
  },
  {
   "cell_type": "code",
   "execution_count": null,
   "metadata": {
    "id": "P6uebP08VBhJ"
   },
   "outputs": [],
   "source": [
    "# Print the AUC mean for each of the models in ascending order\n",
    "\n",
    "#4 pts"
   ]
  },
  {
   "cell_type": "markdown",
   "metadata": {
    "id": "LO1jj7JPVBhJ"
   },
   "source": [
    "Because of your previous results, you decided to select the `All_numeric` model. Looking at your previous results, explain why you made this choice. "
   ]
  },
  {
   "cell_type": "markdown",
   "metadata": {
    "id": "Z0uXLfQQVBhJ"
   },
   "source": [
    "**ANSWER HERE:**[2pt]\n",
    "\n"
   ]
  },
  {
   "cell_type": "markdown",
   "metadata": {
    "id": "98ukkfIJVBhJ"
   },
   "source": [
    "______________"
   ]
  },
  {
   "cell_type": "markdown",
   "metadata": {
    "id": "atiAIprxVBhK"
   },
   "source": [
    "### Question 6: /15pts\n",
    "\n",
    "You've successfully convinced the manager to use the model you selected! Now it is time to train it on all the training data. Estimate the performance of this model on the test data and do the following (For this, use a 70/30 train-test split of the data, remember to set `random_state=0` in the function `train_test_split` ): \n",
    "\n",
    "- Use boostrap technique to find the 95% CI for the AUC. \n",
    "- Plot the distribution of the boostrap AUC scores."
   ]
  },
  {
   "cell_type": "code",
   "execution_count": null,
   "metadata": {
    "id": "Dk9QItVfVBhK"
   },
   "outputs": [],
   "source": [
    "Xtrain6, Xtest6, ytrain6, ytest6 = \n",
    "\n",
    "#Fit the model\n",
    "\n",
    "#Calculate the predictions on the Test data\n",
    "\n",
    "# Report AUC\n",
    "auc_model6 = \n",
    "print(f'The auc..')\n",
    "# 1 pt"
   ]
  },
  {
   "cell_type": "code",
   "execution_count": null,
   "metadata": {
    "id": "DbcA-gI_VBhL"
   },
   "outputs": [],
   "source": [
    "boostraps_num = 1200\n",
    "boostraps_auc =[]\n",
    "n = \n",
    "\n",
    "np.random.RandomState(3)\n",
    "for i in range(boostraps_num):\n",
    "    index =\n",
    "    score = \n",
    "    \n",
    "# 5pts"
   ]
  },
  {
   "cell_type": "code",
   "execution_count": null,
   "metadata": {
    "id": "GrH1BeQ8VBhL"
   },
   "outputs": [],
   "source": [
    "# Histogram of the boostrapped AUC scores\n",
    "\n",
    "# 3 pts"
   ]
  },
  {
   "cell_type": "code",
   "execution_count": null,
   "metadata": {
    "id": "wzAzxy2sVBhM"
   },
   "outputs": [],
   "source": [
    "# Sort the samples\n",
    "\n",
    "\n",
    "# Calculating the limits, this is the 0.025 and 0.975 percentiles of the Boostrap distribution \n",
    "\n",
    "\n",
    "# \n",
    "print(f'The CI for the AUC of the model is: {(ci_min,ci_max) }')\n",
    "# 5 pts"
   ]
  },
  {
   "cell_type": "markdown",
   "metadata": {
    "id": "wl6vCKuHVBhM"
   },
   "source": [
    "Is the test AUC close to the AUC cross validation of the model you chose? Why do you think this is the case? Answer below as if you were talking to the hiring manager."
   ]
  },
  {
   "cell_type": "markdown",
   "metadata": {
    "id": "q0jw_8NqVBhM"
   },
   "source": [
    "**ANSWER HERE:**[1pt]\n",
    "\n"
   ]
  },
  {
   "cell_type": "markdown",
   "metadata": {
    "id": "oVVKFu3nVBhN"
   },
   "source": [
    "Nicely done! You expect the best from this interview !!!"
   ]
  }
 ],
 "metadata": {
  "colab": {
   "collapsed_sections": [],
   "name": "Assignment_5_Clean.ipynb",
   "provenance": []
  },
  "kernelspec": {
   "display_name": "Python 3 (ipykernel)",
   "language": "python",
   "name": "python3"
  },
  "language_info": {
   "codemirror_mode": {
    "name": "ipython",
    "version": 3
   },
   "file_extension": ".py",
   "mimetype": "text/x-python",
   "name": "python",
   "nbconvert_exporter": "python",
   "pygments_lexer": "ipython3",
   "version": "3.9.7"
  }
 },
 "nbformat": 4,
 "nbformat_minor": 1
}
