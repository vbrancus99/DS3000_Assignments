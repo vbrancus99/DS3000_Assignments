{
 "cells": [
  {
   "cell_type": "markdown",
   "metadata": {
    "id": "-yO029ffQWaI"
   },
   "source": [
    "# Grade: /100 pts\n",
    "# Assignment 8: Customer Segmentation with Clustering\n",
    "\n",
    "In this assignment, you will be solving a traditional problem in quantitative marketing: customer segmentation. Having a properly segmented database is extremely important to define marketing campaigns, as it allows companies to define value-centric actions targeted towards customers of different profiles. In this ocassion you are going to analyze customers of a supermarket chain *Fruver*.\n",
    "\n",
    "Assume you are the owner of a consulting company that is in charge of this project. In this assignment you are going to analyze 2 different strategies performed by your employees. At the end you are going to decide which one produces the best result in segmentating the customers.\n",
    "\n",
    "The information is provided in the document `data_customers.csv` which has the following columns:\n",
    "\n",
    "- **ID:** Customer identifier (it does not have prediction power).\n",
    "- **Education:** Education status of the customer.\n",
    "- **Income:** Customer's annual household income.\n",
    "- **Kidhome:** Number of children in customer's family.\n",
    "- **Teenhome:** Number of teenagers in customer's family.\n",
    "- **Recency:** Number of days since the last purchase in the supermarket.\n",
    "- **NumWebVisitsMonth:** Number of visits to the supermarket web page the last month.\n",
    "- **Complain:** If the customer has had claims.\n",
    "- **Living_Status**: If the customer lives alone or does not.\n",
    "- **Total_Promos_accept**: Number of total promotions accepted.\n",
    "- **Age**: Current customer's age.\n",
    "- **Total_Consumption**: Total amount spent in the supermarket.\n",
    "- **Total_Num_Purchases**: Total Number of purchases.\n",
    "- **Seniority**: Number of months in which the client has been enrolled with the supermarket.\n",
    "\n",
    "### Follow These Steps before submitting\n",
    "Once you are finished, ensure to complete the following steps.\n",
    "\n",
    "1.  Restart your kernel by clicking 'Kernel' > 'Restart & Run All'.\n",
    "\n",
    "2.  Fix any errors which result from this.\n",
    "\n",
    "3.  Repeat steps 1. and 2. until your notebook runs without errors.\n",
    "\n",
    "4.  Submit your completed notebook to OWL by the deadline. \n",
    "\n",
    "5.  Your submission document should be saved in the form: `LastName_FirstName_Assignment5.ipynb`\n"
   ]
  },
  {
   "cell_type": "code",
   "execution_count": null,
   "metadata": {
    "id": "ZE_aMV94F6bZ"
   },
   "outputs": [],
   "source": [
    "# pip install yellowbrick"
   ]
  },
  {
   "cell_type": "code",
   "execution_count": 1,
   "metadata": {
    "id": "GCyJlnOeQWao"
   },
   "outputs": [],
   "source": [
    "import numpy as np\n",
    "import pandas as pd\n",
    "import matplotlib.pyplot as plt\n",
    "from sklearn.cluster import AgglomerativeClustering, KMeans\n",
    "from yellowbrick.cluster import KElbowVisualizer, SilhouetteVisualizer\n",
    "#from yellowbrick.cluster.elbow import kelbow_visualizer\n",
    "from sklearn.preprocessing import StandardScaler\n",
    "from sklearn.metrics import silhouette_samples, silhouette_score\n",
    "import matplotlib.cm as cm\n",
    "from sklearn.decomposition import PCA\n",
    "import datetime\n",
    "import seaborn as sns\n",
    "import itertools\n",
    "%matplotlib inline"
   ]
  },
  {
   "cell_type": "markdown",
   "metadata": {
    "id": "-_T0o7l0QWav"
   },
   "source": [
    "## Question 1 Loading the data and Preprocessing (5 pts)\n"
   ]
  },
  {
   "cell_type": "markdown",
   "metadata": {
    "id": "u2EPpGR0F6bi"
   },
   "source": [
    "1. Import the data and select only the customers with ages lower than 100 years. Report the new data shape. Is there any null value?\n",
    "2. Your employees took these numeric predictors: `Income`, `Recency`, `NumWebVisitsMonth`, `Age`, `Total_Consumption`, `Total_Num_Purchases`, and `Seniority`. Therefore create the data frame `data_customers_num` that only contains these variables. Print the shape of this new data frame. Notice your employees used neither `Kidhome` nor `Teenhome` since their range is {0, 1, 2}, therefore it is better to take those as categorical variables.\n",
    "3. Present the descriptive statistics of the numeric variables. What can you say about the variables you have? Why should you normalize the data? Normalize the data and create the new data frame `df_num_z`. (Do not forget to include the names of its columns as the columns of `data_customers_num`)."
   ]
  },
  {
   "cell_type": "code",
   "execution_count": 14,
   "metadata": {
    "id": "jZlwYg5eQWaz"
   },
   "outputs": [
    {
     "data": {
      "text/html": [
       "<div>\n",
       "<style scoped>\n",
       "    .dataframe tbody tr th:only-of-type {\n",
       "        vertical-align: middle;\n",
       "    }\n",
       "\n",
       "    .dataframe tbody tr th {\n",
       "        vertical-align: top;\n",
       "    }\n",
       "\n",
       "    .dataframe thead th {\n",
       "        text-align: right;\n",
       "    }\n",
       "</style>\n",
       "<table border=\"1\" class=\"dataframe\">\n",
       "  <thead>\n",
       "    <tr style=\"text-align: right;\">\n",
       "      <th></th>\n",
       "      <th>ID</th>\n",
       "      <th>Education</th>\n",
       "      <th>Income</th>\n",
       "      <th>Kidhome</th>\n",
       "      <th>Teenhome</th>\n",
       "      <th>Recency</th>\n",
       "      <th>NumWebVisitsMonth</th>\n",
       "      <th>Complain</th>\n",
       "      <th>Living_Status</th>\n",
       "      <th>Total_Promos_accep</th>\n",
       "      <th>Age</th>\n",
       "      <th>Total_Consumption</th>\n",
       "      <th>Total_Num_Purchases</th>\n",
       "      <th>Seniority</th>\n",
       "    </tr>\n",
       "  </thead>\n",
       "  <tbody>\n",
       "    <tr>\n",
       "      <th>0</th>\n",
       "      <td>5524</td>\n",
       "      <td>Graduate</td>\n",
       "      <td>58138.0</td>\n",
       "      <td>0</td>\n",
       "      <td>0</td>\n",
       "      <td>58</td>\n",
       "      <td>7</td>\n",
       "      <td>0</td>\n",
       "      <td>Alone</td>\n",
       "      <td>0</td>\n",
       "      <td>57</td>\n",
       "      <td>1617</td>\n",
       "      <td>25</td>\n",
       "      <td>33</td>\n",
       "    </tr>\n",
       "    <tr>\n",
       "      <th>1</th>\n",
       "      <td>2174</td>\n",
       "      <td>Graduate</td>\n",
       "      <td>46344.0</td>\n",
       "      <td>1</td>\n",
       "      <td>1</td>\n",
       "      <td>38</td>\n",
       "      <td>5</td>\n",
       "      <td>0</td>\n",
       "      <td>Alone</td>\n",
       "      <td>0</td>\n",
       "      <td>60</td>\n",
       "      <td>27</td>\n",
       "      <td>6</td>\n",
       "      <td>5</td>\n",
       "    </tr>\n",
       "    <tr>\n",
       "      <th>2</th>\n",
       "      <td>4141</td>\n",
       "      <td>Graduate</td>\n",
       "      <td>71613.0</td>\n",
       "      <td>0</td>\n",
       "      <td>0</td>\n",
       "      <td>26</td>\n",
       "      <td>4</td>\n",
       "      <td>0</td>\n",
       "      <td>Partner</td>\n",
       "      <td>0</td>\n",
       "      <td>49</td>\n",
       "      <td>776</td>\n",
       "      <td>21</td>\n",
       "      <td>17</td>\n",
       "    </tr>\n",
       "    <tr>\n",
       "      <th>3</th>\n",
       "      <td>6182</td>\n",
       "      <td>Graduate</td>\n",
       "      <td>26646.0</td>\n",
       "      <td>1</td>\n",
       "      <td>0</td>\n",
       "      <td>26</td>\n",
       "      <td>6</td>\n",
       "      <td>0</td>\n",
       "      <td>Partner</td>\n",
       "      <td>0</td>\n",
       "      <td>30</td>\n",
       "      <td>53</td>\n",
       "      <td>8</td>\n",
       "      <td>3</td>\n",
       "    </tr>\n",
       "    <tr>\n",
       "      <th>4</th>\n",
       "      <td>5324</td>\n",
       "      <td>Postgraduate</td>\n",
       "      <td>58293.0</td>\n",
       "      <td>1</td>\n",
       "      <td>0</td>\n",
       "      <td>94</td>\n",
       "      <td>5</td>\n",
       "      <td>0</td>\n",
       "      <td>Partner</td>\n",
       "      <td>0</td>\n",
       "      <td>33</td>\n",
       "      <td>422</td>\n",
       "      <td>19</td>\n",
       "      <td>12</td>\n",
       "    </tr>\n",
       "  </tbody>\n",
       "</table>\n",
       "</div>"
      ],
      "text/plain": [
       "     ID     Education   Income  Kidhome  Teenhome  Recency  NumWebVisitsMonth  \\\n",
       "0  5524      Graduate  58138.0        0         0       58                  7   \n",
       "1  2174      Graduate  46344.0        1         1       38                  5   \n",
       "2  4141      Graduate  71613.0        0         0       26                  4   \n",
       "3  6182      Graduate  26646.0        1         0       26                  6   \n",
       "4  5324  Postgraduate  58293.0        1         0       94                  5   \n",
       "\n",
       "   Complain Living_Status  Total_Promos_accep  Age  Total_Consumption  \\\n",
       "0         0         Alone                   0   57               1617   \n",
       "1         0         Alone                   0   60                 27   \n",
       "2         0       Partner                   0   49                776   \n",
       "3         0       Partner                   0   30                 53   \n",
       "4         0       Partner                   0   33                422   \n",
       "\n",
       "   Total_Num_Purchases  Seniority  \n",
       "0                   25         33  \n",
       "1                    6          5  \n",
       "2                   21         17  \n",
       "3                    8          3  \n",
       "4                   19         12  "
      ]
     },
     "metadata": {},
     "output_type": "display_data"
    },
    {
     "name": "stdout",
     "output_type": "stream",
     "text": [
      "The new data shape is:(2205, 14)\n",
      "The number of null values is :0\n"
     ]
    }
   ],
   "source": [
    "# 1pt\n",
    "# Read the data\n",
    "data_customers = pd.read_csv(\"data_customers.csv\")\n",
    "display(data_customers.head())\n",
    "# New data\n",
    "data_customers_sample = data_customers.loc[data_customers[\"Age\"]<100]\n",
    "print(f'The new data shape is:{data_customers_sample.shape}')\n",
    "print(f'The number of null values is :{data_customers_sample.isna().sum().sum()}')"
   ]
  },
  {
   "cell_type": "code",
   "execution_count": 15,
   "metadata": {
    "id": "pfL48KIJF6bl"
   },
   "outputs": [
    {
     "name": "stdout",
     "output_type": "stream",
     "text": [
      "The new shape is (2208, 7)\n"
     ]
    }
   ],
   "source": [
    "# 1pt\n",
    "# numeric predictors\n",
    "data_customers_num = data_customers.filter(['Income', 'Recency', 'NumWebVisitsMonth', 'Age', 'Total_Consumption', 'Total_Num_Purchases', 'Seniority'], axis = 1)\n",
    "print(f'The new shape is {data_customers_num.shape}')"
   ]
  },
  {
   "cell_type": "code",
   "execution_count": 16,
   "metadata": {
    "id": "XLNcUhf5F6bn"
   },
   "outputs": [
    {
     "data": {
      "text/html": [
       "<div>\n",
       "<style scoped>\n",
       "    .dataframe tbody tr th:only-of-type {\n",
       "        vertical-align: middle;\n",
       "    }\n",
       "\n",
       "    .dataframe tbody tr th {\n",
       "        vertical-align: top;\n",
       "    }\n",
       "\n",
       "    .dataframe thead th {\n",
       "        text-align: right;\n",
       "    }\n",
       "</style>\n",
       "<table border=\"1\" class=\"dataframe\">\n",
       "  <thead>\n",
       "    <tr style=\"text-align: right;\">\n",
       "      <th></th>\n",
       "      <th>Income</th>\n",
       "      <th>Recency</th>\n",
       "      <th>NumWebVisitsMonth</th>\n",
       "      <th>Age</th>\n",
       "      <th>Total_Consumption</th>\n",
       "      <th>Total_Num_Purchases</th>\n",
       "      <th>Seniority</th>\n",
       "    </tr>\n",
       "  </thead>\n",
       "  <tbody>\n",
       "    <tr>\n",
       "      <th>count</th>\n",
       "      <td>2208.000000</td>\n",
       "      <td>2208.000000</td>\n",
       "      <td>2208.000000</td>\n",
       "      <td>2208.000000</td>\n",
       "      <td>2208.000000</td>\n",
       "      <td>2208.000000</td>\n",
       "      <td>2208.000000</td>\n",
       "    </tr>\n",
       "    <tr>\n",
       "      <th>mean</th>\n",
       "      <td>51633.638134</td>\n",
       "      <td>49.014040</td>\n",
       "      <td>5.334239</td>\n",
       "      <td>45.192935</td>\n",
       "      <td>606.875906</td>\n",
       "      <td>14.879076</td>\n",
       "      <td>18.137228</td>\n",
       "    </tr>\n",
       "    <tr>\n",
       "      <th>std</th>\n",
       "      <td>20713.376530</td>\n",
       "      <td>28.938638</td>\n",
       "      <td>2.413837</td>\n",
       "      <td>11.991913</td>\n",
       "      <td>602.090272</td>\n",
       "      <td>7.615973</td>\n",
       "      <td>7.668229</td>\n",
       "    </tr>\n",
       "    <tr>\n",
       "      <th>min</th>\n",
       "      <td>1730.000000</td>\n",
       "      <td>0.000000</td>\n",
       "      <td>0.000000</td>\n",
       "      <td>18.000000</td>\n",
       "      <td>5.000000</td>\n",
       "      <td>0.000000</td>\n",
       "      <td>1.000000</td>\n",
       "    </tr>\n",
       "    <tr>\n",
       "      <th>25%</th>\n",
       "      <td>35196.000000</td>\n",
       "      <td>24.000000</td>\n",
       "      <td>3.000000</td>\n",
       "      <td>37.000000</td>\n",
       "      <td>69.000000</td>\n",
       "      <td>8.000000</td>\n",
       "      <td>13.000000</td>\n",
       "    </tr>\n",
       "    <tr>\n",
       "      <th>50%</th>\n",
       "      <td>51301.000000</td>\n",
       "      <td>49.000000</td>\n",
       "      <td>6.000000</td>\n",
       "      <td>44.000000</td>\n",
       "      <td>397.000000</td>\n",
       "      <td>15.000000</td>\n",
       "      <td>18.000000</td>\n",
       "    </tr>\n",
       "    <tr>\n",
       "      <th>75%</th>\n",
       "      <td>68289.750000</td>\n",
       "      <td>74.000000</td>\n",
       "      <td>7.000000</td>\n",
       "      <td>55.000000</td>\n",
       "      <td>1047.250000</td>\n",
       "      <td>21.000000</td>\n",
       "      <td>24.000000</td>\n",
       "    </tr>\n",
       "    <tr>\n",
       "      <th>max</th>\n",
       "      <td>113734.000000</td>\n",
       "      <td>99.000000</td>\n",
       "      <td>20.000000</td>\n",
       "      <td>121.000000</td>\n",
       "      <td>2525.000000</td>\n",
       "      <td>43.000000</td>\n",
       "      <td>36.000000</td>\n",
       "    </tr>\n",
       "  </tbody>\n",
       "</table>\n",
       "</div>"
      ],
      "text/plain": [
       "              Income      Recency  NumWebVisitsMonth          Age  \\\n",
       "count    2208.000000  2208.000000        2208.000000  2208.000000   \n",
       "mean    51633.638134    49.014040           5.334239    45.192935   \n",
       "std     20713.376530    28.938638           2.413837    11.991913   \n",
       "min      1730.000000     0.000000           0.000000    18.000000   \n",
       "25%     35196.000000    24.000000           3.000000    37.000000   \n",
       "50%     51301.000000    49.000000           6.000000    44.000000   \n",
       "75%     68289.750000    74.000000           7.000000    55.000000   \n",
       "max    113734.000000    99.000000          20.000000   121.000000   \n",
       "\n",
       "       Total_Consumption  Total_Num_Purchases    Seniority  \n",
       "count        2208.000000          2208.000000  2208.000000  \n",
       "mean          606.875906            14.879076    18.137228  \n",
       "std           602.090272             7.615973     7.668229  \n",
       "min             5.000000             0.000000     1.000000  \n",
       "25%            69.000000             8.000000    13.000000  \n",
       "50%           397.000000            15.000000    18.000000  \n",
       "75%          1047.250000            21.000000    24.000000  \n",
       "max          2525.000000            43.000000    36.000000  "
      ]
     },
     "execution_count": 16,
     "metadata": {},
     "output_type": "execute_result"
    }
   ],
   "source": [
    "# 0.5 pts\n",
    "# Descriptive statistics\n",
    "data_customers_num.describe()"
   ]
  },
  {
   "cell_type": "code",
   "execution_count": 18,
   "metadata": {
    "id": "EbUNRHJCF6bo"
   },
   "outputs": [],
   "source": [
    "# 1 pt\n",
    "# Standardization\n",
    "normalizer = StandardScaler()\n",
    "df_num_z = normalizer.fit_transform(data_customers_num)"
   ]
  },
  {
   "cell_type": "code",
   "execution_count": 21,
   "metadata": {
    "id": "YSBmLUQlF6bq"
   },
   "outputs": [
    {
     "data": {
      "text/plain": [
       "array([[ 0.31408859,  0.31058807,  0.69024456, ...,  1.67807547,\n",
       "         1.3292086 ,  1.93866657],\n",
       "       [-0.2554309 , -0.38068602, -0.13849932, ..., -0.96332276,\n",
       "        -1.16611333, -1.71359055],\n",
       "       [ 0.96478175, -0.79545048, -0.55287126, ...,  0.28095854,\n",
       "         0.80387767, -0.1483375 ],\n",
       "       ...,\n",
       "       [ 0.25821831,  1.45119033,  0.27587262, ...,  1.05344293,\n",
       "         0.5412122 , -0.80052627],\n",
       "       [ 0.8504336 , -1.41759716, -0.9672432 , ...,  0.39226274,\n",
       "         1.06654313, -0.80052627],\n",
       "       [ 0.05965429, -0.31155861,  0.69024456, ..., -0.72244053,\n",
       "        -0.50944967,  1.15604004]])"
      ]
     },
     "execution_count": 21,
     "metadata": {},
     "output_type": "execute_result"
    }
   ],
   "source": [
    "# 0.5 pts\n",
    "# Descriptive statistics for normalized data\n",
    "df_num_z"
   ]
  },
  {
   "cell_type": "markdown",
   "metadata": {
    "id": "iYBNgtVjF6br"
   },
   "source": [
    "**Written Answer:** Why should you normalize the data?"
   ]
  },
  {
   "cell_type": "markdown",
   "metadata": {
    "id": "7MuGpZXEQWa7"
   },
   "source": [
    "**ANSWER HERE (1 pt)**:"
   ]
  },
  {
   "cell_type": "markdown",
   "metadata": {
    "id": "mlarWXCVF6bv"
   },
   "source": [
    "____________"
   ]
  },
  {
   "cell_type": "markdown",
   "metadata": {
    "id": "NQ2QjoUuF6bw"
   },
   "source": [
    "### Question 2: First Strategy (25 pts)\n",
    "\n",
    "To solve the project, your employee D decided to use the following strategy: \n",
    "\n",
    "1. First performing dimension reduction with PCA using 2 components. Look for the best number of clusters (between 3 to 5) using `Hierarchical clustering` with `affinity = 'cosine'` and `linkage = 'complete'` and Silhuoette analysis.\n",
    "2. Graph the scatter plot of the PCA-transformed data differentiated by cluster.\n",
    "3. Make the scatterplot `Total_Consumption` vs `Income by clusters`."
   ]
  },
  {
   "cell_type": "code",
   "execution_count": 24,
   "metadata": {
    "id": "oLFsNi4aF6bx"
   },
   "outputs": [],
   "source": [
    "# 5 pts (PCA)\n",
    "pca = PCA(n_components=2)\n",
    "pca.fit(df_num_z)\n",
    "df_num_z2 = pca.transform(df_num_z)\n"
   ]
  },
  {
   "cell_type": "code",
   "execution_count": null,
   "metadata": {
    "id": "GXj4KPgfF6by"
   },
   "outputs": [],
   "source": [
    "# 8 pts \n",
    "# Silhuoette Analysis\n",
    "# Range for the number of clusters\n",
    "range_n_clusters = [3,4,5]\n",
    "\n",
    "for i in range_n_clusters:\n",
    "    Agg = AgglomerativeClustering(n_clusters=i,         # Number of clusters\n",
    "                                            affinity='cosine', # Type of distance. Depends on your data and you can create your own!\n",
    "                                            linkage='complete'     # Type of linkage.  \n",
    "                                            )\n",
    "    \n",
    "    \n",
    "    "
   ]
  },
  {
   "cell_type": "markdown",
   "metadata": {
    "id": "v6siWQ7IF6bz"
   },
   "source": [
    "**Written Answer:** How many clusters did D select based on the previous results?"
   ]
  },
  {
   "cell_type": "markdown",
   "metadata": {
    "id": "2cboyjrIF6b0"
   },
   "source": [
    "**ANSWER HERE (2pts):** "
   ]
  },
  {
   "cell_type": "code",
   "execution_count": null,
   "metadata": {
    "id": "p7dT7IAVF6b1"
   },
   "outputs": [],
   "source": [
    "# 5 pts second point\n"
   ]
  },
  {
   "cell_type": "code",
   "execution_count": null,
   "metadata": {
    "id": "2Jovk5A-F6b2",
    "scrolled": true
   },
   "outputs": [],
   "source": [
    "# 5 pts\n",
    "# Scatterplot\n"
   ]
  },
  {
   "cell_type": "markdown",
   "metadata": {
    "id": "NxyimKreF6b3"
   },
   "source": [
    "## Question 3: Second Strategy (55 pts)"
   ]
  },
  {
   "cell_type": "markdown",
   "metadata": {
    "id": "UQOMjdveF6b3"
   },
   "source": [
    "### 3.1 (30 pts)\n",
    "\n",
    "Employee J selected a different approach:\n",
    "1. First J studied the silhouette average score taking into account only the sample of three predictors from the seven total ones, and selecting the combination with the maximum value.\n",
    "\n",
    "You are going to replicate these results, generating a data frame `Results_df` whose columns are `Subset_Predictors`, `AVG_S_3`, `AVG_S_4`, `AVG_S_5`, where:\n",
    "- `Subset_Predictors` are the three predictors that have been taken into consideration, eg: `[Age, Income, Total_Consumption]`.\n",
    "- `AVG_S_i` is the average silhouette_score using $k = i$ clusters, when performing KMeans method over the `Subset_Predictors` variables.\n",
    "\n",
    "P did not forget that as a team, you always use a `random_state = 3`, also J remembered `itertools.combinations` function may be useful."
   ]
  },
  {
   "cell_type": "code",
   "execution_count": null,
   "metadata": {
    "id": "ntUCJPg0F6b4"
   },
   "outputs": [],
   "source": [
    "# 9 pts \n",
    "# Generate the data frame of results\n",
    "# Initialize the DataFrame and set the name of its columns\n",
    "\n",
    "\n",
    "# Fill the Result_df according indications\n",
    "\n"
   ]
  },
  {
   "cell_type": "code",
   "execution_count": null,
   "metadata": {
    "id": "v3ICuXDLF6b4"
   },
   "outputs": [],
   "source": [
    "# 15 pts \n",
    "# Print the first 5 rows of the Result_df matrix\n"
   ]
  },
  {
   "cell_type": "code",
   "execution_count": null,
   "metadata": {
    "id": "rRA61hvNF6b5"
   },
   "outputs": [],
   "source": [
    "# 1 pt\n",
    "# Report the shape of Result_df DataFrame\n"
   ]
  },
  {
   "cell_type": "code",
   "execution_count": null,
   "metadata": {
    "id": "jTPSm-b2F6b6"
   },
   "outputs": [],
   "source": [
    "# 2 pts\n",
    "# Find the maximum avg silhouette_score\n",
    "\n",
    "print(f'The maximum average silhouette score using a subset of 3 predictors is :{}')"
   ]
  },
  {
   "cell_type": "markdown",
   "metadata": {
    "id": "DjGrDab_F6b7"
   },
   "source": [
    "**Written Answer:** What is the subset of 3 predictors that generated the maximum average silhouette score? How many clusters did J decide to use?"
   ]
  },
  {
   "cell_type": "code",
   "execution_count": null,
   "metadata": {
    "id": "0tQ6SrjJF6b7"
   },
   "outputs": [],
   "source": [
    "# 1 pt\n",
    "# Find the index when we find the maximum value\n"
   ]
  },
  {
   "cell_type": "markdown",
   "metadata": {
    "id": "9S0t0LypF6b8"
   },
   "source": [
    "**ANSWER HERE (2pts):**"
   ]
  },
  {
   "cell_type": "markdown",
   "metadata": {
    "id": "OPrJAigqF6b9"
   },
   "source": [
    "### 3.2 Verification (15 pts)\n",
    "\n",
    "J wants to verify this is indeed the best number of clusters. \n",
    "1. Create an elbow plot of between 3 and 10 clusters for the selected subset of variables, using `calinski_harabasz` metric. According with this metric what is the best number of clusters? What is the meaning of this metric?\n",
    "2. Secondly, perform the silhouette analysis for the same cluster range, using `SilhouetteVisualizer` function as it was shown in `LabWeek10` to generate the plot, do not forget to print the average Silhouette scores!. **Does the previous result agree with the given by silhouette analysis?**\n"
   ]
  },
  {
   "cell_type": "code",
   "execution_count": null,
   "metadata": {
    "id": "dgoGgGd9F6b9"
   },
   "outputs": [],
   "source": [
    "# 5 pts\n",
    "# Code for creating the elbow plot\n"
   ]
  },
  {
   "cell_type": "markdown",
   "metadata": {
    "id": "ZZXcOcrKF6b-"
   },
   "source": [
    "**ANSWER HERE (3pts)** "
   ]
  },
  {
   "cell_type": "code",
   "execution_count": null,
   "metadata": {
    "id": "vZ63slRNF6b_"
   },
   "outputs": [],
   "source": [
    "# 5 pts\n",
    "# Second point\n",
    "# Code for creating the silhouette analysis\n"
   ]
  },
  {
   "cell_type": "markdown",
   "metadata": {
    "id": "spWBRrsDF6cA"
   },
   "source": [
    "**ANSWER HERE (2pts):** "
   ]
  },
  {
   "cell_type": "markdown",
   "metadata": {
    "id": "K-T4d91uF6cA"
   },
   "source": [
    "### 3.3  PCA for clustering visualization (5 pts)"
   ]
  },
  {
   "cell_type": "markdown",
   "metadata": {
    "id": "zfBpnaeNF6cB"
   },
   "source": [
    "Considering the previous selection, J decided to visualize the results with PCA transformation. J applied PCA transformation using 2 components, created the scatterplot differentiating clusters with different colours. **Note the clusters still must be calculated over the unrotated data.**"
   ]
  },
  {
   "cell_type": "code",
   "execution_count": null,
   "metadata": {
    "id": "71HKjCb9F6cB"
   },
   "outputs": [],
   "source": []
  },
  {
   "cell_type": "markdown",
   "metadata": {
    "id": "1eAxpwu1F6cC"
   },
   "source": [
    "### 3.3 Scatterplot. (5 pts)\n",
    "\n",
    "At the end J also presented the scatterplot of `Total_Consumption` vs `Income` differentiated by cluster."
   ]
  },
  {
   "cell_type": "code",
   "execution_count": null,
   "metadata": {
    "id": "FEZ_8wEcF6cC"
   },
   "outputs": [],
   "source": []
  },
  {
   "cell_type": "code",
   "execution_count": null,
   "metadata": {
    "id": "gLPlfca0F6cD"
   },
   "outputs": [],
   "source": []
  },
  {
   "cell_type": "markdown",
   "metadata": {
    "id": "ZxYWZ9V_F6cD"
   },
   "source": [
    "_________"
   ]
  },
  {
   "cell_type": "markdown",
   "metadata": {
    "id": "dSCbg6ZgF6cE"
   },
   "source": [
    "## Question 5: Deploying the model (15 pts)"
   ]
  },
  {
   "cell_type": "markdown",
   "metadata": {
    "id": "LRHe2H_aF6cE"
   },
   "source": [
    "### 5.1 Final Decision\n",
    "\n",
    "**Written Answer:** Now you have to decide which method to use for customer segmentation. Decide on one of the two strategies and explain, in no more than one paragraph, what strategy would you choose."
   ]
  },
  {
   "cell_type": "markdown",
   "metadata": {
    "id": "wYjraYj8F6cF"
   },
   "source": [
    "**ANSWER HERE (4 pts):**"
   ]
  },
  {
   "cell_type": "markdown",
   "metadata": {
    "id": "_37jSviGF6cF"
   },
   "source": [
    "### 5.2 Naming the clusters\n",
    "Using the selected method, create a table of the averages per variable (`Income`, `Total_Consumption`, `Total_Num_Purchases`) of each cluster (use the original, non-scaled, variables, and  Pandas' `groupby` function). "
   ]
  },
  {
   "cell_type": "code",
   "execution_count": null,
   "metadata": {
    "id": "voasXIHpF6cG"
   },
   "outputs": [],
   "source": [
    "# 2 pts\n",
    "# Generate the table\n"
   ]
  },
  {
   "cell_type": "markdown",
   "metadata": {
    "id": "uJmby6lrF6cH"
   },
   "source": [
    "**Written Answer:** Name the different clusters and think what strategy the company could use in each of the clusters."
   ]
  },
  {
   "cell_type": "markdown",
   "metadata": {
    "id": "PWslS_xJF6cH"
   },
   "source": [
    "**ANSWER HERE (9pts):**\n",
    "\n"
   ]
  }
 ],
 "metadata": {
  "colab": {
   "name": "Assignment_8_Clean.ipynb",
   "provenance": []
  },
  "kernelspec": {
   "display_name": "Python 3 (ipykernel)",
   "language": "python",
   "name": "python3"
  },
  "language_info": {
   "codemirror_mode": {
    "name": "ipython",
    "version": 3
   },
   "file_extension": ".py",
   "mimetype": "text/x-python",
   "name": "python",
   "nbconvert_exporter": "python",
   "pygments_lexer": "ipython3",
   "version": "3.9.7"
  }
 },
 "nbformat": 4,
 "nbformat_minor": 1
}
