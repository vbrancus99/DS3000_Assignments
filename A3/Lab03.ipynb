{
 "cells": [
  {
   "cell_type": "markdown",
   "metadata": {},
   "source": [
    "# Lab 3"
   ]
  },
  {
   "cell_type": "code",
   "execution_count": 43,
   "metadata": {},
   "outputs": [],
   "source": [
    "import pandas as pd\n",
    "import numpy as np\n",
    "from sklearn.model_selection import train_test_split\n",
    "from sklearn.linear_model import LogisticRegression\n",
    "from sklearn.metrics import recall_score, confusion_matrix, roc_curve, auc\n",
    "\n",
    "import seaborn as sns\n",
    "\n",
    "import matplotlib.pyplot as plt\n",
    "%matplotlib inline"
   ]
  },
  {
   "cell_type": "markdown",
   "metadata": {},
   "source": [
    "## Lab 3.1 - Logistic Regression"
   ]
  },
  {
   "cell_type": "code",
   "execution_count": 2,
   "metadata": {},
   "outputs": [
    {
     "data": {
      "text/html": [
       "<div>\n",
       "<style scoped>\n",
       "    .dataframe tbody tr th:only-of-type {\n",
       "        vertical-align: middle;\n",
       "    }\n",
       "\n",
       "    .dataframe tbody tr th {\n",
       "        vertical-align: top;\n",
       "    }\n",
       "\n",
       "    .dataframe thead th {\n",
       "        text-align: right;\n",
       "    }\n",
       "</style>\n",
       "<table border=\"1\" class=\"dataframe\">\n",
       "  <thead>\n",
       "    <tr style=\"text-align: right;\">\n",
       "      <th></th>\n",
       "      <th>AREA</th>\n",
       "      <th>PERIMETER</th>\n",
       "      <th>MAJORAXIS</th>\n",
       "      <th>MINORAXIS</th>\n",
       "      <th>ECCENTRICITY</th>\n",
       "      <th>CONVEX_AREA</th>\n",
       "      <th>EXTENT</th>\n",
       "      <th>CLASS</th>\n",
       "    </tr>\n",
       "  </thead>\n",
       "  <tbody>\n",
       "    <tr>\n",
       "      <th>0</th>\n",
       "      <td>15231</td>\n",
       "      <td>525.578979</td>\n",
       "      <td>229.749878</td>\n",
       "      <td>85.093788</td>\n",
       "      <td>0.928882</td>\n",
       "      <td>15617</td>\n",
       "      <td>0.572896</td>\n",
       "      <td>Cammeo</td>\n",
       "    </tr>\n",
       "    <tr>\n",
       "      <th>1</th>\n",
       "      <td>14656</td>\n",
       "      <td>494.311005</td>\n",
       "      <td>206.020065</td>\n",
       "      <td>91.730972</td>\n",
       "      <td>0.895405</td>\n",
       "      <td>15072</td>\n",
       "      <td>0.615436</td>\n",
       "      <td>Cammeo</td>\n",
       "    </tr>\n",
       "    <tr>\n",
       "      <th>2</th>\n",
       "      <td>14634</td>\n",
       "      <td>501.122009</td>\n",
       "      <td>214.106781</td>\n",
       "      <td>87.768288</td>\n",
       "      <td>0.912118</td>\n",
       "      <td>14954</td>\n",
       "      <td>0.693259</td>\n",
       "      <td>Cammeo</td>\n",
       "    </tr>\n",
       "    <tr>\n",
       "      <th>3</th>\n",
       "      <td>13176</td>\n",
       "      <td>458.342987</td>\n",
       "      <td>193.337387</td>\n",
       "      <td>87.448395</td>\n",
       "      <td>0.891861</td>\n",
       "      <td>13368</td>\n",
       "      <td>0.640669</td>\n",
       "      <td>Cammeo</td>\n",
       "    </tr>\n",
       "    <tr>\n",
       "      <th>4</th>\n",
       "      <td>14688</td>\n",
       "      <td>507.166992</td>\n",
       "      <td>211.743378</td>\n",
       "      <td>89.312454</td>\n",
       "      <td>0.906691</td>\n",
       "      <td>15262</td>\n",
       "      <td>0.646024</td>\n",
       "      <td>Cammeo</td>\n",
       "    </tr>\n",
       "  </tbody>\n",
       "</table>\n",
       "</div>"
      ],
      "text/plain": [
       "    AREA   PERIMETER   MAJORAXIS  MINORAXIS  ECCENTRICITY  CONVEX_AREA  \\\n",
       "0  15231  525.578979  229.749878  85.093788      0.928882        15617   \n",
       "1  14656  494.311005  206.020065  91.730972      0.895405        15072   \n",
       "2  14634  501.122009  214.106781  87.768288      0.912118        14954   \n",
       "3  13176  458.342987  193.337387  87.448395      0.891861        13368   \n",
       "4  14688  507.166992  211.743378  89.312454      0.906691        15262   \n",
       "\n",
       "     EXTENT   CLASS  \n",
       "0  0.572896  Cammeo  \n",
       "1  0.615436  Cammeo  \n",
       "2  0.693259  Cammeo  \n",
       "3  0.640669  Cammeo  \n",
       "4  0.646024  Cammeo  "
      ]
     },
     "execution_count": 2,
     "metadata": {},
     "output_type": "execute_result"
    }
   ],
   "source": [
    "# This dataset describes grains of rice in terms of visual properties.\n",
    "# The class is the variety of rice, either Cammeo or Osmancık\n",
    "# https://archive.ics.uci.edu/ml/datasets/Rice+%28Cammeo+and+Osmancik%29\n",
    "# (Actually downloaded the data from the paper's website.)\n",
    "rice = pd.read_csv(\"Rice_Osmancik_Cammeo_Dataset.csv\")\n",
    "rice.head()"
   ]
  },
  {
   "cell_type": "code",
   "execution_count": 3,
   "metadata": {},
   "outputs": [
    {
     "data": {
      "text/plain": [
       "Osmancik    2180\n",
       "Cammeo      1630\n",
       "Name: CLASS, dtype: int64"
      ]
     },
     "execution_count": 3,
     "metadata": {},
     "output_type": "execute_result"
    }
   ],
   "source": [
    "# Check out class distribution\n",
    "rice.CLASS.value_counts()\n"
   ]
  },
  {
   "cell_type": "code",
   "execution_count": 4,
   "metadata": {},
   "outputs": [
    {
     "name": "stdout",
     "output_type": "stream",
     "text": [
      "0.5721784776902887\n"
     ]
    }
   ],
   "source": [
    "#Baseline accuracy?\n",
    "\n",
    "baselineAcc = 2180/(2180+1630)\n",
    "print(baselineAcc)"
   ]
  },
  {
   "cell_type": "code",
   "execution_count": 5,
   "metadata": {},
   "outputs": [],
   "source": [
    "# Split data, train logistic regression\n",
    "X = rice.drop('CLASS', axis = 'columns').values\n",
    "y = rice.CLASS.values\n",
    "\n",
    "Xtrain, Xtest, ytrain, ytest = train_test_split(X,y, test_size = 0.5, random_state = 0)"
   ]
  },
  {
   "cell_type": "code",
   "execution_count": 7,
   "metadata": {},
   "outputs": [
    {
     "name": "stdout",
     "output_type": "stream",
     "text": [
      "Intercept: [0.00318845] \n",
      "Coefficients: [[ 0.00608732  0.14475211 -0.24051264  0.39193589  0.00145249 -0.01007885\n",
      "   0.003195  ]]\n"
     ]
    }
   ],
   "source": [
    "# Fit model, print coefficients\n",
    "RICELR = LogisticRegression(penalty = 'none')\n",
    "ricelr = RICELR.fit(Xtrain, ytrain)\n",
    "\n",
    "print(f\"Intercept: {ricelr.intercept_} \\nCoefficients: {ricelr.coef_}\")"
   ]
  },
  {
   "cell_type": "code",
   "execution_count": 10,
   "metadata": {},
   "outputs": [
    {
     "data": {
      "text/plain": [
       "array([[  3.34226677],\n",
       "       [-10.37898789],\n",
       "       [ -0.09896634],\n",
       "       ...,\n",
       "       [ -4.0019276 ],\n",
       "       [  1.71460141],\n",
       "       [ -8.58612399]])"
      ]
     },
     "execution_count": 10,
     "metadata": {},
     "output_type": "execute_result"
    }
   ],
   "source": [
    "# Predict manually\n",
    "sigmoid = lambda x: 1 / (1 + np.exp(-x))\n",
    "z = np.dot(Xtest,ricelr.coef_.T) + ricelr.intercept_\n",
    "z"
   ]
  },
  {
   "cell_type": "code",
   "execution_count": 9,
   "metadata": {},
   "outputs": [
    {
     "data": {
      "text/plain": [
       "array([[9.65850686e-01],\n",
       "       [3.10777332e-05],\n",
       "       [4.75278589e-01],\n",
       "       ...,\n",
       "       [1.79521950e-02],\n",
       "       [8.47432156e-01],\n",
       "       [1.86643411e-04]])"
      ]
     },
     "execution_count": 9,
     "metadata": {},
     "output_type": "execute_result"
    }
   ],
   "source": [
    "sigmoid(z)"
   ]
  },
  {
   "cell_type": "code",
   "execution_count": 12,
   "metadata": {},
   "outputs": [
    {
     "data": {
      "text/plain": [
       "array([[3.41493136e-02, 9.65850686e-01],\n",
       "       [9.99968922e-01, 3.10777332e-05],\n",
       "       [5.24721411e-01, 4.75278589e-01],\n",
       "       ...,\n",
       "       [9.82047805e-01, 1.79521950e-02],\n",
       "       [1.52567844e-01, 8.47432156e-01],\n",
       "       [9.99813357e-01, 1.86643411e-04]])"
      ]
     },
     "execution_count": 12,
     "metadata": {},
     "output_type": "execute_result"
    }
   ],
   "source": [
    "# Predict on test\n",
    "ricelr.predict_proba(Xtest)"
   ]
  },
  {
   "cell_type": "code",
   "execution_count": 13,
   "metadata": {},
   "outputs": [
    {
     "data": {
      "text/plain": [
       "array(['Osmancik', 'Cammeo', 'Cammeo', ..., 'Cammeo', 'Osmancik',\n",
       "       'Cammeo'], dtype=object)"
      ]
     },
     "execution_count": 13,
     "metadata": {},
     "output_type": "execute_result"
    }
   ],
   "source": [
    "# Get label predictions - how does this function work?\n",
    "ytest_hat = ricelr.predict(Xtest)\n",
    "ytest_hat"
   ]
  },
  {
   "cell_type": "markdown",
   "metadata": {},
   "source": [
    "## Lab 3.2 - Evaluating Classifiers"
   ]
  },
  {
   "cell_type": "code",
   "execution_count": 14,
   "metadata": {},
   "outputs": [
    {
     "name": "stdout",
     "output_type": "stream",
     "text": [
      "tp: 1001 tn: 773 fp: 81 fn: 50\n",
      "Accuracy: 0.931 Recall: 0.952 Precision: 0.925 Sensitivity: 0.952 Specificity: 0.905\n"
     ]
    }
   ],
   "source": [
    "# Calculate performance measures from scratch\n",
    "# TP: true postives \n",
    "# TN: true negatives \n",
    "# FP: False positives \n",
    "# FN: False negatives\n",
    "def compute_performance(yhat, y, classes):\n",
    "    # First, get tp, tn, fp, fn\n",
    "    tp = sum(np.logical_and(yhat == classes[1], y == classes[1]))\n",
    "    tn = sum(np.logical_and(yhat == classes[0], y == classes[0]))\n",
    "    fp = sum(np.logical_and(yhat == classes[1], y == classes[0]))\n",
    "    fn = sum(np.logical_and(yhat == classes[0], y == classes[1]))\n",
    "\n",
    "    print(f\"tp: {tp} tn: {tn} fp: {fp} fn: {fn}\")\n",
    "    \n",
    "    # Accuracy\n",
    "    acc = (tp + tn) / (tp + tn + fp + fn)\n",
    "    \n",
    "    # Precision\n",
    "    # \"Of the ones I labeled +, how many are actually +?\"\n",
    "    precision = tp / (tp + fp)\n",
    "    \n",
    "    # Recall\n",
    "    # \"Of all the + in the data, how many do I correctly label?\"\n",
    "    recall = tp / (tp + fn)    \n",
    "    \n",
    "    # Sensitivity\n",
    "    # \"Of all the + in the data, how many do I correctly label?\"\n",
    "    sensitivity = recall\n",
    "    \n",
    "    # Specificity\n",
    "    # \"Of all the - in the data, how many do I correctly label?\"\n",
    "    specificity = tn / (fp + tn)\n",
    "    \n",
    "    # Print results\n",
    "    \n",
    "    print(\"Accuracy:\",round(acc,3),\"Recall:\",round(recall,3),\"Precision:\",round(precision,3),\n",
    "          \"Sensitivity:\",round(sensitivity,3),\"Specificity:\",round(specificity,3))\n",
    "\n",
    "compute_performance(ytest_hat, ytest, ricelr.classes_)"
   ]
  },
  {
   "cell_type": "code",
   "execution_count": 18,
   "metadata": {},
   "outputs": [
    {
     "name": "stdout",
     "output_type": "stream",
     "text": [
      "tp: 1040 tn: 613 fp: 241 fn: 11\n",
      "Accuracy: 0.868 Recall: 0.99 Precision: 0.812 Sensitivity: 0.99 Specificity: 0.718\n"
     ]
    }
   ],
   "source": [
    "# Now let's experiment by adjusting the decision threshold\n",
    "ytest_prob = ricelr.predict_proba(Xtest)\n",
    "yhat = ricelr.classes_[(ytest_prob[:,1]>0.1).astype(int)]\n",
    "\n",
    "compute_performance(yhat, ytest, ricelr.classes_)\n"
   ]
  },
  {
   "cell_type": "code",
   "execution_count": 19,
   "metadata": {},
   "outputs": [
    {
     "name": "stderr",
     "output_type": "stream",
     "text": [
      "C:\\Users\\VBran\\anaconda3\\lib\\site-packages\\seaborn\\_decorators.py:36: FutureWarning: Pass the following variables as keyword args: x, y. From version 0.12, the only valid positional argument will be `data`, and passing other arguments without an explicit keyword will result in an error or misinterpretation.\n",
      "  warnings.warn(\n"
     ]
    },
    {
     "data": {
      "image/png": "[encoded data removed]",
      "text/plain": [
       "<Figure size 432x288 with 1 Axes>"
      ]
     },
     "metadata": {
      "needs_background": "light"
     },
     "output_type": "display_data"
    }
   ],
   "source": [
    "# ROC using sklearns ROC curve. \n",
    "fpr, tpr, _ = roc_curve(ytest, ytest_prob[:,1], pos_label=\"Osmancik\")\n",
    "ax = sns.lineplot(fpr,tpr)"
   ]
  },
  {
   "cell_type": "code",
   "execution_count": 20,
   "metadata": {},
   "outputs": [
    {
     "data": {
      "text/plain": [
       "0.9801115030404856"
      ]
     },
     "execution_count": 20,
     "metadata": {},
     "output_type": "execute_result"
    }
   ],
   "source": [
    "# AUROC\n",
    "auc(fpr,tpr)"
   ]
  },
  {
   "cell_type": "markdown",
   "metadata": {},
   "source": [
    "## Lab 3.3 - Multiclass Logistic Regression"
   ]
  },
  {
   "cell_type": "code",
   "execution_count": 21,
   "metadata": {},
   "outputs": [
    {
     "data": {
      "text/html": [
       "<div>\n",
       "<style scoped>\n",
       "    .dataframe tbody tr th:only-of-type {\n",
       "        vertical-align: middle;\n",
       "    }\n",
       "\n",
       "    .dataframe tbody tr th {\n",
       "        vertical-align: top;\n",
       "    }\n",
       "\n",
       "    .dataframe thead th {\n",
       "        text-align: right;\n",
       "    }\n",
       "</style>\n",
       "<table border=\"1\" class=\"dataframe\">\n",
       "  <thead>\n",
       "    <tr style=\"text-align: right;\">\n",
       "      <th></th>\n",
       "      <th>Sepal-length</th>\n",
       "      <th>Sepal-width</th>\n",
       "      <th>Petal-length</th>\n",
       "      <th>Petal-width</th>\n",
       "      <th>Species</th>\n",
       "    </tr>\n",
       "  </thead>\n",
       "  <tbody>\n",
       "    <tr>\n",
       "      <th>0</th>\n",
       "      <td>5.1</td>\n",
       "      <td>3.5</td>\n",
       "      <td>1.4</td>\n",
       "      <td>0.2</td>\n",
       "      <td>Iris-setosa</td>\n",
       "    </tr>\n",
       "    <tr>\n",
       "      <th>1</th>\n",
       "      <td>4.9</td>\n",
       "      <td>3.0</td>\n",
       "      <td>1.4</td>\n",
       "      <td>0.2</td>\n",
       "      <td>Iris-setosa</td>\n",
       "    </tr>\n",
       "    <tr>\n",
       "      <th>2</th>\n",
       "      <td>4.7</td>\n",
       "      <td>3.2</td>\n",
       "      <td>1.3</td>\n",
       "      <td>0.2</td>\n",
       "      <td>Iris-setosa</td>\n",
       "    </tr>\n",
       "    <tr>\n",
       "      <th>3</th>\n",
       "      <td>4.6</td>\n",
       "      <td>3.1</td>\n",
       "      <td>1.5</td>\n",
       "      <td>0.2</td>\n",
       "      <td>Iris-setosa</td>\n",
       "    </tr>\n",
       "    <tr>\n",
       "      <th>4</th>\n",
       "      <td>5.0</td>\n",
       "      <td>3.6</td>\n",
       "      <td>1.4</td>\n",
       "      <td>0.2</td>\n",
       "      <td>Iris-setosa</td>\n",
       "    </tr>\n",
       "  </tbody>\n",
       "</table>\n",
       "</div>"
      ],
      "text/plain": [
       "   Sepal-length  Sepal-width  Petal-length  Petal-width      Species\n",
       "0           5.1          3.5           1.4          0.2  Iris-setosa\n",
       "1           4.9          3.0           1.4          0.2  Iris-setosa\n",
       "2           4.7          3.2           1.3          0.2  Iris-setosa\n",
       "3           4.6          3.1           1.5          0.2  Iris-setosa\n",
       "4           5.0          3.6           1.4          0.2  Iris-setosa"
      ]
     },
     "execution_count": 21,
     "metadata": {},
     "output_type": "execute_result"
    }
   ],
   "source": [
    "# Read data\n",
    "iris = pd.read_csv(\"iris.csv\")\n",
    "iris.head()"
   ]
  },
  {
   "cell_type": "code",
   "execution_count": 22,
   "metadata": {},
   "outputs": [
    {
     "data": {
      "text/plain": [
       "Iris-setosa        50\n",
       "Iris-versicolor    50\n",
       "Iris-virginica     50\n",
       "Name: Species, dtype: int64"
      ]
     },
     "execution_count": 22,
     "metadata": {},
     "output_type": "execute_result"
    }
   ],
   "source": [
    "# Check out class distribution\n",
    "iris.Species.value_counts()"
   ]
  },
  {
   "cell_type": "code",
   "execution_count": 23,
   "metadata": {},
   "outputs": [],
   "source": [
    "# Create y and X. Not going to split these data for this demonstration.\n",
    "y = iris.Species.values\n",
    "X = iris.drop(\"Species\", axis = \"columns\")"
   ]
  },
  {
   "cell_type": "code",
   "execution_count": 40,
   "metadata": {},
   "outputs": [
    {
     "name": "stdout",
     "output_type": "stream",
     "text": [
      "Intercepts: [ 2.19258938  0.21853297 -2.41112235] \n",
      "Coefficients: [[-0.13682448  0.096067   -0.43483505 -0.17832092]\n",
      " [-0.00099744 -0.10239728  0.08665839 -0.00340217]\n",
      " [ 0.13782191  0.00633028  0.34817665  0.18172309]]\n"
     ]
    }
   ],
   "source": [
    "# Note that unlike our convention in class, sklearn makes a parameter vector\n",
    "# for every class (not just first K-1) even though it is redundant.\n",
    "# Try this with regularization too\n",
    "\n",
    "IRISLR = LogisticRegression(penalty = 'l2', solver = 'newton-cg', C = 0.01) # param C controls how much regularization is happening, defult is 1\n",
    "irislr = IRISLR.fit(X,y)\n",
    "print(f\"Intercepts: {irislr.intercept_} \\nCoefficients: {irislr.coef_}\")\n"
   ]
  },
  {
   "cell_type": "code",
   "execution_count": 41,
   "metadata": {},
   "outputs": [
    {
     "data": {
      "text/plain": [
       "array([[0.71766415, 0.21381534, 0.06852052],\n",
       "       [0.70685501, 0.22633209, 0.0668129 ],\n",
       "       [0.7323165 , 0.20817581, 0.05950769],\n",
       "       [0.70881893, 0.22505227, 0.06612879],\n",
       "       [0.7245337 , 0.2087652 , 0.0667011 ],\n",
       "       [0.6742779 , 0.23405299, 0.0916691 ],\n",
       "       [0.72673576, 0.20999816, 0.06326608],\n",
       "       [0.70560892, 0.22286924, 0.07152184],\n",
       "       [0.72030284, 0.21981415, 0.05988301],\n",
       "       [0.70288995, 0.22842071, 0.06868934],\n",
       "       [0.70207957, 0.22060249, 0.07731794],\n",
       "       [0.70047473, 0.22684486, 0.07268041],\n",
       "       [0.71474133, 0.22185497, 0.0634037 ],\n",
       "       [0.76385167, 0.18944813, 0.0467002 ],\n",
       "       [0.73426157, 0.19627652, 0.06946191],\n",
       "       [0.70638392, 0.20836292, 0.08525316],\n",
       "       [0.72403102, 0.2040045 , 0.07196447],\n",
       "       [0.71318185, 0.21622929, 0.07058886],\n",
       "       [0.66396841, 0.24062566, 0.09540594],\n",
       "       [0.71166627, 0.21418113, 0.0741526 ],\n",
       "       [0.66557443, 0.24636251, 0.08806305],\n",
       "       [0.70353362, 0.21978877, 0.07667761],\n",
       "       [0.78013931, 0.17281579, 0.0470449 ],\n",
       "       [0.65833121, 0.25149817, 0.09017063],\n",
       "       [0.66228663, 0.25079968, 0.08691369],\n",
       "       [0.67848146, 0.24442691, 0.07709163],\n",
       "       [0.68380187, 0.23564476, 0.08055337],\n",
       "       [0.70209795, 0.2233893 , 0.07451275],\n",
       "       [0.71069135, 0.21893577, 0.07037288],\n",
       "       [0.69677311, 0.23161535, 0.07161153],\n",
       "       [0.6895118 , 0.23699313, 0.07349508],\n",
       "       [0.68169054, 0.2354302 , 0.08287926],\n",
       "       [0.727502  , 0.20192359, 0.07057441],\n",
       "       [0.72788599, 0.19927012, 0.0728439 ],\n",
       "       [0.69831679, 0.23093898, 0.07074423],\n",
       "       [0.73386932, 0.20625224, 0.05987844],\n",
       "       [0.71575755, 0.213713  , 0.07052945],\n",
       "       [0.73221421, 0.204523  , 0.06326279],\n",
       "       [0.73520856, 0.20877751, 0.05601393],\n",
       "       [0.70207093, 0.22478429, 0.07314478],\n",
       "       [0.72836146, 0.20678266, 0.06485588],\n",
       "       [0.70272365, 0.23653075, 0.0607456 ],\n",
       "       [0.74197612, 0.20249984, 0.05552403],\n",
       "       [0.67781319, 0.23714369, 0.08504313],\n",
       "       [0.65571609, 0.24740585, 0.09687806],\n",
       "       [0.70582485, 0.22688745, 0.0672877 ],\n",
       "       [0.70409249, 0.21937447, 0.07653304],\n",
       "       [0.72414177, 0.21394607, 0.06191215],\n",
       "       [0.70565778, 0.21873552, 0.07560671],\n",
       "       [0.71408854, 0.21837814, 0.06753332],\n",
       "       [0.13897506, 0.39222947, 0.46879547],\n",
       "       [0.16889432, 0.40283325, 0.42827243],\n",
       "       [0.121615  , 0.39012496, 0.48826004],\n",
       "       [0.23651765, 0.44404033, 0.31944202],\n",
       "       [0.14971712, 0.41286262, 0.43742026],\n",
       "       [0.18920449, 0.42897597, 0.38181954],\n",
       "       [0.15221151, 0.39658167, 0.45120682],\n",
       "       [0.36949089, 0.41287916, 0.21762995],\n",
       "       [0.15587049, 0.4124625 , 0.431667  ],\n",
       "       [0.26606971, 0.4278872 , 0.30604309],\n",
       "       [0.32310029, 0.43977303, 0.23712668],\n",
       "       [0.20998622, 0.41639018, 0.3736236 ],\n",
       "       [0.22998294, 0.44727876, 0.32273829],\n",
       "       [0.15730341, 0.41697405, 0.42572254],\n",
       "       [0.30002301, 0.41143806, 0.28853894],\n",
       "       [0.17117779, 0.40460269, 0.42421952],\n",
       "       [0.18872964, 0.42014347, 0.39112689],\n",
       "       [0.23928401, 0.43206665, 0.32864934],\n",
       "       [0.15488681, 0.43844877, 0.40666442],\n",
       "       [0.25976518, 0.43547064, 0.30476419],\n",
       "       [0.14575456, 0.40028778, 0.45395766],\n",
       "       [0.22898567, 0.42234227, 0.34867206],\n",
       "       [0.12620019, 0.42033779, 0.45346202],\n",
       "       [0.16254912, 0.42440593, 0.41304495],\n",
       "       [0.1895773 , 0.4175078 , 0.3929149 ],\n",
       "       [0.17207774, 0.40928547, 0.41863679],\n",
       "       [0.12966835, 0.40622299, 0.46410866],\n",
       "       [0.11197204, 0.38903531, 0.49899266],\n",
       "       [0.17447457, 0.41831594, 0.40720949],\n",
       "       [0.31528994, 0.41896568, 0.26574437],\n",
       "       [0.27276128, 0.43674989, 0.29048883],\n",
       "       [0.29040573, 0.43372101, 0.27587327],\n",
       "       [0.25336944, 0.4268627 , 0.31976786],\n",
       "       [0.11888015, 0.41267264, 0.4684472 ],\n",
       "       [0.1950018 , 0.42247241, 0.38252579],\n",
       "       [0.18107035, 0.40005553, 0.41887412],\n",
       "       [0.14160198, 0.39828304, 0.46011498],\n",
       "       [0.17007797, 0.43852137, 0.39140066],\n",
       "       [0.24068652, 0.4199749 , 0.33933859],\n",
       "       [0.24207621, 0.43678989, 0.3211339 ],\n",
       "       [0.20508219, 0.43916254, 0.35575527],\n",
       "       [0.16815708, 0.41478084, 0.41706207],\n",
       "       [0.23879633, 0.43234355, 0.32886011],\n",
       "       [0.36149753, 0.41767901, 0.22082346],\n",
       "       [0.22136606, 0.43190513, 0.34672881],\n",
       "       [0.23026159, 0.42164165, 0.34809676],\n",
       "       [0.22310977, 0.42408843, 0.3528018 ],\n",
       "       [0.19588268, 0.41983294, 0.38428437],\n",
       "       [0.40240329, 0.39419531, 0.2034014 ],\n",
       "       [0.23170864, 0.42643326, 0.3418581 ],\n",
       "       [0.05449466, 0.32736703, 0.61813831],\n",
       "       [0.11473622, 0.40849709, 0.47676669],\n",
       "       [0.05287374, 0.33260983, 0.61451643],\n",
       "       [0.08095999, 0.37814571, 0.54089429],\n",
       "       [0.06230844, 0.34897717, 0.58871439],\n",
       "       [0.02961646, 0.28724989, 0.68313366],\n",
       "       [0.1909501 , 0.44205302, 0.36699688],\n",
       "       [0.04180848, 0.32223986, 0.63595166],\n",
       "       [0.06263456, 0.37116877, 0.56619667],\n",
       "       [0.04342529, 0.29262027, 0.66395444],\n",
       "       [0.1041684 , 0.37585239, 0.5199792 ],\n",
       "       [0.09076369, 0.389126  , 0.52011031],\n",
       "       [0.07284692, 0.35712222, 0.57003087],\n",
       "       [0.11798686, 0.4164952 , 0.46551795],\n",
       "       [0.10267088, 0.39111064, 0.50621848],\n",
       "       [0.08702267, 0.36232728, 0.55065006],\n",
       "       [0.08379162, 0.37421372, 0.54199466],\n",
       "       [0.0287925 , 0.25893826, 0.71226925],\n",
       "       [0.02114515, 0.27255303, 0.70630182],\n",
       "       [0.12118635, 0.4333125 , 0.44550114],\n",
       "       [0.06090586, 0.33436044, 0.60473369],\n",
       "       [0.1321071 , 0.4114318 , 0.45646111],\n",
       "       [0.02719538, 0.28801204, 0.68479259],\n",
       "       [0.1204034 , 0.40618948, 0.47340711],\n",
       "       [0.06791253, 0.34347527, 0.5886122 ],\n",
       "       [0.05400588, 0.33086812, 0.615126  ],\n",
       "       [0.13153571, 0.40734961, 0.46111468],\n",
       "       [0.12959702, 0.400894  , 0.46950898],\n",
       "       [0.0724164 , 0.36858158, 0.55900202],\n",
       "       [0.06340272, 0.35161757, 0.58497971],\n",
       "       [0.04486276, 0.32780778, 0.62732945],\n",
       "       [0.03589538, 0.27391477, 0.69018985],\n",
       "       [0.07051276, 0.36522544, 0.56426181],\n",
       "       [0.11663277, 0.4062541 , 0.47711313],\n",
       "       [0.08989924, 0.40440643, 0.50569433],\n",
       "       [0.03835952, 0.30092011, 0.66072036],\n",
       "       [0.07339036, 0.34475574, 0.5818539 ],\n",
       "       [0.08653448, 0.37375777, 0.53970775],\n",
       "       [0.13974628, 0.40478808, 0.45546564],\n",
       "       [0.0769529 , 0.35584612, 0.56720098],\n",
       "       [0.06512789, 0.34284094, 0.59203117],\n",
       "       [0.08804297, 0.36056258, 0.55139444],\n",
       "       [0.11473622, 0.40849709, 0.47676669],\n",
       "       [0.05461866, 0.32831772, 0.61706361],\n",
       "       [0.06084963, 0.33005779, 0.60909259],\n",
       "       [0.08509374, 0.36446273, 0.55044353],\n",
       "       [0.10809492, 0.40679758, 0.4851075 ],\n",
       "       [0.09568244, 0.37844269, 0.52587487],\n",
       "       [0.08722287, 0.35785823, 0.5549189 ],\n",
       "       [0.11973188, 0.40007635, 0.48019177]])"
      ]
     },
     "execution_count": 41,
     "metadata": {},
     "output_type": "execute_result"
    }
   ],
   "source": [
    "# Note that sklearn uses rows to indicate truth, columns to indicate prediction, unlike our convention\n",
    "# So transpose it.\n",
    "\n",
    "yhat = irislr.predict(X)\n",
    "yhat_probs = irislr.predict_proba(X)\n",
    "yhat_probs"
   ]
  },
  {
   "cell_type": "code",
   "execution_count": 42,
   "metadata": {},
   "outputs": [
    {
     "data": {
      "text/plain": [
       "array([[50,  0,  0],\n",
       "       [ 1, 32, 17],\n",
       "       [ 0,  1, 49]], dtype=int64)"
      ]
     },
     "execution_count": 42,
     "metadata": {},
     "output_type": "execute_result"
    }
   ],
   "source": [
    "confusion_matrix(yhat, y).T"
   ]
  },
  {
   "cell_type": "code",
   "execution_count": null,
   "metadata": {},
   "outputs": [],
   "source": []
  }
 ],
 "metadata": {
  "kernelspec": {
   "display_name": "Python 3 (ipykernel)",
   "language": "python",
   "name": "python3"
  },
  "language_info": {
   "codemirror_mode": {
    "name": "ipython",
    "version": 3
   },
   "file_extension": ".py",
   "mimetype": "text/x-python",
   "name": "python",
   "nbconvert_exporter": "python",
   "pygments_lexer": "ipython3",
   "version": "3.9.7"
  }
 },
 "nbformat": 4,
 "nbformat_minor": 4
}
