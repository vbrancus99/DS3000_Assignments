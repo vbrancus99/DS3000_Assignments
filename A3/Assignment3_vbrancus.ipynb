{
 "cells": [
  {
   "cell_type": "markdown",
   "metadata": {
    "id": "YtIuUwG9VAH4"
   },
   "source": [
    "# Assignment 3: Classification with Logistic Regression\n",
    "\n",
    "# Total: /100\n",
    "\n",
    "## Instructions\n",
    "\n",
    "* Complete the assignment\n",
    "\n",
    "* Once the notebook is complete, restart your kernel and rerun your cells\n",
    "\n",
    "* Submit this notebook to owl by the deadline\n",
    "\n",
    "* You may use any python library functions you wish to complete the assignment.\n",
    "\n",
    "## The Dataset\n",
    "\n",
    "AIM: To explain how machine learning can help in a bank marketing campaign. The goal of our classifier is to predict, using a logistic regression, if a client may subscribe to a fixed term deposit. Often, more than one contact to the same client was required, in order to access if the product (bank term deposit) would be (â€˜yesâ€™) or not (â€˜noâ€™) subscribed.\n",
    "\n",
    "The dataset contains both numerical and categorical input variables, while the response variable ('target') takes value 1 in case of 'yes' and 0 in case of 'no'.\n",
    "\n",
    "You can read more about the data and the variables [here](https://archive.ics.uci.edu/ml/datasets/bank+marketing)."
   ]
  },
  {
   "cell_type": "code",
   "execution_count": 1,
   "metadata": {
    "id": "NkVuBc6jVAH9"
   },
   "outputs": [],
   "source": [
    "# You may need these\n",
    "import pandas as pd\n",
    "import numpy as np\n",
    "from sklearn.model_selection import train_test_split\n",
    "from sklearn.linear_model import LogisticRegression\n",
    "from sklearn.metrics import confusion_matrix, roc_curve, precision_recall_curve, auc\n",
    "\n",
    "import seaborn as sns\n",
    "\n",
    "\n",
    "import matplotlib.pyplot as plt\n",
    "%matplotlib inline"
   ]
  },
  {
   "cell_type": "markdown",
   "metadata": {
    "id": "-VEMPe8HVAIA"
   },
   "source": [
    "## Question 1: /15 pts"
   ]
  },
  {
   "cell_type": "markdown",
   "metadata": {
    "id": "xew5cTpaVAIB"
   },
   "source": [
    "1. Read in the `bank_A3.csv` dataset and display the first 5 rows.\n",
    "2. Print out all columns in the dataset and list categorical variables. Use the build-in function `get_dummies()` to convert all categorical variables (**exclude target variable**) to dummy variables. You may read the official explanations for more information on `get_dummies()` [here](https://pandas.pydata.org/docs/reference/api/pandas.get_dummies.html). What's the size of the dataframe after transforming it?\n",
    "3. Map the target values from yes/no to 1/0. What is the baseline accuracy for this classification problem? Round into 1 decimal place (for example, 50.1% or 0.501)."
   ]
  },
  {
   "cell_type": "markdown",
   "metadata": {
    "id": "YnaaSYOHVAID"
   },
   "source": [
    "1.1 Read the dataset and display the first 5 rows"
   ]
  },
  {
   "cell_type": "code",
   "execution_count": 2,
   "metadata": {
    "id": "QqmKCVBxVAIF"
   },
   "outputs": [
    {
     "data": {
      "text/html": [
       "<div>\n",
       "<style scoped>\n",
       "    .dataframe tbody tr th:only-of-type {\n",
       "        vertical-align: middle;\n",
       "    }\n",
       "\n",
       "    .dataframe tbody tr th {\n",
       "        vertical-align: top;\n",
       "    }\n",
       "\n",
       "    .dataframe thead th {\n",
       "        text-align: right;\n",
       "    }\n",
       "</style>\n",
       "<table border=\"1\" class=\"dataframe\">\n",
       "  <thead>\n",
       "    <tr style=\"text-align: right;\">\n",
       "      <th></th>\n",
       "      <th>age</th>\n",
       "      <th>job</th>\n",
       "      <th>marital</th>\n",
       "      <th>education</th>\n",
       "      <th>default</th>\n",
       "      <th>balance</th>\n",
       "      <th>housing</th>\n",
       "      <th>loan</th>\n",
       "      <th>day</th>\n",
       "      <th>month</th>\n",
       "      <th>duration</th>\n",
       "      <th>campaign</th>\n",
       "      <th>pdays</th>\n",
       "      <th>previous</th>\n",
       "      <th>poutcome</th>\n",
       "      <th>target</th>\n",
       "    </tr>\n",
       "  </thead>\n",
       "  <tbody>\n",
       "    <tr>\n",
       "      <th>0</th>\n",
       "      <td>58</td>\n",
       "      <td>management</td>\n",
       "      <td>married</td>\n",
       "      <td>tertiary</td>\n",
       "      <td>0</td>\n",
       "      <td>2143</td>\n",
       "      <td>1</td>\n",
       "      <td>0</td>\n",
       "      <td>5</td>\n",
       "      <td>may</td>\n",
       "      <td>4.35</td>\n",
       "      <td>1</td>\n",
       "      <td>-1</td>\n",
       "      <td>0</td>\n",
       "      <td>unknown</td>\n",
       "      <td>no</td>\n",
       "    </tr>\n",
       "    <tr>\n",
       "      <th>1</th>\n",
       "      <td>44</td>\n",
       "      <td>technician</td>\n",
       "      <td>single</td>\n",
       "      <td>secondary</td>\n",
       "      <td>0</td>\n",
       "      <td>29</td>\n",
       "      <td>1</td>\n",
       "      <td>0</td>\n",
       "      <td>5</td>\n",
       "      <td>may</td>\n",
       "      <td>2.52</td>\n",
       "      <td>1</td>\n",
       "      <td>-1</td>\n",
       "      <td>0</td>\n",
       "      <td>unknown</td>\n",
       "      <td>no</td>\n",
       "    </tr>\n",
       "    <tr>\n",
       "      <th>2</th>\n",
       "      <td>33</td>\n",
       "      <td>entrepreneur</td>\n",
       "      <td>married</td>\n",
       "      <td>secondary</td>\n",
       "      <td>0</td>\n",
       "      <td>2</td>\n",
       "      <td>1</td>\n",
       "      <td>1</td>\n",
       "      <td>5</td>\n",
       "      <td>may</td>\n",
       "      <td>1.27</td>\n",
       "      <td>1</td>\n",
       "      <td>-1</td>\n",
       "      <td>0</td>\n",
       "      <td>unknown</td>\n",
       "      <td>no</td>\n",
       "    </tr>\n",
       "    <tr>\n",
       "      <th>3</th>\n",
       "      <td>35</td>\n",
       "      <td>management</td>\n",
       "      <td>married</td>\n",
       "      <td>tertiary</td>\n",
       "      <td>0</td>\n",
       "      <td>231</td>\n",
       "      <td>1</td>\n",
       "      <td>0</td>\n",
       "      <td>5</td>\n",
       "      <td>may</td>\n",
       "      <td>2.32</td>\n",
       "      <td>1</td>\n",
       "      <td>-1</td>\n",
       "      <td>0</td>\n",
       "      <td>unknown</td>\n",
       "      <td>no</td>\n",
       "    </tr>\n",
       "    <tr>\n",
       "      <th>4</th>\n",
       "      <td>28</td>\n",
       "      <td>management</td>\n",
       "      <td>single</td>\n",
       "      <td>tertiary</td>\n",
       "      <td>0</td>\n",
       "      <td>447</td>\n",
       "      <td>1</td>\n",
       "      <td>1</td>\n",
       "      <td>5</td>\n",
       "      <td>may</td>\n",
       "      <td>3.62</td>\n",
       "      <td>1</td>\n",
       "      <td>-1</td>\n",
       "      <td>0</td>\n",
       "      <td>unknown</td>\n",
       "      <td>no</td>\n",
       "    </tr>\n",
       "  </tbody>\n",
       "</table>\n",
       "</div>"
      ],
      "text/plain": [
       "   age           job  marital  education  default  balance  housing  loan  \\\n",
       "0   58    management  married   tertiary        0     2143        1     0   \n",
       "1   44    technician   single  secondary        0       29        1     0   \n",
       "2   33  entrepreneur  married  secondary        0        2        1     1   \n",
       "3   35    management  married   tertiary        0      231        1     0   \n",
       "4   28    management   single   tertiary        0      447        1     1   \n",
       "\n",
       "   day month  duration  campaign  pdays  previous poutcome target  \n",
       "0    5   may      4.35         1     -1         0  unknown     no  \n",
       "1    5   may      2.52         1     -1         0  unknown     no  \n",
       "2    5   may      1.27         1     -1         0  unknown     no  \n",
       "3    5   may      2.32         1     -1         0  unknown     no  \n",
       "4    5   may      3.62         1     -1         0  unknown     no  "
      ]
     },
     "metadata": {},
     "output_type": "display_data"
    }
   ],
   "source": [
    "# Question 1.1 code here\n",
    "df = pd.read_csv(\"bank_A3.csv\")\n",
    "display(df.head())"
   ]
  },
  {
   "cell_type": "markdown",
   "metadata": {
    "id": "aM5kGQsKVAIH"
   },
   "source": [
    "1.2 Print out all columns in the dataset and **list** all categorical variables in the answer part. Use the build-in function `get_dummies()` to convert all categorical variables (**excluding `target` variable**) to dummy variables. What's the size of the dataframe after transforming?"
   ]
  },
  {
   "cell_type": "code",
   "execution_count": 3,
   "metadata": {
    "id": "b2ul-mPMVAII",
    "scrolled": true
   },
   "outputs": [
    {
     "name": "stdout",
     "output_type": "stream",
     "text": [
      "Dataframe Columns:\n",
      "age\n",
      "job\n",
      "marital\n",
      "education\n",
      "default\n",
      "balance\n",
      "housing\n",
      "loan\n",
      "day\n",
      "month\n",
      "duration\n",
      "campaign\n",
      "pdays\n",
      "previous\n",
      "poutcome\n",
      "target\n",
      "\n",
      "Categorical Columns: \n"
     ]
    },
    {
     "data": {
      "text/plain": [
       "['job', 'marital', 'education', 'month', 'poutcome', 'target']"
      ]
     },
     "metadata": {},
     "output_type": "display_data"
    },
    {
     "data": {
      "text/plain": [
       "1797004"
      ]
     },
     "metadata": {},
     "output_type": "display_data"
    }
   ],
   "source": [
    "# Question 1.2 code here\n",
    "\n",
    "print(\"Dataframe Columns:\")\n",
    "for i in df.columns: # print out all columns\n",
    "    print(i)\n",
    "    \n",
    "print(\"\\nCategorical Columns: \")\n",
    "display(df.select_dtypes(include=['object']).columns.tolist()) # finding categorical columns\n",
    "\n",
    "df = pd.get_dummies(df, prefix = ['job', 'marital', 'education', 'month', 'poutcome'], columns = ['job', 'marital', 'education', 'month', 'poutcome'])\n",
    "display(df.size)"
   ]
  },
  {
   "cell_type": "markdown",
   "metadata": {
    "id": "O4IcqUO7VAIK"
   },
   "source": [
    "**YOUR ANSWER HERE:** job, marital, education, month, poutcome, and target are the categorical variables. The dataframe size after transforming is 44 columns and 1,797,004 entries."
   ]
  },
  {
   "cell_type": "markdown",
   "metadata": {
    "id": "I4JlOoqFVAIM"
   },
   "source": [
    "1.3. What is the baseline accuracy for this classification problem? Round into 3 decimal place (for example, 0.501)."
   ]
  },
  {
   "cell_type": "code",
   "execution_count": 4,
   "metadata": {
    "id": "VUDUlM3DVAIN"
   },
   "outputs": [
    {
     "name": "stdout",
     "output_type": "stream",
     "text": [
      "Baseline Accuracy: 0.886\n"
     ]
    }
   ],
   "source": [
    "# Your code here\n",
    "df.target.value_counts()\n",
    "baseline_acc = 36202/(36202+4639)\n",
    "print('Baseline Accuracy: %.3f' %baseline_acc)"
   ]
  },
  {
   "cell_type": "markdown",
   "metadata": {
    "id": "ppQ0gpF0VAIQ"
   },
   "source": [
    "**YOUR ANSWER HERE:** The baseline accuracy is 0.886."
   ]
  },
  {
   "cell_type": "markdown",
   "metadata": {
    "id": "nKs5-XYmVAIT"
   },
   "source": [
    "## Question 2: /5 pts\n",
    "\n",
    "Split the data into train and test for the outcome/response and the predictor variables. Hold out 30% of observations as the test set.  Pass `random_state=0` to `train_test_split` to ensure you get the same train and tests sets as the solution. Your dependent variable in the the dataset is named as `target`."
   ]
  },
  {
   "cell_type": "code",
   "execution_count": 5,
   "metadata": {
    "id": "F0IeZszTVAIU"
   },
   "outputs": [],
   "source": [
    "# Question 2 code here.\n",
    "X = df.drop('target', axis = 'columns').values\n",
    "y = df.target.values\n",
    "\n",
    "Xtrain, Xtest, ytrain, ytest = train_test_split(X,y, test_size = 0.3, random_state = 0)"
   ]
  },
  {
   "cell_type": "markdown",
   "metadata": {
    "heading_collapsed": true,
    "id": "HXrJWM2pVAIW"
   },
   "source": [
    "## Question 3: /5 pts\n",
    "\n",
    "Read the documentation for [sklearn's `LogisticRegression`](https://scikit-learn.org/stable/modules/generated/sklearn.linear_model.LogisticRegression.html).  In no more than 2 sentences per bullet point, answer the following in your own words.\n",
    "\n",
    "* Does `LogisticRegression` use a penalty by default?  If yes, what penalty?\n",
    "\n",
    "**YOUR ANSWER HERE:** Yes, the default is L2 or Ridge penalty.\n",
    "    \n",
    "* If we apply a penalty during learning, what difference do you expect to see in the resulting coefficients, relative to not applying a penalty during learning?\n",
    "\n",
    "**YOUR ANSWER HERE:** Expect the resulting coefficients to be closer to zero. i.e Have a smaller absolute value\n",
    "    \n",
    "* If using the default settings of `LogisticRegression` in `sklearn`, should you include a column of 1s in your feature/design matrix? Briefly explain why or why not.\n",
    "\n",
    "**YOUR ANSWER HERE:**"
   ]
  },
  {
   "cell_type": "markdown",
   "metadata": {
    "id": "s4r5oRIlVAIX"
   },
   "source": [
    "## Question 4: /25 pts\n"
   ]
  },
  {
   "cell_type": "markdown",
   "metadata": {
    "id": "St-YYuMOVAIY"
   },
   "source": [
    "4.1 Create a instance of sklearn's `LogisticRegression` object for **unpenalized** logistic regression.\n",
    "Using this object, **run a logisitic regression analysis** of `target` (y-variable) against `age`,`default` and `balance` (x-variables) using your training data. Report the parameters of your model as indicated with the `print` function."
   ]
  },
  {
   "cell_type": "code",
   "execution_count": 6,
   "metadata": {
    "id": "wLBVkm5hVAIa"
   },
   "outputs": [],
   "source": [
    "# Question 4 code here\n",
    "BANKLR = LogisticRegression(penalty=\"none\", max_iter=10000)\n",
    "\n",
    "# create new train and test sets for required variables\n",
    "Xtrain_simple = Xtrain[:,[0,4,5]]\n",
    "Xtest_simple = Xtest[:,[0,4,5]]\n",
    "\n",
    "banklr = BANKLR.fit(Xtrain_simple, ytrain)"
   ]
  },
  {
   "cell_type": "code",
   "execution_count": 7,
   "metadata": {
    "id": "42JIIgNvVAIb"
   },
   "outputs": [
    {
     "name": "stdout",
     "output_type": "stream",
     "text": [
      "The parameters of the model asociated to age, default and balance are respectively: [[ 0.00646312 -0.64870983 -0.0128839 ]]\n"
     ]
    }
   ],
   "source": [
    "print(f'The parameters of the model asociated to age, default and balance are respectively: {banklr.coef_}')"
   ]
  },
  {
   "cell_type": "code",
   "execution_count": 8,
   "metadata": {
    "id": "1UDyakjDVAIc"
   },
   "outputs": [
    {
     "name": "stdout",
     "output_type": "stream",
     "text": [
      "The intercept of the model is:[-2.0313577]\n"
     ]
    }
   ],
   "source": [
    "print(f'The intercept of the model is:{banklr.intercept_}')"
   ]
  },
  {
   "cell_type": "markdown",
   "metadata": {
    "id": "VJKwvz-NVAId"
   },
   "source": [
    "4.2 Compute the label-based criteria we discussed in the Lesson for your three variables only classifier **using the test data**. Use a threshold of 0.5. Answer the questions in this text box below. (Note that you may have a warning in your code while running the performance matrix and it is designed to have it for this assignment)"
   ]
  },
  {
   "cell_type": "code",
   "execution_count": 9,
   "metadata": {
    "id": "PXgFWRHnVAId"
   },
   "outputs": [],
   "source": [
    "## Put code here to compute criteria:\n",
    "def compute_performance(yhat, y, classes):\n",
    "    # First, get tp, tn, fp, fn\n",
    "    tp = sum(np.logical_and(yhat == classes[1], y == classes[1]))\n",
    "    tn = sum(np.logical_and(yhat == classes[0], y == classes[0]))\n",
    "    fp = sum(np.logical_and(yhat == classes[1], y == classes[0]))\n",
    "    fn = sum(np.logical_and(yhat == classes[0], y == classes[1]))\n",
    "\n",
    "    print(f\"tp: {tp} tn: {tn} fp: {fp} fn: {fn}\")\n",
    "    \n",
    "    # Accuracy\n",
    "    acc = (tp + tn) / (tp + tn + fp + fn)\n",
    "    \n",
    "    # Precision\n",
    "    precision = tp / (tp + fp)\n",
    "    \n",
    "    # Recall\n",
    "    recall = tp / (tp + fn)\n",
    "    \n",
    "    # Sensitivity\n",
    "    sensitivity = recall\n",
    "    \n",
    "    # Specificity\n",
    "    specificity = tn / (fp + tn)\n",
    "    \n",
    "    # Print results\n",
    "    print(\"Accuracy:\",round(acc,3),\"Recall:\",round(recall,3),\"Precision:\",round(precision,3),\n",
    "          \"Sensitivity:\",round(sensitivity,3),\"Specificity:\",round(specificity,3))\n",
    "    "
   ]
  },
  {
   "cell_type": "code",
   "execution_count": 10,
   "metadata": {
    "id": "VcwYP53QVAIf"
   },
   "outputs": [
    {
     "name": "stdout",
     "output_type": "stream",
     "text": [
      "tp: 0 tn: 10870 fp: 0 fn: 1383\n",
      "Accuracy: 0.887 Recall: 0.0 Precision: nan Sensitivity: 0.0 Specificity: 1.0\n"
     ]
    },
    {
     "name": "stderr",
     "output_type": "stream",
     "text": [
      "C:\\Users\\VBran\\AppData\\Local\\Temp/ipykernel_23004/3853002090.py:15: RuntimeWarning: invalid value encountered in long_scalars\n",
      "  precision = tp / (tp + fp)\n"
     ]
    }
   ],
   "source": [
    "## Put the code you need to answer the following questions.\n",
    "\n",
    "ytest_hat = banklr.predict(Xtest_simple) # obtain y hat for test set\n",
    "\n",
    "compute_performance(ytest_hat, ytest, banklr.classes_)"
   ]
  },
  {
   "cell_type": "markdown",
   "metadata": {
    "id": "CTVpnt_6VAIg"
   },
   "source": [
    "* How many of the test instances are labeled positive by your classifier?\n",
    "\n",
    "**YOUR ANSWER HERE:** None are predicted positive.\n",
    "\n",
    "* Does this classifier reach the baseline accuracy? Why did the warning message appear? \n",
    "\n",
    "**YOUR ANSWER HERE:** Yes, it reaches baseline accuracy as it always predicts 'no'. Thus baseline accuracy is met exactly. The warning message appeared due to division by zero when trying to calculate precision. \n",
    "\n",
    "* Is this classifier useful for classifying the target? Explain in one or two sentences using the performance matrix results.\n",
    "\n",
    "**YOUR ANSWER HERE:** No it is not useful. Since Recall is 0, F-measure is also 0, which is bad. Also, although the accuracy is 0.887, the balanced accuracy is only 0.5. The classifier doesn't correctly identify any positives, so it is not useful. "
   ]
  },
  {
   "cell_type": "markdown",
   "metadata": {
    "id": "IgnW6UBuVAIh"
   },
   "source": [
    "## Question 5: /5 pts\n",
    "Now fit a logistic regression model with default penalty method to the training data and include all the variables in the data frame (except for `target`) in the cell below. You will want to make a new object like you did for the simpler model. Print the parameters (variables and bias) you obtain."
   ]
  },
  {
   "cell_type": "code",
   "execution_count": 11,
   "metadata": {
    "id": "95P5VpaVVAIi"
   },
   "outputs": [
    {
     "name": "stdout",
     "output_type": "stream",
     "text": [
      "The parameters of the model are respectively: [[-3.54589984e-03  1.05348954e-04  3.57808884e-05 -6.98547884e-01\n",
      "  -3.16027046e-01 -4.59676543e-06  2.47808171e-01 -9.82366803e-02\n",
      "   2.94193979e-04  4.25640992e-02  1.40482152e-01 -2.67613457e-01\n",
      "  -3.04914026e-01 -3.72548060e-01 -7.73812561e-02 -1.25874679e-01\n",
      "   4.55338374e-01 -2.80250389e-01 -1.72306990e-01  4.51144368e-01\n",
      "  -9.20839391e-02 -1.06904925e-01 -2.16236850e-01 -4.54913993e-01\n",
      "  -8.17619853e-02 -4.22378109e-01 -2.66766042e-01 -6.37686781e-02\n",
      "   1.71795451e-01 -6.19894422e-01  2.83190650e-01 -1.40947833e-01\n",
      "  -8.38822981e-01 -7.69159487e-01 -5.38173089e-01  1.59781750e+00\n",
      "  -9.38155215e-01 -7.64109982e-01  9.82865861e-01  8.20680722e-01\n",
      "  -1.02732359e+00  1.41177396e+00 -1.13736320e+00]]\n",
      "The intercept of the model is:[-0.76878295]\n"
     ]
    }
   ],
   "source": [
    "# Code for Question 6\n",
    "BANKLR2 = LogisticRegression(max_iter = 10000)\n",
    "\n",
    "# use original train and test sets now\n",
    "banklr2 = BANKLR2.fit(Xtrain, ytrain)\n",
    "\n",
    "print(f'The parameters of the model are respectively: {banklr2.coef_}')\n",
    "print(f'The intercept of the model is:{banklr2.intercept_}')"
   ]
  },
  {
   "cell_type": "markdown",
   "metadata": {
    "id": "ypHeyF9nVAIk"
   },
   "source": [
    "## Question 6: /15 pts\n",
    "\n",
    "In the cell below, Compute the label-based criteria we discussed in the Lesson for new classifier using the test data. (You don't have to copy the function down into this cell; just call it again here.) Use a threshold of 0.5. "
   ]
  },
  {
   "cell_type": "code",
   "execution_count": 12,
   "metadata": {
    "id": "LlzJjA2zVAIk"
   },
   "outputs": [
    {
     "name": "stdout",
     "output_type": "stream",
     "text": [
      "tp: 464 tn: 10626 fp: 244 fn: 919\n",
      "Accuracy: 0.905 Recall: 0.336 Precision: 0.655 Sensitivity: 0.336 Specificity: 0.978\n"
     ]
    }
   ],
   "source": [
    "# Code for answering questions in the below cell\n",
    "ytest_hat2 = banklr2.predict(Xtest)\n",
    "\n",
    "compute_performance(ytest_hat2, ytest, banklr2.classes_)"
   ]
  },
  {
   "cell_type": "markdown",
   "metadata": {
    "id": "ijjDiEr0VAIl"
   },
   "source": [
    "\n",
    "* How many of the test instances are labeled positive by your classifier?\n",
    "\n",
    "**YOUR ANSWER:** tp + fp = 708 instances labeled positive\n",
    "\n",
    "* Is this classifier **better or worse than the previous classifier** for classifying our target? Explain in one or two sentences.*\n",
    "\n",
    "**YOUR ANSWER:** It is better than the previous classifier because it now identifies at least some positives. The F-measure is now 0.444 which is much better than before. Now the accuracy increased and also the balanced accuracy now is 0.657 which is better than for the other classifier."
   ]
  },
  {
   "cell_type": "markdown",
   "metadata": {
    "id": "6mKds6FoVAIl"
   },
   "source": [
    "## Question 7: /15 pts\n",
    "In the cell below, predict the probability coding your own sigmoid function (do NOT use  the predict function from sklearn). Compare the first 5 rows using the models constructed in question 4 and question 5."
   ]
  },
  {
   "cell_type": "code",
   "execution_count": 13,
   "metadata": {
    "id": "VBQPDo2hVAIm"
   },
   "outputs": [],
   "source": [
    "# Your code here\n",
    "sigmoid = lambda x: 1 / (1 + np.exp(-x))"
   ]
  },
  {
   "cell_type": "code",
   "execution_count": 14,
   "metadata": {
    "id": "ZOqYE4myVAIn"
   },
   "outputs": [
    {
     "data": {
      "text/plain": [
       "array([[0.1022601 ],\n",
       "       [0.14361427],\n",
       "       [0.10772093],\n",
       "       [0.13289418],\n",
       "       [0.10708914]])"
      ]
     },
     "execution_count": 14,
     "metadata": {},
     "output_type": "execute_result"
    }
   ],
   "source": [
    "# First 5 probabilities using question 4 model\n",
    "z = np.dot(Xtest_simple, banklr.coef_.T) + banklr.intercept_\n",
    "sigmoid(z)[0:5]"
   ]
  },
  {
   "cell_type": "code",
   "execution_count": 15,
   "metadata": {
    "id": "eYuRiNnWVAIn"
   },
   "outputs": [
    {
     "data": {
      "text/plain": [
       "array([[0.081975  ],\n",
       "       [0.02627345],\n",
       "       [0.03082259],\n",
       "       [0.03287794],\n",
       "       [0.06944481]])"
      ]
     },
     "execution_count": 15,
     "metadata": {},
     "output_type": "execute_result"
    }
   ],
   "source": [
    "# First 5 probabilities using question 5 model\n",
    "z2 = np.dot(Xtest, banklr2.coef_.T) + banklr2.intercept_\n",
    "sigmoid(z2)[0:5]"
   ]
  },
  {
   "cell_type": "markdown",
   "metadata": {
    "id": "YTRQDdiYVAIo"
   },
   "source": [
    "* Is the probability given by the sigmoid function the probability of a case being positive or negative?\n",
    "\n",
    "**YOUR ANSWER:** Of being positive.\n",
    "\n",
    "* How does the probability changes by just looking over the first 5 cases. Does the change of probability actually change the classification results?\n",
    "\n",
    "**YOUR ANSWER:** The probability of the result being positive decreases but the classification results for these 5 cases do not change. They are all still classified as negative."
   ]
  },
  {
   "cell_type": "markdown",
   "metadata": {
    "id": "uADlUmjvVAIo"
   },
   "source": [
    "# Question 8: /15 pts\n",
    "\n",
    "Plot ROC curves for both of your classifiers using the cells below, then answer the following questions, computing whatever quantities you need to answer them.\n"
   ]
  },
  {
   "cell_type": "code",
   "execution_count": 16,
   "metadata": {
    "id": "hqbRzZkgVAIp"
   },
   "outputs": [
    {
     "name": "stderr",
     "output_type": "stream",
     "text": [
      "C:\\Users\\VBran\\anaconda3\\lib\\site-packages\\seaborn\\_decorators.py:36: FutureWarning: Pass the following variables as keyword args: x, y. From version 0.12, the only valid positional argument will be `data`, and passing other arguments without an explicit keyword will result in an error or misinterpretation.\n",
      "  warnings.warn(\n"
     ]
    },
    {
     "data": {
      "text/plain": [
       "Text(0.5, 1.0, 'ROC Curve for Simple Classifier')"
      ]
     },
     "execution_count": 16,
     "metadata": {},
     "output_type": "execute_result"
    },
    {
     "data": {
      "image/png": "[encoded data removed]",
      "text/plain": [
       "<Figure size 432x288 with 1 Axes>"
      ]
     },
     "metadata": {
      "needs_background": "light"
     },
     "output_type": "display_data"
    }
   ],
   "source": [
    "# ROC for the simplier classifier\n",
    "ytest_prob = banklr.predict_proba(Xtest_simple)\n",
    "fpr, tpr, _ = roc_curve(ytest, ytest_prob[:,1], pos_label=\"yes\")\n",
    "ax = sns.lineplot(fpr, tpr)\n",
    "plt.xlabel(\"False Positive Rate\")\n",
    "plt.ylabel(\"True Positive Rate\")\n",
    "plt.title(\"ROC Curve for Simple Classifier\")"
   ]
  },
  {
   "cell_type": "code",
   "execution_count": 17,
   "metadata": {
    "id": "Q5cwM7i4VAIp"
   },
   "outputs": [
    {
     "name": "stderr",
     "output_type": "stream",
     "text": [
      "C:\\Users\\VBran\\anaconda3\\lib\\site-packages\\seaborn\\_decorators.py:36: FutureWarning: Pass the following variables as keyword args: x, y. From version 0.12, the only valid positional argument will be `data`, and passing other arguments without an explicit keyword will result in an error or misinterpretation.\n",
      "  warnings.warn(\n"
     ]
    },
    {
     "data": {
      "text/plain": [
       "Text(0.5, 1.0, 'ROC Curve for Complete Classifier')"
      ]
     },
     "execution_count": 17,
     "metadata": {},
     "output_type": "execute_result"
    },
    {
     "data": {
      "image/png": "[encoded data removed]",
      "text/plain": [
       "<Figure size 432x288 with 1 Axes>"
      ]
     },
     "metadata": {
      "needs_background": "light"
     },
     "output_type": "display_data"
    }
   ],
   "source": [
    "# ROC for all-variable classifier\n",
    "y_test_prob2 = banklr2.predict_proba(Xtest)\n",
    "fpr2, tpr2, _ = roc_curve(ytest, y_test_prob2[:,1], pos_label=\"yes\")\n",
    "ax2 = sns.lineplot(fpr2, tpr2, color  = 'red')\n",
    "plt.xlabel(\"False Positive Rate\")\n",
    "plt.ylabel(\"True Positive Rate\")\n",
    "plt.title(\"ROC Curve for Complete Classifier\")"
   ]
  },
  {
   "cell_type": "markdown",
   "metadata": {
    "id": "g9B7d6KPVAIp"
   },
   "source": [
    "\n",
    "* Which classifier has a higher estimated probability of correctly distinguishing between a positive and a negative instance? How do you know?\n",
    "\n",
    "**YOUR ANSWER:**  The complete classifier has a higher probability because its AUROC is larger.\n",
    "* How would you explain a result where a logistic regression classifier produces an AUROC that is below 0.5 (say, 0.3)?\n",
    "\n",
    "**YOUR ANSWER:** An AUROC of 0.5 is that of a predictor that makes random guesses. So one that has an AUROC of 0.3 would have a 30% chance of correctly distinguishing between a positive and a negative instance. Thus, it selects incorrectly more often than not. \n"
   ]
  },
  {
   "cell_type": "code",
   "execution_count": null,
   "metadata": {},
   "outputs": [],
   "source": []
  }
 ],
 "metadata": {
  "colab": {
   "name": "Assignment_3_Clean.ipynb",
   "provenance": []
  },
  "kernelspec": {
   "display_name": "Python 3 (ipykernel)",
   "language": "python",
   "name": "python3"
  },
  "language_info": {
   "codemirror_mode": {
    "name": "ipython",
    "version": 3
   },
   "file_extension": ".py",
   "mimetype": "text/x-python",
   "name": "python",
   "nbconvert_exporter": "python",
   "pygments_lexer": "ipython3",
   "version": "3.9.7"
  },
  "latex_envs": {
   "LaTeX_envs_menu_present": true,
   "autoclose": false,
   "autocomplete": true,
   "bibliofile": "biblio.bib",
   "cite_by": "apalike",
   "current_citInitial": 1,
   "eqLabelWithNumbers": true,
   "eqNumInitial": 1,
   "hotkeys": {
    "equation": "Ctrl-E",
    "itemize": "Ctrl-I"
   },
   "labels_anchors": false,
   "latex_user_defs": false,
   "report_style_numbering": false,
   "user_envs_cfg": false
  },
  "toc": {
   "base_numbering": 1,
   "nav_menu": {},
   "number_sections": true,
   "sideBar": true,
   "skip_h1_title": false,
   "title_cell": "Table of Contents",
   "title_sidebar": "Contents",
   "toc_cell": false,
   "toc_position": {},
   "toc_section_display": true,
   "toc_window_display": false
  },
  "varInspector": {
   "cols": {
    "lenName": 16,
    "lenType": 16,
    "lenVar": 40
   },
   "kernels_config": {
    "python": {
     "delete_cmd_postfix": "",
     "delete_cmd_prefix": "del ",
     "library": "var_list.py",
     "varRefreshCmd": "print(var_dic_list())"
    },
    "r": {
     "delete_cmd_postfix": ") ",
     "delete_cmd_prefix": "rm(",
     "library": "var_list.r",
     "varRefreshCmd": "cat(var_dic_list()) "
    }
   },
   "types_to_exclude": [
    "module",
    "function",
    "builtin_function_or_method",
    "instance",
    "_Feature"
   ],
   "window_display": false
  }
 },
 "nbformat": 4,
 "nbformat_minor": 1
}
