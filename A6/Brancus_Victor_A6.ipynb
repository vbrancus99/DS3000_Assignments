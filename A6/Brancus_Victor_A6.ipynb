{
 "cells": [
  {
   "cell_type": "code",
   "execution_count": 58,
   "id": "hearing-scanning",
   "metadata": {},
   "outputs": [],
   "source": [
    "# You can import *ANYTHING* you want here.\n",
    "import numpy as np\n",
    "import matplotlib.pyplot as plt\n",
    "import seaborn as sns\n",
    "from collections import OrderedDict\n",
    "from xgboost import XGBRegressor\n",
    "from sklearn.ensemble import RandomForestRegressor\n",
    "from sklearn.metrics import mean_absolute_percentage_error # Requires sklearn 0.24 (December 2020), update with conda/pip if needed.\n",
    "from sklearn.model_selection import GridSearchCV, train_test_split, StratifiedKFold\n",
    "\n",
    "import pandas as pd"
   ]
  },
  {
   "cell_type": "markdown",
   "id": "personalized-julian",
   "metadata": {},
   "source": [
    "# Grade: /100 pts\n",
    "\n",
    "# Assignment 6: Tree methods\n",
    "\n",
    "In this assignment you'll study tree methods and their capabilities as interpolators and extrapolators, as well you'll realize the importance of understanding your data!. You will use a dataset that contains house sale prices for King County, which includes Seattle. It includes homes sold between May 2014 and May 2015.The data has the following variables:\n",
    "\n",
    "- price: Prediction target\n",
    "\n",
    "- bedrooms: Number of Bedrooms/House\n",
    "\n",
    "- bathrooms: Number of bathrooms/bedrooms\n",
    "\n",
    "- sqft_living: square footage of the home\n",
    "\n",
    "- sqft_lot: square footage of the lot\n",
    "\n",
    "- floors :Total floors (levels) in house\n",
    "\n",
    "- waterfront: House which has a view to a waterfront\n",
    "\n",
    "- view: Has been viewed\n",
    "\n",
    "- condition: How good the condition is Overall\n",
    "\n",
    "- grade: overall grade given to the housing unit, based on King County grading system.\n",
    "\n",
    "- sqft_above :square footage of house apart from basement.\n",
    "\n",
    "- sqft_basement: square footage of the basement.\n",
    "\n",
    "- yr_built :Built Year.\n",
    "\n",
    "- yr_renovated :Year when house was renovated.\n",
    "\n",
    "- zipcode:zip code.\n",
    "\n",
    "- lat: Latitude coordinate.\n",
    "\n",
    "- long: Longitude coordinate.\n",
    "\n",
    "- sqft_living15 :Living room area in 2015(implies-- some renovations) This might or might not have affected the lotsize area.\n",
    "\n",
    "- sqft_lot15 :lotSize area in 2015(implies-- some renovations).\n",
    "\n",
    "You are given two datasets: HousePrice_Part_1.csv and HousePrice_Part_2.csv. The first dataset contains houses with price between 30k to 50k, while the second one is a complementary dataset which contains the houses with price less than 30k.\n",
    "\n",
    "*Do not forget to include labels in your figures.*"
   ]
  },
  {
   "cell_type": "markdown",
   "id": "fantastic-cologne",
   "metadata": {},
   "source": [
    "## Task 1: Random Forests (35 pts)\n",
    "\n",
    "Random Forests are excellent predictors. Usually we only need to tune one parameter: the number of trees in the model. However, how many trees are enough? Follow these steps:\n",
    "\n",
    "1. Load the training dataset (HousePrice_Part_1.csv) and show the descriptive statistics of the variables. (3 pts)\n",
    "\n",
    "2. Create a train / test partition of the data using 30% of the data for the test set and a ```random_state``` value of 20220309 (2 pts).\n",
    "\n",
    "3. Follow [this example](https://scikit-learn.org/stable/auto_examples/ensemble/plot_ensemble_oob.html) and train a [Random Forest Regressor](https://scikit-learn.org/stable/modules/generated/sklearn.ensemble.RandomForestRegressor.html) using ```price``` as the target variable with different ```max_features```. Test between 175 and 375 trees, plotting the Out-of-Bag (OOB) error after every iteration. Be patient as training can take a while. Which max_features gives the lowest OOB rate?(15 pts)\n",
    "\n",
    "4. Train your final random forest with the 350 as number of trees and the best max_feature method you found in question 3. Apply this model over your test set and over the extrapolating dataset (from the file ```HousePrice_Part_2.csv``` which contain the lowest 20% sale prices data), calculating the mean absolute percentual error for each dataset.  Show in a scatterplot the predicted value vs the real value of the target variable for both the test set and the complementary set (in the same plot), differentiating both by using different colors for the points. Written answer: How does the random forest model perform on predicting house price in the complementary data set? If it performs poorly, why? If it performs well, why? *Hint: look at the MAPE and plot*. (15 points)"
   ]
  },
  {
   "cell_type": "code",
   "execution_count": 7,
   "id": "scenic-desktop",
   "metadata": {},
   "outputs": [
    {
     "data": {
      "text/html": [
       "<div>\n",
       "<style scoped>\n",
       "    .dataframe tbody tr th:only-of-type {\n",
       "        vertical-align: middle;\n",
       "    }\n",
       "\n",
       "    .dataframe tbody tr th {\n",
       "        vertical-align: top;\n",
       "    }\n",
       "\n",
       "    .dataframe thead th {\n",
       "        text-align: right;\n",
       "    }\n",
       "</style>\n",
       "<table border=\"1\" class=\"dataframe\">\n",
       "  <thead>\n",
       "    <tr style=\"text-align: right;\">\n",
       "      <th></th>\n",
       "      <th>price</th>\n",
       "      <th>bedrooms</th>\n",
       "      <th>bathrooms</th>\n",
       "      <th>sqft_living</th>\n",
       "      <th>sqft_lot</th>\n",
       "      <th>floors</th>\n",
       "      <th>waterfront</th>\n",
       "      <th>view</th>\n",
       "      <th>condition</th>\n",
       "      <th>grade</th>\n",
       "      <th>sqft_above</th>\n",
       "      <th>sqft_basement</th>\n",
       "      <th>yr_built</th>\n",
       "      <th>yr_renovated</th>\n",
       "      <th>zipcode</th>\n",
       "      <th>lat</th>\n",
       "      <th>long</th>\n",
       "      <th>sqft_living15</th>\n",
       "      <th>sqft_lot15</th>\n",
       "    </tr>\n",
       "  </thead>\n",
       "  <tbody>\n",
       "    <tr>\n",
       "      <th>count</th>\n",
       "      <td>7000.000000</td>\n",
       "      <td>7000.000000</td>\n",
       "      <td>7000.000000</td>\n",
       "      <td>7000.000000</td>\n",
       "      <td>7000.000000</td>\n",
       "      <td>7000.000000</td>\n",
       "      <td>7000.000000</td>\n",
       "      <td>7000.000000</td>\n",
       "      <td>7000.000000</td>\n",
       "      <td>7000.000000</td>\n",
       "      <td>7000.000000</td>\n",
       "      <td>7000.000000</td>\n",
       "      <td>7000.000000</td>\n",
       "      <td>7000.000000</td>\n",
       "      <td>7000.000000</td>\n",
       "      <td>7000.000000</td>\n",
       "      <td>7000.000000</td>\n",
       "      <td>7000.000000</td>\n",
       "      <td>7000.000000</td>\n",
       "    </tr>\n",
       "    <tr>\n",
       "      <th>mean</th>\n",
       "      <td>385674.460571</td>\n",
       "      <td>3.235571</td>\n",
       "      <td>1.962679</td>\n",
       "      <td>1782.393857</td>\n",
       "      <td>12666.674000</td>\n",
       "      <td>1.456357</td>\n",
       "      <td>0.001429</td>\n",
       "      <td>0.095857</td>\n",
       "      <td>3.368857</td>\n",
       "      <td>7.287571</td>\n",
       "      <td>1549.870286</td>\n",
       "      <td>232.523571</td>\n",
       "      <td>1972.794143</td>\n",
       "      <td>55.218000</td>\n",
       "      <td>98082.501571</td>\n",
       "      <td>47.562112</td>\n",
       "      <td>-122.217667</td>\n",
       "      <td>1780.018143</td>\n",
       "      <td>11309.381429</td>\n",
       "    </tr>\n",
       "    <tr>\n",
       "      <th>std</th>\n",
       "      <td>48955.848511</td>\n",
       "      <td>0.861501</td>\n",
       "      <td>0.644978</td>\n",
       "      <td>598.400785</td>\n",
       "      <td>30642.344792</td>\n",
       "      <td>0.554234</td>\n",
       "      <td>0.037772</td>\n",
       "      <td>0.468569</td>\n",
       "      <td>0.615977</td>\n",
       "      <td>0.748587</td>\n",
       "      <td>571.711133</td>\n",
       "      <td>369.478222</td>\n",
       "      <td>28.215468</td>\n",
       "      <td>327.096284</td>\n",
       "      <td>51.514097</td>\n",
       "      <td>0.146521</td>\n",
       "      <td>0.143171</td>\n",
       "      <td>465.599637</td>\n",
       "      <td>23818.764099</td>\n",
       "    </tr>\n",
       "    <tr>\n",
       "      <th>min</th>\n",
       "      <td>303000.000000</td>\n",
       "      <td>0.000000</td>\n",
       "      <td>0.000000</td>\n",
       "      <td>410.000000</td>\n",
       "      <td>600.000000</td>\n",
       "      <td>1.000000</td>\n",
       "      <td>0.000000</td>\n",
       "      <td>0.000000</td>\n",
       "      <td>1.000000</td>\n",
       "      <td>4.000000</td>\n",
       "      <td>410.000000</td>\n",
       "      <td>0.000000</td>\n",
       "      <td>1900.000000</td>\n",
       "      <td>0.000000</td>\n",
       "      <td>98001.000000</td>\n",
       "      <td>47.155900</td>\n",
       "      <td>-122.511000</td>\n",
       "      <td>460.000000</td>\n",
       "      <td>748.000000</td>\n",
       "    </tr>\n",
       "    <tr>\n",
       "      <th>25%</th>\n",
       "      <td>342500.000000</td>\n",
       "      <td>3.000000</td>\n",
       "      <td>1.500000</td>\n",
       "      <td>1330.000000</td>\n",
       "      <td>4800.000000</td>\n",
       "      <td>1.000000</td>\n",
       "      <td>0.000000</td>\n",
       "      <td>0.000000</td>\n",
       "      <td>3.000000</td>\n",
       "      <td>7.000000</td>\n",
       "      <td>1130.000000</td>\n",
       "      <td>0.000000</td>\n",
       "      <td>1954.000000</td>\n",
       "      <td>0.000000</td>\n",
       "      <td>98034.000000</td>\n",
       "      <td>47.452500</td>\n",
       "      <td>-122.334000</td>\n",
       "      <td>1420.000000</td>\n",
       "      <td>5000.000000</td>\n",
       "    </tr>\n",
       "    <tr>\n",
       "      <th>50%</th>\n",
       "      <td>385000.000000</td>\n",
       "      <td>3.000000</td>\n",
       "      <td>2.000000</td>\n",
       "      <td>1730.000000</td>\n",
       "      <td>7285.000000</td>\n",
       "      <td>1.000000</td>\n",
       "      <td>0.000000</td>\n",
       "      <td>0.000000</td>\n",
       "      <td>3.000000</td>\n",
       "      <td>7.000000</td>\n",
       "      <td>1400.000000</td>\n",
       "      <td>0.000000</td>\n",
       "      <td>1976.000000</td>\n",
       "      <td>0.000000</td>\n",
       "      <td>98072.000000</td>\n",
       "      <td>47.553600</td>\n",
       "      <td>-122.250000</td>\n",
       "      <td>1710.000000</td>\n",
       "      <td>7350.500000</td>\n",
       "    </tr>\n",
       "    <tr>\n",
       "      <th>75%</th>\n",
       "      <td>428787.500000</td>\n",
       "      <td>4.000000</td>\n",
       "      <td>2.500000</td>\n",
       "      <td>2170.000000</td>\n",
       "      <td>9822.750000</td>\n",
       "      <td>2.000000</td>\n",
       "      <td>0.000000</td>\n",
       "      <td>0.000000</td>\n",
       "      <td>4.000000</td>\n",
       "      <td>8.000000</td>\n",
       "      <td>1890.000000</td>\n",
       "      <td>440.000000</td>\n",
       "      <td>1999.000000</td>\n",
       "      <td>0.000000</td>\n",
       "      <td>98125.000000</td>\n",
       "      <td>47.701200</td>\n",
       "      <td>-122.138000</td>\n",
       "      <td>2080.000000</td>\n",
       "      <td>9500.000000</td>\n",
       "    </tr>\n",
       "    <tr>\n",
       "      <th>max</th>\n",
       "      <td>475000.000000</td>\n",
       "      <td>9.000000</td>\n",
       "      <td>7.500000</td>\n",
       "      <td>5067.000000</td>\n",
       "      <td>542322.000000</td>\n",
       "      <td>3.500000</td>\n",
       "      <td>1.000000</td>\n",
       "      <td>4.000000</td>\n",
       "      <td>5.000000</td>\n",
       "      <td>11.000000</td>\n",
       "      <td>4190.000000</td>\n",
       "      <td>2100.000000</td>\n",
       "      <td>2015.000000</td>\n",
       "      <td>2015.000000</td>\n",
       "      <td>98199.000000</td>\n",
       "      <td>47.777600</td>\n",
       "      <td>-121.321000</td>\n",
       "      <td>4362.000000</td>\n",
       "      <td>386812.000000</td>\n",
       "    </tr>\n",
       "  </tbody>\n",
       "</table>\n",
       "</div>"
      ],
      "text/plain": [
       "               price     bedrooms    bathrooms  sqft_living       sqft_lot  \\\n",
       "count    7000.000000  7000.000000  7000.000000  7000.000000    7000.000000   \n",
       "mean   385674.460571     3.235571     1.962679  1782.393857   12666.674000   \n",
       "std     48955.848511     0.861501     0.644978   598.400785   30642.344792   \n",
       "min    303000.000000     0.000000     0.000000   410.000000     600.000000   \n",
       "25%    342500.000000     3.000000     1.500000  1330.000000    4800.000000   \n",
       "50%    385000.000000     3.000000     2.000000  1730.000000    7285.000000   \n",
       "75%    428787.500000     4.000000     2.500000  2170.000000    9822.750000   \n",
       "max    475000.000000     9.000000     7.500000  5067.000000  542322.000000   \n",
       "\n",
       "            floors   waterfront         view    condition        grade  \\\n",
       "count  7000.000000  7000.000000  7000.000000  7000.000000  7000.000000   \n",
       "mean      1.456357     0.001429     0.095857     3.368857     7.287571   \n",
       "std       0.554234     0.037772     0.468569     0.615977     0.748587   \n",
       "min       1.000000     0.000000     0.000000     1.000000     4.000000   \n",
       "25%       1.000000     0.000000     0.000000     3.000000     7.000000   \n",
       "50%       1.000000     0.000000     0.000000     3.000000     7.000000   \n",
       "75%       2.000000     0.000000     0.000000     4.000000     8.000000   \n",
       "max       3.500000     1.000000     4.000000     5.000000    11.000000   \n",
       "\n",
       "        sqft_above  sqft_basement     yr_built  yr_renovated       zipcode  \\\n",
       "count  7000.000000    7000.000000  7000.000000   7000.000000   7000.000000   \n",
       "mean   1549.870286     232.523571  1972.794143     55.218000  98082.501571   \n",
       "std     571.711133     369.478222    28.215468    327.096284     51.514097   \n",
       "min     410.000000       0.000000  1900.000000      0.000000  98001.000000   \n",
       "25%    1130.000000       0.000000  1954.000000      0.000000  98034.000000   \n",
       "50%    1400.000000       0.000000  1976.000000      0.000000  98072.000000   \n",
       "75%    1890.000000     440.000000  1999.000000      0.000000  98125.000000   \n",
       "max    4190.000000    2100.000000  2015.000000   2015.000000  98199.000000   \n",
       "\n",
       "               lat         long  sqft_living15     sqft_lot15  \n",
       "count  7000.000000  7000.000000    7000.000000    7000.000000  \n",
       "mean     47.562112  -122.217667    1780.018143   11309.381429  \n",
       "std       0.146521     0.143171     465.599637   23818.764099  \n",
       "min      47.155900  -122.511000     460.000000     748.000000  \n",
       "25%      47.452500  -122.334000    1420.000000    5000.000000  \n",
       "50%      47.553600  -122.250000    1710.000000    7350.500000  \n",
       "75%      47.701200  -122.138000    2080.000000    9500.000000  \n",
       "max      47.777600  -121.321000    4362.000000  386812.000000  "
      ]
     },
     "execution_count": 7,
     "metadata": {},
     "output_type": "execute_result"
    }
   ],
   "source": [
    "# Data load # 3pts\n",
    "df = pd.read_csv('HousePrice_Part_1.csv')\n",
    "df.head()\n",
    "df.describe()"
   ]
  },
  {
   "cell_type": "code",
   "execution_count": 51,
   "id": "pointed-certificate",
   "metadata": {},
   "outputs": [
    {
     "name": "stdout",
     "output_type": "stream",
     "text": [
      "(4900, 18) (2100, 18)\n"
     ]
    }
   ],
   "source": [
    "# Create train / test split #2pt\n",
    "RAND_STATE = 20220309\n",
    "\n",
    "y = df.price\n",
    "X = df.drop('price', axis = 'columns')\n",
    "\n",
    "Xtrain, Xtest, ytrain, ytest = train_test_split(X,y, test_size = 0.30, random_state = RAND_STATE)\n",
    "print(Xtrain.shape, Xtest.shape)"
   ]
  },
  {
   "cell_type": "code",
   "execution_count": 104,
   "id": "extraordinary-timeline",
   "metadata": {},
   "outputs": [
    {
     "name": "stderr",
     "output_type": "stream",
     "text": [
      "C:\\Users\\VBran\\anaconda3\\lib\\site-packages\\sklearn\\ensemble\\_forest.py:833: UserWarning: Some inputs do not have OOB scores. This probably means too few trees were used to compute any reliable oob estimates.\n",
      "  warn(\"Some inputs do not have OOB scores. \"\n",
      "C:\\Users\\VBran\\anaconda3\\lib\\site-packages\\sklearn\\ensemble\\_forest.py:833: UserWarning: Some inputs do not have OOB scores. This probably means too few trees were used to compute any reliable oob estimates.\n",
      "  warn(\"Some inputs do not have OOB scores. \"\n",
      "C:\\Users\\VBran\\anaconda3\\lib\\site-packages\\sklearn\\ensemble\\_forest.py:833: UserWarning: Some inputs do not have OOB scores. This probably means too few trees were used to compute any reliable oob estimates.\n",
      "  warn(\"Some inputs do not have OOB scores. \"\n"
     ]
    },
    {
     "data": {
      "image/png": "[encoded data removed]",
      "text/plain": [
       "<Figure size 432x288 with 1 Axes>"
      ]
     },
     "metadata": {
      "needs_background": "light"
     },
     "output_type": "display_data"
    }
   ],
   "source": [
    "# OOB error rate #10 pts\n",
    "ensemble_clfs = [\n",
    "    (\n",
    "        \"RandomForestRegressor, max_features='sqrt'\",\n",
    "        RandomForestRegressor(\n",
    "            warm_start=True,\n",
    "            oob_score=True,\n",
    "            max_features=\"sqrt\",\n",
    "            random_state=RAND_STATE,\n",
    "        ),\n",
    "    ),\n",
    "    (\n",
    "        \"RandomForestRegressor, max_features='log2'\",\n",
    "        RandomForestRegressor(\n",
    "            warm_start=True,\n",
    "            max_features=\"log2\",\n",
    "            oob_score=True,\n",
    "            random_state=RAND_STATE,\n",
    "        ),\n",
    "    ),\n",
    "    (\n",
    "        \"RandomForestRegressor, max_features=None\",\n",
    "        RandomForestRegressor(\n",
    "            warm_start=True,\n",
    "            max_features=None,\n",
    "            oob_score=True,\n",
    "            random_state=RAND_STATE,\n",
    "        ),\n",
    "    ),\n",
    "]\n",
    "\n",
    "# Map a classifier name to a list of (<n_estimators>, <error rate>) pairs.\n",
    "error_rate = OrderedDict((label, []) for label, _ in ensemble_clfs)\n",
    "\n",
    "# Range of `n_estimators` values to explore.\n",
    "min_estimators = 15\n",
    "max_estimators = 150\n",
    "\n",
    "for label, clf in ensemble_clfs:\n",
    "    for i in range(min_estimators, max_estimators + 1, 5):\n",
    "        clf.set_params(n_estimators=i)\n",
    "        clf.fit(X, y)\n",
    "\n",
    "        # Record the OOB error for each `n_estimators=i` setting.\n",
    "        oob_error = 1 - clf.oob_score_\n",
    "        error_rate[label].append((i, oob_error))\n",
    "\n",
    "\n",
    "\n",
    "## plot # 4 pts\n",
    "\n",
    "# Generate the \"OOB error rate\" vs. \"n_estimators\" plot.\n",
    "for label, clf_err in error_rate.items():\n",
    "    xs, ys = zip(*clf_err)\n",
    "    plt.plot(xs, ys, label=label)\n",
    "\n",
    "plt.xlim(min_estimators, max_estimators)\n",
    "plt.xlabel(\"n_estimators\")\n",
    "plt.ylabel(\"OOB error rate\")\n",
    "plt.legend(loc=\"upper right\")\n",
    "plt.show()"
   ]
  },
  {
   "cell_type": "raw",
   "id": "470993f2",
   "metadata": {},
   "source": [
    "**Written answer:** [1 pt] None gives the lowest OOB rate"
   ]
  },
  {
   "cell_type": "code",
   "execution_count": 128,
   "id": "global-physics",
   "metadata": {},
   "outputs": [],
   "source": [
    "# Final forest #8pts\n",
    "# Assume your trees become stable around  350\n",
    "\n",
    "house_rf = RandomForestRegressor(n_estimators=350, # Number of trees to train\n",
    "                       max_depth=None, # Max depth of the trees. Not necessary to change.\n",
    "                       min_samples_split=2, # Minimum samples to create a split.\n",
    "                       min_samples_leaf=0.001, # Minimum samples in a leaf. Accepts fractions for %. This is 0.1% of sample.\n",
    "                       min_weight_fraction_leaf=0.0, # Same as above, but uses the class weights.\n",
    "                       max_features=None, # Maximum number of features per split (not tree!) by default is sqrt(vars)\n",
    "                       max_leaf_nodes=None, # Maximum number of nodes.\n",
    "                       min_impurity_decrease=0.0001, # Minimum impurity decrease. This is 10^-3.\n",
    "                       bootstrap=True, # If sample with repetition. For large samples (>100.000) set to false.\n",
    "                       oob_score=True,  # If report accuracy with non-selected cases.\n",
    "                       n_jobs=-1, # Parallel processing. Set to -1 for all cores. Watch your RAM!!\n",
    "                       random_state=RAND_STATE, # Seed\n",
    "                       verbose=0, # If to give info during training. Set to 0 for silent training.\n",
    "                       warm_start=False, # If train over previously trained tree.\n",
    "                                )\n",
    "\n",
    "house_rf.fit(Xtrain, ytrain)\n",
    "\n",
    "# Calculate error over test set\n",
    "rf_pred = house_rf.predict(Xtest)\n",
    "mapeTest = mean_absolute_percentage_error(ytest,rf_pred)\n",
    "\n",
    "# Load the second dataset\n",
    "df2 = pd.read_csv('HousePrice_Part_2.csv')\n",
    "ynew = df2.price\n",
    "Xnew = df2.drop('price', axis = 'columns')\n",
    "\n",
    "rf_pred2 = house_rf.predict(Xnew)\n",
    "mapeExtra = mean_absolute_percentage_error(ynew, rf_pred2)\n",
    "\n",
    "# Calculate the test set"
   ]
  },
  {
   "cell_type": "code",
   "execution_count": 138,
   "id": "nasty-privacy",
   "metadata": {},
   "outputs": [
    {
     "name": "stdout",
     "output_type": "stream",
     "text": [
      "Over a random test set, the MAPE of the Random Forest model is 0.07398719680986984\n",
      "Over the extrapolation set, the MAPE of the Random Forest model is 0.4730254017520976\n"
     ]
    }
   ],
   "source": [
    "#Print MAPE over the test set #2pts\n",
    "print('Over a random test set, the MAPE of the Random Forest model is', mapeTest)\n",
    "print('Over the extrapolation set, the MAPE of the Random Forest model is', mapeExtra)"
   ]
  },
  {
   "cell_type": "code",
   "execution_count": 137,
   "id": "demonstrated-butterfly",
   "metadata": {},
   "outputs": [
    {
     "data": {
      "image/png": "[encoded data removed]",
      "text/plain": [
       "<Figure size 432x288 with 1 Axes>"
      ]
     },
     "metadata": {
      "needs_background": "light"
     },
     "output_type": "display_data"
    }
   ],
   "source": [
    "# Make the plot #2pts\n",
    "\n",
    "\n",
    "fig = plt.figure()\n",
    "ax1 = fig.add_subplot(111)\n",
    "\n",
    "ax1.scatter(rf_pred, ytest, s=2, c='b', marker=\"o\", label='test', alpha = 0.8)\n",
    "ax1.scatter(rf_pred2, ynew, s=2, c='r', marker=\"o\", label='extrapolated', alpha = 0.8)\n",
    "plt.legend(loc='upper left');\n",
    "plt.xlabel(\"Predicted\")\n",
    "plt.ylabel(\"True\")\n",
    "plt.show()"
   ]
  },
  {
   "cell_type": "markdown",
   "id": "continent-accommodation",
   "metadata": {},
   "source": [
    "**Written answer (3 pts):** The model permorms poorly. The MAPE value for the complimentary set is really high at 47%. Also the graph shows that the majority of the extrapolated predictions don't follow the same trend as the test predictions."
   ]
  },
  {
   "cell_type": "markdown",
   "id": "crude-breed",
   "metadata": {},
   "source": [
    "## Task 2: XGBoosting model (40 pts)\n",
    "\n",
    "Now we'll repeat the process for the XGB model, using an [```XGBRegressor``` object](https://xgboost.readthedocs.io/en/latest/python/python_api.html). The XGBoosting model is much more sensitive to parameter changes though as it allows to tune many different parameters. For this example:\n",
    "\n",
    "1. Written answer: Why do we say we want to use a small learning rate? Why do we say the number of trees to use depends on each dataset/problem? Why do we want to use a small tree depth? (6 pts)\n",
    "\n",
    "2. Selecting a 30% validation sample over the training set, tune your parameters using crossvalidation. Use the following ranges:\n",
    " - Learning rate: [0.01, 0.1, 0.2].\n",
    " - max_depth: 4 to 7.\n",
    " - Number of trees: [350, 400, 450, 500]\n",
    "\n",
    "Leave the other parameters at the values we identified in the lab (except for the objective parameter and those related to classification problems) and use a seed of 20220309. Report the optimal values of your parameters. (20 pts)\n",
    "\n",
    "3. Repeat part 4 of the previous task, but now for your XGB model trained over the optimal parameter combination and the complete training dataset. Plot the variable importance. Written answer: What are the most important variables? Can the XGB model extrapolate? How does it compare to a random forest? (14 pts)"
   ]
  },
  {
   "cell_type": "markdown",
   "id": "thrown-shade",
   "metadata": {},
   "source": [
    "**Written answer (2 pts each):**\n"
   ]
  },
  {
   "cell_type": "code",
   "execution_count": 139,
   "id": "widespread-enterprise",
   "metadata": {},
   "outputs": [],
   "source": [
    "# Define the XGB model # 6pts\n",
    "XGB_House = XGBRegressor(max_depth=3,                 # Depth of each tree\n",
    "                            learning_rate=0.1,            # How much to shrink error in each subsequent training. Trade-off with no. estimators.\n",
    "                            n_estimators=300,             # How many trees to use, the more the better, but decrease learning rate if many used.\n",
    "                            objective='reg:squarederror',  # Type of target variable\n",
    "                            random_state=RAND_STATE        # Seed\n",
    "                            )"
   ]
  },
  {
   "cell_type": "code",
   "execution_count": 140,
   "id": "apart-truck",
   "metadata": {},
   "outputs": [
    {
     "data": {
      "text/plain": [
       "{'n_estimators': [350, 400, 450, 500],\n",
       " 'max_depth': [4, 5, 6, 7],\n",
       " 'learning_rate': [0.01, 0.1, 0.2]}"
      ]
     },
     "execution_count": 140,
     "metadata": {},
     "output_type": "execute_result"
    }
   ],
   "source": [
    "# Define the parameters. Play with this grid! #3 pts\n",
    "param_grid = dict({'n_estimators': [350, 400, 450, 500],\n",
    "                   'max_depth': [4, 5, 6, 7],\n",
    "                 'learning_rate' : [0.01, 0.1, 0.2]\n",
    "                  })\n",
    "param_grid"
   ]
  },
  {
   "cell_type": "code",
   "execution_count": 141,
   "id": "mexican-insulation",
   "metadata": {},
   "outputs": [],
   "source": [
    "# Always a good idea to tune on a reduce sample of the train set, as we will call many functions. #6 pts\n",
    "val_train = Xtrain.sample(frac = 0.3, random_state = RAND_STATE)\n",
    "val_train_target = ytrain.sample(frac = 0.3, random_state = RAND_STATE)\n",
    "# cv object\n",
    "cv_object = StratifiedKFold(n_splits=3)\n",
    "\n",
    "# Define grid search object.\n",
    "GridXGB = GridSearchCV(XGB_House,        # Original XGB. \n",
    "                       param_grid,          # Parameter grid\n",
    "                       cv = cv_object,      # Cross-validation object.  \n",
    "                       scoring = 'roc_auc', # How to rank outputs.\n",
    "                       n_jobs = -1,          # Parallel jobs. -1 is \"all you have\"\n",
    "                       refit = False,       # If refit at the end with the best. We'll do it manually.\n",
    "                       verbose = 1          # If to show what it is doing.\n",
    "                      )"
   ]
  },
  {
   "cell_type": "code",
   "execution_count": 142,
   "id": "beginning-safety",
   "metadata": {},
   "outputs": [
    {
     "name": "stdout",
     "output_type": "stream",
     "text": [
      "Fitting 3 folds for each of 48 candidates, totalling 144 fits\n"
     ]
    },
    {
     "name": "stderr",
     "output_type": "stream",
     "text": [
      "C:\\Users\\VBran\\anaconda3\\lib\\site-packages\\sklearn\\model_selection\\_split.py:666: UserWarning: The least populated class in y has only 1 members, which is less than n_splits=3.\n",
      "  warnings.warn((\"The least populated class in y has only %d\"\n",
      "C:\\Users\\VBran\\anaconda3\\lib\\site-packages\\sklearn\\model_selection\\_search.py:922: UserWarning: One or more of the test scores are non-finite: [nan nan nan nan nan nan nan nan nan nan nan nan nan nan nan nan nan nan\n",
      " nan nan nan nan nan nan nan nan nan nan nan nan nan nan nan nan nan nan\n",
      " nan nan nan nan nan nan nan nan nan nan nan nan]\n",
      "  warnings.warn(\n"
     ]
    },
    {
     "data": {
      "text/plain": [
       "GridSearchCV(cv=StratifiedKFold(n_splits=3, random_state=None, shuffle=False),\n",
       "             estimator=XGBRegressor(base_score=None, booster=None,\n",
       "                                    colsample_bylevel=None,\n",
       "                                    colsample_bynode=None,\n",
       "                                    colsample_bytree=None,\n",
       "                                    enable_categorical=False, gamma=None,\n",
       "                                    gpu_id=None, importance_type=None,\n",
       "                                    interaction_constraints=None,\n",
       "                                    learning_rate=0.1, max_delta_step=None,\n",
       "                                    max_depth=3, min_chi...\n",
       "                                    n_estimators=300, n_jobs=None,\n",
       "                                    num_parallel_tree=None, predictor=None,\n",
       "                                    random_state=20220309, reg_alpha=None,\n",
       "                                    reg_lambda=None, scale_pos_weight=None,\n",
       "                                    subsample=None, tree_method=None,\n",
       "                                    validate_parameters=None, verbosity=None),\n",
       "             n_jobs=-1,\n",
       "             param_grid={'learning_rate': [0.01, 0.1, 0.2],\n",
       "                         'max_depth': [4, 5, 6, 7],\n",
       "                         'n_estimators': [350, 400, 450, 500]},\n",
       "             refit=False, scoring='roc_auc', verbose=1)"
      ]
     },
     "execution_count": 142,
     "metadata": {},
     "output_type": "execute_result"
    }
   ],
   "source": [
    "# Train grid search. This takes a while! Go grab a coffee. #2 pts\n",
    "GridXGB.fit(val_train, val_train_target)"
   ]
  },
  {
   "cell_type": "code",
   "execution_count": 143,
   "id": "pharmaceutical-franklin",
   "metadata": {},
   "outputs": [
    {
     "data": {
      "text/plain": [
       "{'learning_rate': 0.01, 'max_depth': 4, 'n_estimators': 350}"
      ]
     },
     "execution_count": 143,
     "metadata": {},
     "output_type": "execute_result"
    }
   ],
   "source": [
    "# Show best params #3pts\n",
    "GridXGB.best_params_"
   ]
  },
  {
   "cell_type": "code",
   "execution_count": null,
   "id": "photographic-graphic",
   "metadata": {},
   "outputs": [],
   "source": [
    "# Define the XGB model # 3pts\n",
    "XGB_House = XGBRegressor(max_depth=4,                 # Depth of each tree\n",
    "                            learning_rate=0.01,            # How much to shrink error in each subsequent training. Trade-off with no. estimators.\n",
    "                            n_estimators=350,             # How many trees to use, the more the better, but decrease learning rate if many used.\n",
    "                            objective='reg:squarederror',  # Type of target variable\n",
    "                            random_state=RAND_STATE        # Seed\n",
    "                            )"
   ]
  },
  {
   "cell_type": "code",
   "execution_count": 69,
   "id": "golden-mills",
   "metadata": {},
   "outputs": [
    {
     "data": {
      "text/plain": [
       "XGBRegressor(base_score=0.5, booster='gbtree', colsample_bylevel=1,\n",
       "             colsample_bynode=1, colsample_bytree=1, enable_categorical=False,\n",
       "             gamma=0, gpu_id=-1, importance_type=None,\n",
       "             interaction_constraints='', learning_rate=0.1, max_delta_step=0,\n",
       "             max_depth=3, min_child_weight=1, missing=nan,\n",
       "             monotone_constraints='()', n_estimators=300, n_jobs=8,\n",
       "             num_parallel_tree=1, predictor='auto', random_state=20220309,\n",
       "             reg_alpha=0, reg_lambda=1, scale_pos_weight=1, subsample=1,\n",
       "             tree_method='exact', validate_parameters=1, verbosity=None)"
      ]
     },
     "execution_count": 69,
     "metadata": {},
     "output_type": "execute_result"
    }
   ],
   "source": [
    "# Fit! #1pt\n",
    "XGB_House.fit(Xtrain, ytrain)"
   ]
  },
  {
   "cell_type": "code",
   "execution_count": 70,
   "id": "superior-machinery",
   "metadata": {},
   "outputs": [
    {
     "data": {
      "image/png": "[encoded data removed]",
      "text/plain": [
       "<Figure size 216x576 with 1 Axes>"
      ]
     },
     "metadata": {
      "needs_background": "light"
     },
     "output_type": "display_data"
    }
   ],
   "source": [
    "# Variable importance #4 pts\n",
    "importances = XGB_House.feature_importances_\n",
    "indices = np.argsort(importances)[::-1] \n",
    "\n",
    "f, ax = plt.subplots(figsize=(3, 8))\n",
    "plt.title(\"Variable Importance - XGBoosting\")\n",
    "sns.set_color_codes(\"pastel\")\n",
    "sns.barplot(y=[Xtrain.columns[i] for i in indices], x=importances[indices], \n",
    "            label=\"Total\", color=\"b\")\n",
    "ax.set(ylabel=\"Variable\",\n",
    "       xlabel=\"Variable Importance\")\n",
    "sns.despine(left=True, bottom=True)\n",
    "\n",
    "# Answer about variable importance in the below cell."
   ]
  },
  {
   "cell_type": "markdown",
   "id": "structured-sector",
   "metadata": {},
   "source": [
    "**Written answer (2 pts):**"
   ]
  },
  {
   "cell_type": "code",
   "execution_count": null,
   "id": "certain-assault",
   "metadata": {},
   "outputs": [],
   "source": [
    "# Now the answer is equivalent to T1. #2 pts\n",
    "\n",
    "\n",
    "# Calculate the test set\n",
    "\n",
    "\n",
    "\n",
    "#Print MAPE over the test set\n",
    "#print('Over a random test set, the MAPE of the XGB model is ...\n",
    "#print('Over the extrapolation set, the MAPE of the XGB model is ...\n",
    "                                                                                                                        \n",
    "\n",
    "# Plot\n",
    "\n",
    "# Make the plot\n"
   ]
  },
  {
   "cell_type": "markdown",
   "id": "neither-status",
   "metadata": {},
   "source": [
    "**Written answer (2 pts):**"
   ]
  },
  {
   "cell_type": "markdown",
   "id": "norwegian-correlation",
   "metadata": {},
   "source": [
    "## Task 3: Combined model (25 pts)\n",
    "\n",
    "Now we will finally train a model on the combined data, by joining the extrapolation and the original dataset, and study the performance over the original test set, the new test set and the combined result. For this we will only use the Random Forest model. Use a seed of 20220309 for all functions that accept one.\n",
    "\n",
    "1. Create a train / test split set over the extrapolation data, leaving approximately 30% of the data for testing purposes. Combine this train test with the original train set (let's call this the combined train set). (5 pts)\n",
    "2. Train a Random Forest model over the **combined** train data. Discuss how many trees you used and why? (Consider a significant improvement if the change in the OOB error rate is greater then 0.001). (5 pts)\n",
    "3. Plot the variable importance and compare it versus the XGB in task 1. Now that you have more data, does the importance change? (5 pts)\n",
    "3. Report the test set performance of your new model over the original test set, the test set you took over the extrapolation dataset and the combined test set. Plot the scatterplot of the both datasets as before in the same plot, differentiating the dataset by using colours. \n",
    "Written answer: What happens now? What can you say about the new model? (10 pts)"
   ]
  },
  {
   "cell_type": "code",
   "execution_count": 144,
   "id": "exterior-cheat",
   "metadata": {},
   "outputs": [],
   "source": [
    "# Create train / test split of the extrapolation data #2 pts\n",
    "\n",
    "Xtrain2, Xtest2, ytrain2, ytest2 = train_test_split(Xnew,ynew, test_size = 0.30, random_state = RAND_STATE)\n",
    "\n",
    "# Combined sets #3 pts\n",
    "XTrain = pd.concat([Xtrain, Xtrain2], ignore_index = True)\n",
    "XTest = pd.concat([Xtest, Xtest2], ignore_index = True)\n",
    "yTrain = pd.concat([ytrain, ytrain2], ignore_index = True)\n",
    "yTest = pd.concat([ytest, ytest2], ignore_index = True)\n",
    "\n"
   ]
  },
  {
   "cell_type": "markdown",
   "id": "electronic-jimmy",
   "metadata": {},
   "source": [
    "**To get the optimal number of trees you will start from 175 trees. It does not make much sense to have less if I have more and more complex data.**"
   ]
  },
  {
   "cell_type": "code",
   "execution_count": 145,
   "id": "comparative-farming",
   "metadata": {},
   "outputs": [],
   "source": [
    "# Define random forest # 2\n",
    "house_rf2 = RandomForestRegressor(n_estimators=175, # Number of trees to train\n",
    "                       max_depth=None, # Max depth of the trees. Not necessary to change.\n",
    "                       min_samples_split=2, # Minimum samples to create a split.\n",
    "                       min_samples_leaf=0.001, # Minimum samples in a leaf. Accepts fractions for %. This is 0.1% of sample.\n",
    "                       min_weight_fraction_leaf=0.0, # Same as above, but uses the class weights.\n",
    "                       max_features=None, # Maximum number of features per split (not tree!) by default is sqrt(vars)\n",
    "                       max_leaf_nodes=None, # Maximum number of nodes.\n",
    "                       min_impurity_decrease=0.0001, # Minimum impurity decrease. This is 10^-3.\n",
    "                       bootstrap=True, # If sample with repetition. For large samples (>100.000) set to false.\n",
    "                       oob_score=True,  # If report accuracy with non-selected cases.\n",
    "                       n_jobs=-1, # Parallel processing. Set to -1 for all cores. Watch your RAM!!\n",
    "                       random_state=RAND_STATE, # Seed\n",
    "                       verbose=0, # If to give info during training. Set to 0 for silent training.\n",
    "                       warm_start=False, # If train over previously trained tree.\n",
    "                                )\n",
    "\n",
    "house_rf2.fit(XTrain, yTrain)\n",
    "\n",
    "# Range of `n_estimators` values to explore.\n",
    "\n",
    "\n",
    "# Define error list\n",
    "rf_pred2 = house_rf2.predict(XTest)\n",
    "\n",
    "# iterate over forest\n"
   ]
  },
  {
   "cell_type": "code",
   "execution_count": 149,
   "id": "neutral-overview",
   "metadata": {},
   "outputs": [
    {
     "data": {
      "image/png": "[encoded data removed]",
      "text/plain": [
       "<Figure size 432x288 with 1 Axes>"
      ]
     },
     "metadata": {
      "needs_background": "light"
     },
     "output_type": "display_data"
    }
   ],
   "source": [
    "# Plot #2\n",
    "fig2 = plt.figure()\n",
    "ax1 = fig2.add_subplot(111)\n",
    "ax1.scatter(rf_pred2, yTest, s=5, c='g', marker=\"o\", alpha = 0.8)\n",
    "plt.xlabel(\"Predicted\")\n",
    "plt.ylabel(\"yTest\")\n",
    "plt.show()"
   ]
  },
  {
   "cell_type": "markdown",
   "id": "static-focus",
   "metadata": {},
   "source": [
    "**Written Answer (1 pts):**"
   ]
  },
  {
   "cell_type": "code",
   "execution_count": null,
   "id": "upset-calendar",
   "metadata": {},
   "outputs": [],
   "source": [
    "# Final forest\n",
    "\n",
    "# Calculate error over test set\n",
    "mapeTest2 = mean_absolute_percentage_error(yTest,rf_pred2)\n",
    "\n",
    "# Calculate error over test set\n",
    "\n",
    "# Calculate the test set\n"
   ]
  },
  {
   "cell_type": "code",
   "execution_count": 150,
   "id": "indirect-ballot",
   "metadata": {},
   "outputs": [
    {
     "data": {
      "image/png": "[encoded data removed]",
      "text/plain": [
       "<Figure size 216x576 with 1 Axes>"
      ]
     },
     "metadata": {
      "needs_background": "light"
     },
     "output_type": "display_data"
    }
   ],
   "source": [
    "# Variable importance # 3pts\n",
    "importances2 = house_rf2.feature_importances_\n",
    "indices = np.argsort(importances2)[::-1] \n",
    "\n",
    "f, ax = plt.subplots(figsize=(3, 8))\n",
    "plt.title(\"Variable Importance - Random Forest\")\n",
    "sns.set_color_codes(\"pastel\")\n",
    "sns.barplot(y=[Xtrain.columns[i] for i in indices], x=importances[indices], \n",
    "            label=\"Total\", color=\"b\")\n",
    "ax.set(ylabel=\"Variable\",\n",
    "       xlabel=\"Variable Importance\")\n",
    "sns.despine(left=True, bottom=True)"
   ]
  },
  {
   "cell_type": "markdown",
   "id": "sticky-villa",
   "metadata": {},
   "source": [
    "**Written answer (2 pts):** Variable importance has changed with the addition of more data."
   ]
  },
  {
   "cell_type": "code",
   "execution_count": null,
   "id": "innovative-collapse",
   "metadata": {},
   "outputs": [],
   "source": [
    "# Print MAPE over the test set #2 pts\n",
    "print('Over a random test set (non-extrapolation), the MAPE of the Random Forest model is', mapetest2)\n",
    "print('Over a random test set, the MAPE of the Random Forest model is', mapeTest)\n",
    "print('Over the extrapolation set, the MAPE of the Random Forest model is', mapeExtra)"
   ]
  },
  {
   "cell_type": "code",
   "execution_count": 1,
   "id": "revolutionary-sunrise",
   "metadata": {},
   "outputs": [],
   "source": [
    "# Make the plot #1 pts\n"
   ]
  },
  {
   "cell_type": "markdown",
   "id": "touched-credits",
   "metadata": {},
   "source": [
    "**Written answer (2 pts):**\n",
    "The new model predicts the data better than the old model as it was created over the entire data set."
   ]
  },
  {
   "cell_type": "markdown",
   "id": "07538077",
   "metadata": {},
   "source": [
    "Always understand the limitations of your datasets! You won't be able to create models that are always good for every situation."
   ]
  },
  {
   "cell_type": "markdown",
   "id": "b6cdc1e1",
   "metadata": {},
   "source": [
    "## **Follow These Steps Before Submitting**\n",
    "**Once you are finished, ensure to complete the following steps**.\n",
    "\n",
    "1.  Restart your kernel by clicking 'Kernel' > 'Restart & Run All'.\n",
    "\n",
    "2.  Fix any errors which result from this.\n",
    "\n",
    "3.  Repeat steps 1. and 2. until your notebook runs without errors.\n",
    "\n",
    "4.  Submit your completed notebook to OWL by the deadline.\n",
    "\n",
    "5.  Your submission document should be saved in the form: `LastName_FirstName_Assignment6.ipynb`\n",
    "\n"
   ]
  }
 ],
 "metadata": {
  "kernelspec": {
   "display_name": "Python 3 (ipykernel)",
   "language": "python",
   "name": "python3"
  },
  "language_info": {
   "codemirror_mode": {
    "name": "ipython",
    "version": 3
   },
   "file_extension": ".py",
   "mimetype": "text/x-python",
   "name": "python",
   "nbconvert_exporter": "python",
   "pygments_lexer": "ipython3",
   "version": "3.9.7"
  },
  "latex_envs": {
   "LaTeX_envs_menu_present": true,
   "autoclose": false,
   "autocomplete": true,
   "bibliofile": "biblio.bib",
   "cite_by": "apalike",
   "current_citInitial": 1,
   "eqLabelWithNumbers": true,
   "eqNumInitial": 1,
   "hotkeys": {
    "equation": "Ctrl-E",
    "itemize": "Ctrl-I"
   },
   "labels_anchors": false,
   "latex_user_defs": false,
   "report_style_numbering": false,
   "user_envs_cfg": false
  },
  "toc": {
   "base_numbering": 1,
   "nav_menu": {},
   "number_sections": true,
   "sideBar": true,
   "skip_h1_title": false,
   "title_cell": "Table of Contents",
   "title_sidebar": "Contents",
   "toc_cell": false,
   "toc_position": {},
   "toc_section_display": true,
   "toc_window_display": false
  },
  "varInspector": {
   "cols": {
    "lenName": 16,
    "lenType": 16,
    "lenVar": 40
   },
   "kernels_config": {
    "python": {
     "delete_cmd_postfix": "",
     "delete_cmd_prefix": "del ",
     "library": "var_list.py",
     "varRefreshCmd": "print(var_dic_list())"
    },
    "r": {
     "delete_cmd_postfix": ") ",
     "delete_cmd_prefix": "rm(",
     "library": "var_list.r",
     "varRefreshCmd": "cat(var_dic_list()) "
    }
   },
   "types_to_exclude": [
    "module",
    "function",
    "builtin_function_or_method",
    "instance",
    "_Feature"
   ],
   "window_display": false
  }
 },
 "nbformat": 4,
 "nbformat_minor": 5
}
