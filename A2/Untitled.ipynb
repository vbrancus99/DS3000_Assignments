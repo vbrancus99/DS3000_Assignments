{
 "cells": [
  {
   "cell_type": "code",
   "execution_count": 1,
   "id": "edbe3e8f",
   "metadata": {},
   "outputs": [],
   "source": [
    "import numpy as np\n",
    "import pandas as pd"
   ]
  },
  {
   "cell_type": "code",
   "execution_count": 7,
   "id": "71708972",
   "metadata": {},
   "outputs": [
    {
     "data": {
      "text/plain": [
       "True"
      ]
     },
     "execution_count": 7,
     "metadata": {},
     "output_type": "execute_result"
    }
   ],
   "source": [
    "# initialize programs dictionary with faculty as key\n",
    "\n",
    "programs = {'Arts & Humanities': ['Advanced Studies (SASAH)','Classical Studies', 'Creative Arts and Production (CAP)', \n",
    "                                  'Digital Humanities','English Studies','Film Studies','French Studies','Language and Cultures',\n",
    "                                  'Linguistics','Medieval Studies','Philosophy','Theatre Studies','Visual Arts',\n",
    "                                  'Gender, Sexuality and Women’s Studies','Writing Studies'\n",
    "                                 ],\n",
    "           'Engineering': ['Biomedical Engineering','Chemical Engineering','Civil Engineering','Environmental Engineering',\n",
    "                           'Structural Engineering','Electrical Engineering','Integrated Engineering','Mechanical Engineering',\n",
    "                           'Mechatronic Systems Engineering','Software Engineering'\n",
    "                          ],\n",
    "            'Science': ['Biology','Chemistry','Computer Science','Data Science','Earth & Environmental Sciences',\n",
    "                        'Integrated Science (WISc)','Mathematics and Applied Mathematics','Physics', \n",
    "                        'Medical Physics & Astronomy','Statistical & Actuarial Sciences'\n",
    "                       ],\n",
    "            'Medical Science': ['Biochemistry','Epidemiology & Biostatistics','Interdisciplinary Medical Sciences (IMS)',\n",
    "                                'Medical Biophysics','Medical Cell Biology','Microbiology & Immunology','Neuroscience',\n",
    "                                'One Health','Pathology','Physiology & Pharmacology'\n",
    "                               ],\n",
    "            'Social Science': ['Anthropology', 'Economics', 'Gender, Sexuality and Women’s Studies','Geography and Environment',\n",
    "                               'History','Indigenous Studies','Political Science','Psychology','Sociology'\n",
    "                              ],\n",
    "            'Other': ['Health Sci','Kinesiology','Nursing','Information & Media Studies','Music','Dance','BMOS','Ivey',\n",
    "                      'Medicine','Dentistry','Education','Law'\n",
    "                     ]\n",
    "            }\n"
   ]
  },
  {
   "cell_type": "code",
   "execution_count": null,
   "id": "5f0a18f9",
   "metadata": {},
   "outputs": [],
   "source": [
    "\n",
    "firstName = []\n",
    "progam = []\n",
    "section = []\n",
    "gender = []\n",
    "bio = []\n",
    "yearOfStudy = []\n",
    "birthDate = []\n",
    "height = []"
   ]
  },
  {
   "cell_type": "code",
   "execution_count": 9,
   "id": "95afc99c",
   "metadata": {},
   "outputs": [
    {
     "data": {
      "text/plain": [
       "array([7, 2, 2, 3, 1, 4, 1, 4, 4, 1, 1, 3, 3, 4, 4, 1, 1, 4, 5, 1, 1, 4,\n",
       "       2, 3, 2, 4, 3, 1, 2, 2, 4, 3, 4, 3, 1, 5, 1, 3, 4, 2, 3, 3, 1, 3,\n",
       "       7, 2, 4, 1, 3, 3, 1, 4, 7, 1, 6, 2, 1, 5, 3, 2, 4, 1, 1, 3, 1, 4,\n",
       "       1, 1, 7, 3, 4, 2, 1, 2, 2, 5, 2, 5, 2, 6, 4, 5, 1, 1, 2, 3, 3, 3,\n",
       "       3, 2, 2, 3, 3, 1, 4, 3, 1, 7, 1, 5, 6, 6, 2, 1, 3, 5, 7, 4, 5, 3,\n",
       "       4, 4, 1, 4, 3, 5, 3, 4, 4, 5, 3, 5, 1, 2, 5, 4, 7, 2, 2, 7, 2, 3,\n",
       "       4, 4, 1, 1, 2, 6, 4, 1, 3, 1, 6, 4, 1, 3, 4, 2, 4, 2, 1, 4, 4, 1,\n",
       "       1, 3, 3, 6, 3, 4, 1, 3, 2, 5, 1, 2, 3, 2, 1, 2, 5, 5, 4, 6, 1, 6,\n",
       "       2, 4, 1, 1, 2, 2, 4, 4, 1, 1, 4, 4, 7, 5, 6, 1, 1, 2, 2, 3, 1, 6,\n",
       "       3, 3, 4, 4, 4, 1, 1, 4, 3, 4, 4, 2, 1, 2, 5, 4, 6, 1, 1, 1, 1, 2,\n",
       "       5, 1, 5, 1, 2, 3, 5, 2, 4, 4, 6, 3, 4, 6, 4, 1, 2, 1, 2, 3, 1, 2,\n",
       "       1, 5, 6, 2, 1, 3, 2, 2, 6, 5, 1, 4, 1, 5, 1, 5, 6, 4, 3, 1, 1, 4,\n",
       "       3, 1, 3, 5, 2, 1, 2, 3, 1, 4, 3, 2, 3, 1, 1, 3, 5, 2, 3, 4, 1, 3,\n",
       "       3, 3, 2, 2, 5, 5, 1, 4, 3, 3, 2, 7, 3, 3, 1, 1, 4, 1, 3, 5, 3, 3,\n",
       "       1, 1, 1, 2, 2, 5, 5, 1, 2, 4, 2, 2, 5, 6, 4, 5, 4, 3, 5, 3, 3, 1,\n",
       "       2, 4, 3, 1, 1, 4, 1, 1, 1, 4, 4, 5, 3, 4, 2, 1, 2, 4, 1, 7, 2, 1,\n",
       "       2, 5, 3, 6, 1, 1, 2, 4, 5, 5, 1, 2, 1, 7, 4, 2, 3, 6, 3, 1, 4, 5,\n",
       "       4, 1, 5, 4, 6, 5, 6, 1, 3, 4, 3, 4, 7, 1, 4, 1, 1, 1, 2, 4, 7, 6,\n",
       "       6, 1, 6, 2, 4, 4, 5, 3, 3, 3, 5, 4, 3, 2, 6, 7, 2, 3, 1, 1, 5, 1,\n",
       "       4, 6, 1, 3, 5, 2, 2, 6, 6, 1, 2, 5, 3, 6, 4, 4, 4, 4, 3, 4, 1, 2,\n",
       "       4, 5, 7, 2, 1, 3, 1, 4, 1, 6, 2, 2, 3, 4, 7, 2, 3, 6, 2, 3, 3, 1,\n",
       "       2, 2, 5, 3, 1, 1, 1, 4, 5, 4, 6, 2, 2, 4, 4, 3, 1, 3, 4, 4, 3, 3,\n",
       "       2, 4, 4, 3, 4, 5, 4, 6, 4, 3, 1, 6, 2, 6, 3, 1, 1, 3, 1, 6, 6, 1,\n",
       "       7, 4, 6, 4, 4, 3, 1, 5, 3, 4, 6, 7, 5, 2, 3, 1, 2, 3, 5, 2, 7, 3,\n",
       "       3, 1, 1, 1, 7, 2, 5, 4, 7, 2, 2, 3, 4, 3, 3, 4, 5, 4, 7, 2, 1, 5,\n",
       "       2, 4, 6, 4, 4, 2, 3, 4, 2, 5, 1, 4, 1, 5, 2, 4, 1, 3, 1, 2, 3, 3,\n",
       "       2, 3, 1, 3, 5, 3, 3, 5, 4, 4, 1, 4, 3, 1, 4, 6, 1, 3, 4, 4, 3, 1,\n",
       "       2, 2, 4, 4, 5, 4, 3, 5, 2, 6, 1, 5, 1, 1, 3, 1, 6, 2, 4, 1, 1, 2,\n",
       "       1, 7, 1, 3, 2, 4, 3, 5, 2, 4, 1, 4, 2, 1, 4, 5, 5, 3, 4, 1, 3, 6,\n",
       "       4, 3, 7, 2, 4, 1, 3, 3, 2, 6, 3, 3, 3, 3, 3, 1, 4, 2, 3, 4, 6, 1,\n",
       "       7, 7, 1, 4, 5, 2, 6, 3, 6, 3, 2, 3, 1, 4, 7, 3, 1, 4, 6, 1, 3, 3,\n",
       "       1, 5, 3, 6, 3, 5, 1, 3, 2, 4, 4, 2, 1, 2, 4, 2, 2, 1, 1, 4, 6, 3,\n",
       "       2, 3, 1, 2, 2, 3, 4, 6, 1, 4, 1, 1, 3, 3, 7, 3, 4, 3, 1, 1, 4, 3,\n",
       "       3, 3, 6, 6, 2, 6, 3, 1, 3, 2, 4, 2, 3, 4, 5, 4, 5, 3, 3, 3, 5, 1,\n",
       "       3, 1, 5, 4, 1, 3, 1, 3, 3, 7, 4, 4, 3, 3, 4, 4, 3, 2, 3, 6, 5, 6,\n",
       "       4, 7, 4, 2, 7, 3, 4, 4, 3, 2, 5, 4, 4, 4, 4, 3, 5, 4, 3, 3, 3, 2,\n",
       "       3, 2, 4, 4, 6, 1, 6, 1, 2, 5, 2, 5, 4, 7, 4, 2, 4, 2, 2, 4, 6, 1,\n",
       "       4, 5, 2, 5, 5, 1, 4, 7, 4, 4, 2, 3, 4, 3, 2, 3, 3, 3, 2, 6, 1, 7,\n",
       "       4, 4, 3, 4, 1, 5, 5, 7, 1, 2, 3, 4, 4, 1, 3, 3, 3, 4, 4, 4, 5, 7,\n",
       "       2, 2, 4, 1, 1, 2, 1, 4, 4, 2, 5, 4, 2, 3, 1, 3, 2, 1, 4, 2, 3, 4,\n",
       "       2, 2, 4, 3, 2, 2, 2, 6, 6, 3, 3, 2, 4, 1, 5, 3, 5, 1, 2, 6, 2, 4,\n",
       "       5, 1, 3, 2, 2, 3, 3, 3, 6, 3, 4, 4, 4, 2, 1, 5, 4, 3, 6, 4, 6, 4,\n",
       "       3, 4, 2, 5, 1, 2, 4, 2, 4, 6, 2, 2, 2, 5, 1, 2, 4, 7, 1, 2, 2, 7,\n",
       "       6, 6, 3, 3, 2, 3, 3, 4, 2, 3, 1, 2, 4, 3, 1, 1, 1, 6, 1, 2, 4, 6,\n",
       "       1, 7, 7, 3, 5, 2, 1, 4, 1, 3, 3, 2, 5, 2, 4, 5, 3, 2, 4, 1, 3, 2,\n",
       "       2, 1, 3, 1, 1, 2, 4, 3, 1, 1])"
      ]
     },
     "execution_count": 9,
     "metadata": {},
     "output_type": "execute_result"
    }
   ],
   "source": [
    "year_ops = [1,2,3,4,5,6,7]\n",
    "yearOfStudy = np.random.choice(year_ops, 1000, p = [0.2,0.2,0.2,0.2,0.1,0.06,0.04])\n",
    "\n",
    "gender_ops = ['Male', 'Female', 'Other']\n",
    "gender = np.random.choice(gender_ops, 1000, p = [0.45,0.45,0.1])\n",
    "\n"
   ]
  },
  {
   "cell_type": "code",
   "execution_count": null,
   "id": "d1e2d1ef",
   "metadata": {},
   "outputs": [],
   "source": []
  }
 ],
 "metadata": {
  "kernelspec": {
   "display_name": "Python 3 (ipykernel)",
   "language": "python",
   "name": "python3"
  },
  "language_info": {
   "codemirror_mode": {
    "name": "ipython",
    "version": 3
   },
   "file_extension": ".py",
   "mimetype": "text/x-python",
   "name": "python",
   "nbconvert_exporter": "python",
   "pygments_lexer": "ipython3",
   "version": "3.9.7"
  }
 },
 "nbformat": 4,
 "nbformat_minor": 5
}
