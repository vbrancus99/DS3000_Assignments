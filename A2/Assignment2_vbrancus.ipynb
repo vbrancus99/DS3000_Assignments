{
 "cells": [
  {
   "cell_type": "markdown",
   "metadata": {
    "id": "m9Rk_yqSWWPM"
   },
   "source": [
    "# Grade: /100 Mark(s)\n",
    "\n",
    "# Assignment 02: Maximum Likelihood\n",
    "\n",
    "\n",
    "### Maximum Likelihood\n",
    "\n",
    "The exponential distribution https://en.wikipedia.org/wiki/Exponential_distribution is a continuous probability distribution often used to predict time when an event might ocurr, for instance Earthquake. \n",
    "\n",
    "If we know $y$ is influenced by feature $x$, then we can use the maximum likelihood principle to develop a regression model that estimates the mean of $Y$ given $X=x$."
   ]
  },
  {
   "cell_type": "code",
   "execution_count": 1,
   "metadata": {
    "id": "Xhy3qPFeWWPS"
   },
   "outputs": [],
   "source": [
    "# Packages for this assignment\n",
    "import numpy as np\n",
    "import matplotlib.pyplot as plt\n",
    "import pandas as pd\n",
    "from scipy.optimize import minimize\n",
    "from sklearn.linear_model import LinearRegression\n",
    "%matplotlib inline"
   ]
  },
  {
   "cell_type": "markdown",
   "metadata": {
    "id": "l-V85glRWWPX"
   },
   "source": [
    "### Question 1: /10 Marks\n",
    "\n",
    "The negative log likelihood for a exponential random variable is\n",
    "\n",
    "$$\\ell(\\lambda; \\mathbf{y}) = -\\sum_{i=1}^N\\Bigg(\\ln(\\lambda) - \\lambda y_i \\Bigg)$$\n",
    "\n",
    "Here, $\\mathbf{y}=(y_i) \\in \\mathbb{R^N}$ is a vector  and $\\lambda$ is a scalar value.\n",
    "\n",
    "Define a function called `exponentialNegLogLikelihood` that takes a vector  $\\mathbf{y}$ and a parameter $\\lambda$ and returns the negative log likelihood.\n",
    "\n",
    "Test your function by calling it with `lamb = 2` and `y = np.array([1, 4, 6, 0])`.\n",
    "\n",
    "Test your function by calling it with `lamb = np.array([1, 0.5, 2, 5])` and  `y = np.array([1.5, 2.1, 3.4, 0])`.\n",
    "\n",
    "Answer in markdown:\n",
    "\n",
    "\n",
    "* Explain what the function is doing if $\\mathbf{\\lambda}=(\\lambda_i)$ and  $\\mathbf{y}=(y_i)$. This is when the arguments are vectors.\n",
    "\n",
    "* What happens when you set an element of lamb to 0 or a negative number. Why?"
   ]
  },
  {
   "cell_type": "code",
   "execution_count": 2,
   "metadata": {
    "id": "9HuWZQUIWWPa"
   },
   "outputs": [
    {
     "data": {
      "text/plain": [
       "7.740562087565899"
      ]
     },
     "metadata": {},
     "output_type": "display_data"
    }
   ],
   "source": [
    "def exponentialNegLogLikelihood(lamb, y):\n",
    "    neg_log_lik = - np.sum(np.log(lamb) - lamb*y)\n",
    "    return neg_log_lik\n",
    "\n",
    "\n",
    "\n",
    "display(exponentialNegLogLikelihood(np.array([1, 0.5, 2, 5]), np.array([1.5, 2.1, 3.4, 0])))"
   ]
  },
  {
   "cell_type": "code",
   "execution_count": 3,
   "metadata": {
    "id": "CoLEd2jbWWPb"
   },
   "outputs": [
    {
     "data": {
      "text/plain": [
       "19.227411277760222"
      ]
     },
     "metadata": {},
     "output_type": "display_data"
    }
   ],
   "source": [
    "# Test the function\n",
    "lamb = 2\n",
    "y = np.array([1, 4, 6, 0])\n",
    "\n",
    "display(exponentialNegLogLikelihood(lamb, y))"
   ]
  },
  {
   "cell_type": "code",
   "execution_count": 4,
   "metadata": {
    "id": "AWsPy3sSWWPc"
   },
   "outputs": [
    {
     "data": {
      "text/plain": [
       "7.740562087565899"
      ]
     },
     "metadata": {},
     "output_type": "display_data"
    }
   ],
   "source": [
    "# What happens when you call the function with lamb=np.array([1,0.5,2,5]) and y=np.array([1.5,2.1,3.4,0])?\n",
    "lamb=np.array([1,0.5,2,5])\n",
    "y=np.array([1.5,2.1,3.4,0])\n",
    "\n",
    "display(exponentialNegLogLikelihood(lamb, y))"
   ]
  },
  {
   "cell_type": "code",
   "execution_count": 5,
   "metadata": {
    "id": "3SegQlLvWWPd"
   },
   "outputs": [
    {
     "name": "stderr",
     "output_type": "stream",
     "text": [
      "C:\\Users\\VBran\\AppData\\Local\\Temp/ipykernel_13552/1286087806.py:2: RuntimeWarning: divide by zero encountered in log\n",
      "  neg_log_lik = - np.sum(np.log(lamb) - lamb*y)\n"
     ]
    },
    {
     "data": {
      "text/plain": [
       "inf"
      ]
     },
     "metadata": {},
     "output_type": "display_data"
    }
   ],
   "source": [
    "# look what happens if $\\lambda=0$.\n",
    "lamb = 0\n",
    "y = np.array([1,4,6,0])\n",
    "\n",
    "display(exponentialNegLogLikelihood(lamb, y))"
   ]
  },
  {
   "cell_type": "code",
   "execution_count": 6,
   "metadata": {
    "id": "468hf9zQWWPd"
   },
   "outputs": [
    {
     "name": "stderr",
     "output_type": "stream",
     "text": [
      "C:\\Users\\VBran\\AppData\\Local\\Temp/ipykernel_13552/1286087806.py:2: RuntimeWarning: invalid value encountered in log\n",
      "  neg_log_lik = - np.sum(np.log(lamb) - lamb*y)\n"
     ]
    },
    {
     "data": {
      "text/plain": [
       "nan"
      ]
     },
     "metadata": {},
     "output_type": "display_data"
    }
   ],
   "source": [
    "# Look what happens if $\\lambda$ is negative.\n",
    "lamb = -1\n",
    "y = np.array([1,4,6,0])\n",
    "\n",
    "display(exponentialNegLogLikelihood(lamb, y))"
   ]
  },
  {
   "cell_type": "markdown",
   "metadata": {
    "id": "3acZdf7fWWPf"
   },
   "source": [
    "**Written Answer:** \n",
    "1. When setting lamda and y to vectors the function iterates through both y and lambda and computes the sum at each iteration. For this reason, the two vectors must be of the same size, or at least one of them must be of size 1. \n",
    "\n",
    "2. When lamb is 0, it returns infinity. This is because as lambda approaches 0, ln(lambda) approaches negative infinity. Thus taking the negative of this returns negative infinity. When lamb is negative, it returns nan, meaning not a number. This is because the natural log of a negative number does not exist. "
   ]
  },
  {
   "cell_type": "markdown",
   "metadata": {
    "id": "JMGFLbQxWWPg"
   },
   "source": [
    "---\n",
    "\n",
    "### Question 2: /15 Marks\n",
    "\n",
    "Write a function called `exponentialRegressionNegLogLikelihood` that takes as arguments a vector $\\mathbf{y}$ , a design matrix $\\mathbf{X}$ of features, and a vector $\\mathbf{\\beta}$ of parameters. The function should return the negative log likelihood of this dataset, assuming that each element of  $\\mathbf{y}$ is independent, and exponentially distributed with $\\lambda=\\exp(-\\mathbf{X}\\beta)$.\n",
    "\n",
    "Test your function by calling it with \n",
    "* `b = np.array([1, 3])`\n",
    "* `X = np.array([[1.4, 2.1, 3], [2.2, 3, 1.5]]).T`\n",
    "* `y = np.array([0, 2.5, 10])`"
   ]
  },
  {
   "cell_type": "code",
   "execution_count": 7,
   "metadata": {
    "id": "aN4BWwFhWWPh"
   },
   "outputs": [],
   "source": [
    "def exponentialRegressionNegLogLikelihood(b, X, y):\n",
    "    lamb = np.exp(-X@b)\n",
    "    neg_log_lik = exponentialNegLogLikelihood(lamb, y)\n",
    "    return neg_log_lik"
   ]
  },
  {
   "cell_type": "code",
   "execution_count": 8,
   "metadata": {
    "id": "X87ItPELWWPj"
   },
   "outputs": [
    {
     "data": {
      "text/plain": [
       "26.60556862451103"
      ]
     },
     "metadata": {},
     "output_type": "display_data"
    }
   ],
   "source": [
    "# Test your function \n",
    "b = np.array([1, 3])\n",
    "X = np.array([[1.4, 2.1, 3], [2.2, 3, 1.5]]).T\n",
    "y = np.array([0, 2.5, 10])\n",
    "\n",
    "display(exponentialRegressionNegLogLikelihood(b, X, y))"
   ]
  },
  {
   "cell_type": "markdown",
   "metadata": {
    "id": "Ek6QwVpHWWPk"
   },
   "source": [
    "---\n",
    "### Question 3: /10 Marks\n",
    "\n",
    "a) In `exponentialRegressionNegLogLikelihood`, what problem can happen if we assume that $\\lambda = \\mathbf{X}\\beta$?.\n",
    "\n",
    "\n",
    "b) What property of the exponential distribution is guaranteed when we assume that $\\lambda$ has the form of $\\exp(-\\mathbf{X}\\beta)$?: \n",
    "\n",
    "No more than 2 lines for each answer."
   ]
  },
  {
   "cell_type": "markdown",
   "metadata": {
    "id": "RsG7bTIBWWPn"
   },
   "source": [
    "**Written Answer:**\n",
    "\n",
    "a) Could end up that lambda contains a negative number, thus we wouldnt be able to compute neg_log_like.\n",
    "\n",
    "b) The exponential distribution is always positive. When lambda has the form exp(-Xb), it is always positive, thus the mean and variance of the exponential distribution are also always positive."
   ]
  },
  {
   "cell_type": "markdown",
   "metadata": {
    "id": "UNOqDSX2WWPp"
   },
   "source": [
    "---\n",
    "### Question 4: /5 Marks\n",
    "\n",
    "Define a function called `Prediction` whose arguments are a vector of coefficents $\\beta$ and a design matrix $\\mathbf{X}$, and its outputs are predictions of the form $\\widehat{\\mathbf{y}} = \\exp(\\mathbf{X}\\beta)$. \n",
    "\n",
    "Test your function by calling it with \n",
    "* `b = np.array([1, 3])`\n",
    "* `X = np.array([[1.4, 2.1, 3], [2.2, 3, 1.5]]).T`"
   ]
  },
  {
   "cell_type": "code",
   "execution_count": 9,
   "metadata": {
    "id": "PyI9g7T5WWPr"
   },
   "outputs": [],
   "source": [
    "# Definition of the Prediction\n",
    "def Prediction(b, X):\n",
    "    yhat = np.exp(X@b)\n",
    "    return yhat"
   ]
  },
  {
   "cell_type": "code",
   "execution_count": 10,
   "metadata": {
    "id": "EjtIJn4rWWPr"
   },
   "outputs": [
    {
     "data": {
      "text/plain": [
       "array([ 2980.95798704, 66171.16016838,  1808.04241446])"
      ]
     },
     "metadata": {},
     "output_type": "display_data"
    }
   ],
   "source": [
    "# Test the function\n",
    "b = np.array([1, 3])\n",
    "X = np.array([[1.4, 2.1, 3], [2.2, 3, 1.5]]).T\n",
    "\n",
    "display(Prediction(b, X))"
   ]
  },
  {
   "cell_type": "markdown",
   "metadata": {
    "id": "Xc8QDlT6WWPt"
   },
   "source": [
    "---\n",
    "### Question 5: /15 Marks\n",
    "\n",
    "Define a function called `Model_fit` which accepts as its first argument a design matrix $\\mathbf{X}$ and as its second argument a vector of $\\mathbf{y}$. Its output should be the maximum likelihood estimates for the coefficients of exponential regression of $\\mathbf{y}$ onto $\\mathbf{X}$.\n",
    "\n",
    "Test your function by calling it with \n",
    "* `X = np.array([[1.4, 2.1, 3], [2.2, 3, 1.5]]).T`\n",
    "* `y = np.array([0, 2.5, 10])`\n",
    "\n",
    "Write the estimated coefficients $b$."
   ]
  },
  {
   "cell_type": "code",
   "execution_count": 11,
   "metadata": {
    "id": "WprRkxojWWPu"
   },
   "outputs": [],
   "source": [
    "# Define Model_fit\n",
    "def Model_fit(X, y):\n",
    "    # Instantiate a guess for the betas, beta_start, so that the optimizer has somewhere to start\n",
    "    # Keep in mind what shape the beta_start should be. It shoud have the same number of elements as X as columns\n",
    "    beta_start = np.zeros(X.shape[1])\n",
    "    # Minimize the appropriate likelihood function\n",
    "    mle = minimize(exponentialRegressionNegLogLikelihood, beta_start, args=(X,y))\n",
    "    # Extract the maximum likelihood estimates from the optimizer.\n",
    "    betas = mle.x\n",
    "    return betas"
   ]
  },
  {
   "cell_type": "code",
   "execution_count": 12,
   "metadata": {
    "id": "BwVRCImFWWPv"
   },
   "outputs": [
    {
     "data": {
      "text/plain": [
       "array([ 1.13036676, -0.6760081 ])"
      ]
     },
     "metadata": {},
     "output_type": "display_data"
    }
   ],
   "source": [
    "# Show the code to find estimated b\n",
    "X = np.array([[1.4, 2.1, 3], [2.2, 3, 1.5]]).T\n",
    "y = np.array([0, 2.5, 10])\n",
    "\n",
    "display(Model_fit(X, y))"
   ]
  },
  {
   "cell_type": "markdown",
   "metadata": {
    "id": "MZoXJIQ1WWPw"
   },
   "source": [
    "### Question 6: /20 Mark(s)\n",
    "\n",
    "Use the data `exponential_regression.csv` to fit a exponential regression using the functions that you already have created. In this data, $y$ is measured in time units. \n",
    "\n",
    "* What are the estimated coefficients?\n",
    "* Plot a scatterplot of the data that includes the model prediction over $x \\in [-2.14, 2.14]$. Do not forget to include a graph title."
   ]
  },
  {
   "cell_type": "code",
   "execution_count": 13,
   "metadata": {
    "id": "5yg4vHgIWWPx"
   },
   "outputs": [],
   "source": [
    "# Loading in the data.\n",
    "df = pd.read_csv(\"exponential_regression.csv\", sep = ';')\n",
    "#display(df.head())\n",
    "# Create the design matrix\n",
    "x = df.x.values \n",
    "X = X = np.c_[np.ones(x.size), x]\n",
    "y = df.y.values\n",
    "\n",
    "# Find the maximum likelihood estimates for the coefficients for this data\n",
    "betas = Model_fit(X,y)"
   ]
  },
  {
   "cell_type": "code",
   "execution_count": 14,
   "metadata": {
    "id": "Gc1uIOGIWWPy"
   },
   "outputs": [
    {
     "data": {
      "text/plain": [
       "Text(0.5, 1.0, 'Exponential Fit')"
      ]
     },
     "execution_count": 14,
     "metadata": {},
     "output_type": "execute_result"
    },
    {
     "data": {
      "image/png": "[encoded data removed]",
      "text/plain": [
       "<Figure size 432x288 with 1 Axes>"
      ]
     },
     "metadata": {
      "needs_background": "light"
     },
     "output_type": "display_data"
    }
   ],
   "source": [
    "# Scatterplot the data. \n",
    "plt.scatter(x = df.x, y = df.y)\n",
    "# Create the new data to graphic the prediction\n",
    "newx = np.linspace(-2.14, 2.14, 1001)\n",
    "newX = np.c_[np.ones(newx.size), newx]\n",
    "\n",
    "# Predictions on the new data\n",
    "y_predicted = Prediction(betas, newX)\n",
    "\n",
    "#Finally, plot the predictions on the same graph\n",
    "plt.plot(newX[:,1], y_predicted, color = 'red')\n",
    "plt.xlabel('x')\n",
    "plt.ylabel('y')\n",
    "plt.title('Exponential Fit')"
   ]
  },
  {
   "cell_type": "markdown",
   "metadata": {
    "id": "4eQ27DO4WWPz"
   },
   "source": [
    "### Question 7:  /20 Marks\n",
    "\n",
    "Fit a linear regression (ordinary least squares) to the data, and obtain parameter estimates and and plot the predictions over the same range.\n"
   ]
  },
  {
   "cell_type": "code",
   "execution_count": 15,
   "metadata": {
    "id": "c7j81_i5WWP0"
   },
   "outputs": [
    {
     "data": {
      "text/plain": [
       "Text(0.5, 1.0, 'Linear Fit')"
      ]
     },
     "execution_count": 15,
     "metadata": {},
     "output_type": "execute_result"
    },
    {
     "data": {
      "image/png": "[encoded data removed]",
      "text/plain": [
       "<Figure size 432x288 with 1 Axes>"
      ]
     },
     "metadata": {
      "needs_background": "light"
     },
     "output_type": "display_data"
    }
   ],
   "source": [
    "# fit the linear regression model\n",
    "x = df.loc[:,'x'].values\n",
    "X = np.c_[np.ones(x.size), x]\n",
    "y = df.loc[:,'y'].values\n",
    "ols_fit = LinearRegression().fit(X, y)\n",
    "\n",
    "# Make predictions on the new data\n",
    "newx = np.linspace(-2.14, 2.14, 1001)\n",
    "newX = np.c_[np.ones(newx.size), newx]\n",
    "y_predicted = ols_fit.predict(newX)\n",
    "\n",
    "# Plot a scatter plot of the data and your model's predictions\n",
    "plt.scatter(x, y)\n",
    "plt.plot(newX[:,1], y_predicted, color = 'red')\n",
    "plt.xlabel('x')\n",
    "plt.ylabel('y')\n",
    "plt.title('Linear Fit')"
   ]
  },
  {
   "cell_type": "markdown",
   "metadata": {
    "id": "6cDon7VbWWP0"
   },
   "source": [
    "### Question 8: /5 Mark(s)\n",
    "\n",
    "Between this two models which one would you select? What is the major problem with predictions from linear regression? Remember that in this case $y$ is measured in time units."
   ]
  },
  {
   "cell_type": "markdown",
   "metadata": {
    "id": "_1O7hyAaWWP1"
   },
   "source": [
    "**Written answer:** I would select the exponential model. The major problem with the linear model is that it predicts y values below the x axis. This would be a negative time value which is not possible.\n"
   ]
  },
  {
   "cell_type": "markdown",
   "metadata": {
    "id": "H5M3E49EWWP2"
   },
   "source": [
    "### Follow These Instructions\n",
    "\n",
    "Once you are finished, ensure to complete the following steps.\n",
    "\n",
    "1.  Restart your kernel by clicking 'Kernel' > 'Restart & Run All'.\n",
    "\n",
    "2.  Fix any errors which result from this.\n",
    "\n",
    "3.  Repeat steps 1. and 2. until your notebook runs without errors.\n",
    "\n",
    "4.  Submit your completed notebook to OWL by the deadline."
   ]
  }
 ],
 "metadata": {
  "colab": {
   "name": "Assignment_2_Clean.ipynb",
   "provenance": []
  },
  "kernelspec": {
   "display_name": "Python 3 (ipykernel)",
   "language": "python",
   "name": "python3"
  },
  "language_info": {
   "codemirror_mode": {
    "name": "ipython",
    "version": 3
   },
   "file_extension": ".py",
   "mimetype": "text/x-python",
   "name": "python",
   "nbconvert_exporter": "python",
   "pygments_lexer": "ipython3",
   "version": "3.9.7"
  }
 },
 "nbformat": 4,
 "nbformat_minor": 1
}
