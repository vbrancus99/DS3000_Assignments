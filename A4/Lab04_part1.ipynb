{
 "cells": [
  {
   "cell_type": "code",
   "execution_count": 1,
   "metadata": {},
   "outputs": [],
   "source": [
    "import numpy as np\n",
    "import pandas as pd\n",
    "import matplotlib.pyplot as plt\n",
    "import seaborn as sns\n",
    "from scipy.stats import t"
   ]
  },
  {
   "cell_type": "markdown",
   "metadata": {},
   "source": [
    "# Constructing confidence intervals via central limit theorem"
   ]
  },
  {
   "cell_type": "code",
   "execution_count": 2,
   "metadata": {},
   "outputs": [],
   "source": [
    "# From PTSD paper, there were 52 test cases, 42 of which were correct\n",
    "\n",
    "n = 52\n",
    "c = 42\n",
    "\n",
    "# Create array of zeros, size n\n",
    "rawdata = np.zeros(n)\n",
    "\n",
    "# Set first c elements to 1\n",
    "rawdata[range(c)] = 1\n",
    "\n",
    "# Create pandas data frame\n",
    "data = pd.DataFrame({\"Match\": rawdata}) # a dictionary {\"Match\": rawdata}"
   ]
  },
  {
   "cell_type": "markdown",
   "metadata": {},
   "source": [
    "First we'll build the confidence interval assuming a normal variable."
   ]
  },
  {
   "cell_type": "code",
   "execution_count": 5,
   "metadata": {},
   "outputs": [
    {
     "name": "stdout",
     "output_type": "stream",
     "text": [
      "Stderr: 0.055\n",
      "Norm ci: [0.6995259303230998, 0.9158586850615156]\n"
     ]
    }
   ],
   "source": [
    "## Using central limit theorem, compute confidence interval\n",
    "\n",
    "stderr = np.std(data.Match, ddof=1)/np.sqrt(len(data.Match)) # compute standard error\n",
    "print(\"Stderr: %.3f\" %stderr)confidence \n",
    "\n",
    "# Area under a standard normal from -1.96 to 1.96 is about 95%\n",
    "critval = 1.96\n",
    "\n",
    "norm_ci = [data.Match.mean() - critval*stderr, \n",
    "           data.Match.mean() + critval*stderr]\n",
    "\n",
    "print(\"Norm ci:\",norm_ci)"
   ]
  },
  {
   "cell_type": "markdown",
   "metadata": {},
   "source": [
    "What if we use a t-test? The $100(1-\\alpha)\\%$ confidence interval is\n",
    "\n",
    "$$ \\bar{x} \\pm  t_{1-\\alpha/2, n-1} \\dfrac{\\hat{\\sigma}}{\\sqrt{n}} $$\n",
    "\n",
    "The t distribution is available for us to use in the [scipy.stats.t package](https://docs.scipy.org/doc/scipy/reference/generated/scipy.stats.t.html)."
   ]
  },
  {
   "cell_type": "code",
   "execution_count": 6,
   "metadata": {},
   "outputs": [
    {
     "name": "stdout",
     "output_type": "stream",
     "text": [
      "The t-based critical value is equal to 2.008\n",
      "The t-based confidence interval is equal to [0.69689993 0.91848469]\n"
     ]
    }
   ],
   "source": [
    "# Get the critical values for t at an alpha = 0.05/2, and 52-1 = 51 dof.\n",
    "t_quantile = t.ppf(1 - 0.05 / 2, df = n - 1) # gets critical value for t distribution (ppf() from scipy.stats)\n",
    "print('The t-based critical value is equal to %.3f' % t_quantile)\n",
    "\n",
    "t_ci = data.Match.mean() + t_quantile * stderr * np.array([-1, 1])\n",
    "print('The t-based confidence interval is equal to', t_ci)"
   ]
  }
 ],
 "metadata": {
  "kernelspec": {
   "display_name": "Python 3 (ipykernel)",
   "language": "python",
   "name": "python3"
  },
  "language_info": {
   "codemirror_mode": {
    "name": "ipython",
    "version": 3
   },
   "file_extension": ".py",
   "mimetype": "text/x-python",
   "name": "python",
   "nbconvert_exporter": "python",
   "pygments_lexer": "ipython3",
   "version": "3.9.7"
  }
 },
 "nbformat": 4,
 "nbformat_minor": 4
}
