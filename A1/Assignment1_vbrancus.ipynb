{
 "cells": [
  {
   "cell_type": "markdown",
   "metadata": {
    "id": "mEK2QYPrX78R"
   },
   "source": [
    "# Grade: /100 points\n",
    "\n",
    "# Assignment 01: Supervised learning, Linear models, and Loss functions\n",
    "\n",
    "In this assignment, you're going to write your own methods to fit a linear model using either an OLS or LAD cost function.  \n",
    "\n",
    "## Data set \n",
    "\n",
    "We will examine some data representing the miles-per-gallon of 398 cars given other variables describing them:\n",
    "\n",
    "1. mpg: continuous. The miles-per-gallon of the car.\n",
    "2. cylinders: multi-valued discrete. Number of cylinders.\n",
    "3. displacement: continuous. Engine displacement of the car. \n",
    "4. horsepower: continuous. Total horsepower of the car.\n",
    "5. weight: continuous. Weight in lbs.\n",
    "6. acceleration: continuous. Acceleration 0-60mph in seconds.\n",
    "9. car name: string (unique for each instance)\n",
    "\n",
    "## Follow These Steps Before Submitting\n",
    "Once you are finished, ensure to complete the following steps.\n",
    "\n",
    "1.  Restart your kernel by clicking 'Kernel' > 'Restart & Run All'.\n",
    "\n",
    "2.  Fix any errors which result from this.\n",
    "\n",
    "3.  Repeat steps 1. and 2. until your notebook runs without errors.\n",
    "\n",
    "4.  Submit your completed notebook to OWL by the deadline.\n",
    "\n",
    "\n",
    "## Preliminaries"
   ]
  },
  {
   "cell_type": "code",
   "execution_count": 1,
   "metadata": {
    "id": "aBu-equFX78Y"
   },
   "outputs": [],
   "source": [
    "# Import all the necessary packages: \n",
    "import matplotlib.pyplot as plt \n",
    "import numpy as np\n",
    "import pandas as pd\n",
    "import scipy.stats as ss \n",
    "import scipy.optimize as so\n",
    "from sklearn import linear_model\n",
    "\n",
    "%matplotlib inline"
   ]
  },
  {
   "cell_type": "code",
   "execution_count": 2,
   "metadata": {
    "id": "rBv9WDghTVHx"
   },
   "outputs": [],
   "source": [
    "# Uncomment if using Google Colab or Kaggle Kernels.\n",
    "# Imports the data using gdown.\n",
    "# !gdown https://drive.google.com/uc?id=1PtY3ne37XA8Jk_cAf0Cd7JSRvEU8KDbp"
   ]
  },
  {
   "cell_type": "markdown",
   "metadata": {
    "id": "m8CtqKgpX78f"
   },
   "source": [
    "\n",
    "## Part 1\n",
    "### Question 1.1:  /10 points\n",
    "\n",
    "\n",
    "Read the `car_data.csv` file as a `pandas.DataFrame` and show its descriptive statistics.  Investigate the relationship between the cars' weight and their mpg by plotting a scatter plot of the `weight` (x axis) and `mpg` columns (y axis). Add an `alpha`(transparency of the plotted dots) in case some data are overlapping. Remember to label your axes."
   ]
  },
  {
   "cell_type": "code",
   "execution_count": 3,
   "metadata": {
    "id": "WdFNvFsRUdx9"
   },
   "outputs": [
    {
     "data": {
      "text/html": [
       "<div>\n",
       "<style scoped>\n",
       "    .dataframe tbody tr th:only-of-type {\n",
       "        vertical-align: middle;\n",
       "    }\n",
       "\n",
       "    .dataframe tbody tr th {\n",
       "        vertical-align: top;\n",
       "    }\n",
       "\n",
       "    .dataframe thead th {\n",
       "        text-align: right;\n",
       "    }\n",
       "</style>\n",
       "<table border=\"1\" class=\"dataframe\">\n",
       "  <thead>\n",
       "    <tr style=\"text-align: right;\">\n",
       "      <th></th>\n",
       "      <th>MPG</th>\n",
       "      <th>cylinders</th>\n",
       "      <th>displacement</th>\n",
       "      <th>horsepower</th>\n",
       "      <th>weight</th>\n",
       "      <th>acceleration</th>\n",
       "      <th>name</th>\n",
       "    </tr>\n",
       "  </thead>\n",
       "  <tbody>\n",
       "    <tr>\n",
       "      <th>count</th>\n",
       "      <td>392.000000</td>\n",
       "      <td>392.000000</td>\n",
       "      <td>392.000000</td>\n",
       "      <td>392.000000</td>\n",
       "      <td>392.000000</td>\n",
       "      <td>392.000000</td>\n",
       "      <td>392</td>\n",
       "    </tr>\n",
       "    <tr>\n",
       "      <th>unique</th>\n",
       "      <td>NaN</td>\n",
       "      <td>NaN</td>\n",
       "      <td>NaN</td>\n",
       "      <td>NaN</td>\n",
       "      <td>NaN</td>\n",
       "      <td>NaN</td>\n",
       "      <td>301</td>\n",
       "    </tr>\n",
       "    <tr>\n",
       "      <th>top</th>\n",
       "      <td>NaN</td>\n",
       "      <td>NaN</td>\n",
       "      <td>NaN</td>\n",
       "      <td>NaN</td>\n",
       "      <td>NaN</td>\n",
       "      <td>NaN</td>\n",
       "      <td>amc matador</td>\n",
       "    </tr>\n",
       "    <tr>\n",
       "      <th>freq</th>\n",
       "      <td>NaN</td>\n",
       "      <td>NaN</td>\n",
       "      <td>NaN</td>\n",
       "      <td>NaN</td>\n",
       "      <td>NaN</td>\n",
       "      <td>NaN</td>\n",
       "      <td>5</td>\n",
       "    </tr>\n",
       "    <tr>\n",
       "      <th>mean</th>\n",
       "      <td>23.445918</td>\n",
       "      <td>5.471939</td>\n",
       "      <td>194.411990</td>\n",
       "      <td>104.469388</td>\n",
       "      <td>2977.584184</td>\n",
       "      <td>15.541327</td>\n",
       "      <td>NaN</td>\n",
       "    </tr>\n",
       "    <tr>\n",
       "      <th>std</th>\n",
       "      <td>7.805007</td>\n",
       "      <td>1.705783</td>\n",
       "      <td>104.644004</td>\n",
       "      <td>38.491160</td>\n",
       "      <td>849.402560</td>\n",
       "      <td>2.758864</td>\n",
       "      <td>NaN</td>\n",
       "    </tr>\n",
       "    <tr>\n",
       "      <th>min</th>\n",
       "      <td>9.000000</td>\n",
       "      <td>3.000000</td>\n",
       "      <td>68.000000</td>\n",
       "      <td>46.000000</td>\n",
       "      <td>1613.000000</td>\n",
       "      <td>8.000000</td>\n",
       "      <td>NaN</td>\n",
       "    </tr>\n",
       "    <tr>\n",
       "      <th>25%</th>\n",
       "      <td>17.000000</td>\n",
       "      <td>4.000000</td>\n",
       "      <td>105.000000</td>\n",
       "      <td>75.000000</td>\n",
       "      <td>2225.250000</td>\n",
       "      <td>13.775000</td>\n",
       "      <td>NaN</td>\n",
       "    </tr>\n",
       "    <tr>\n",
       "      <th>50%</th>\n",
       "      <td>22.750000</td>\n",
       "      <td>4.000000</td>\n",
       "      <td>151.000000</td>\n",
       "      <td>93.500000</td>\n",
       "      <td>2803.500000</td>\n",
       "      <td>15.500000</td>\n",
       "      <td>NaN</td>\n",
       "    </tr>\n",
       "    <tr>\n",
       "      <th>75%</th>\n",
       "      <td>29.000000</td>\n",
       "      <td>8.000000</td>\n",
       "      <td>275.750000</td>\n",
       "      <td>126.000000</td>\n",
       "      <td>3614.750000</td>\n",
       "      <td>17.025000</td>\n",
       "      <td>NaN</td>\n",
       "    </tr>\n",
       "    <tr>\n",
       "      <th>max</th>\n",
       "      <td>46.600000</td>\n",
       "      <td>8.000000</td>\n",
       "      <td>455.000000</td>\n",
       "      <td>230.000000</td>\n",
       "      <td>5140.000000</td>\n",
       "      <td>24.800000</td>\n",
       "      <td>NaN</td>\n",
       "    </tr>\n",
       "  </tbody>\n",
       "</table>\n",
       "</div>"
      ],
      "text/plain": [
       "               MPG   cylinders  displacement  horsepower       weight  \\\n",
       "count   392.000000  392.000000    392.000000  392.000000   392.000000   \n",
       "unique         NaN         NaN           NaN         NaN          NaN   \n",
       "top            NaN         NaN           NaN         NaN          NaN   \n",
       "freq           NaN         NaN           NaN         NaN          NaN   \n",
       "mean     23.445918    5.471939    194.411990  104.469388  2977.584184   \n",
       "std       7.805007    1.705783    104.644004   38.491160   849.402560   \n",
       "min       9.000000    3.000000     68.000000   46.000000  1613.000000   \n",
       "25%      17.000000    4.000000    105.000000   75.000000  2225.250000   \n",
       "50%      22.750000    4.000000    151.000000   93.500000  2803.500000   \n",
       "75%      29.000000    8.000000    275.750000  126.000000  3614.750000   \n",
       "max      46.600000    8.000000    455.000000  230.000000  5140.000000   \n",
       "\n",
       "        acceleration         name  \n",
       "count     392.000000          392  \n",
       "unique           NaN          301  \n",
       "top              NaN  amc matador  \n",
       "freq             NaN            5  \n",
       "mean       15.541327          NaN  \n",
       "std         2.758864          NaN  \n",
       "min         8.000000          NaN  \n",
       "25%        13.775000          NaN  \n",
       "50%        15.500000          NaN  \n",
       "75%        17.025000          NaN  \n",
       "max        24.800000          NaN  "
      ]
     },
     "metadata": {},
     "output_type": "display_data"
    },
    {
     "data": {
      "image/png": "[encoded data removed]",
      "text/plain": [
       "<Figure size 432x288 with 1 Axes>"
      ]
     },
     "metadata": {
      "needs_background": "light"
     },
     "output_type": "display_data"
    }
   ],
   "source": [
    "# YOUR CODE HERE\n",
    "df = pd.read_csv(\"car_data.csv\")\n",
    "display(df.describe(include = 'all'))\n",
    "plt.scatter(x = df.weight, y = df.MPG, alpha = 0.7)\n",
    "plt.xlabel(\"weight\")\n",
    "plt.ylabel(\"mpg\")\n",
    "plt.show()"
   ]
  },
  {
   "cell_type": "markdown",
   "metadata": {
    "id": "XUVK0ZGmTAcE"
   },
   "source": [
    "**Written answer: What do you see here? Discuss your findings** \n",
    "Seems to be a few potential outliers on the upper end of mpg. This could have an affect on the OLS fit as it is more sensitive to outliers. Also, the data seems to have a moderate linear trend."
   ]
  },
  {
   "cell_type": "markdown",
   "metadata": {
    "id": "aLTkjzp2X78w"
   },
   "source": [
    "### Question 1.2: /5 point\n",
    "\n",
    "Recall that the linear model, we obtain predictions by computing \n",
    "\n",
    "$$ \\hat{\\mathbf{y}} = \\mathbf{X} \\hat{\\beta} $$\n",
    "\n",
    "Here, $\\mathbf{X}$ is a design matrix which includes a column of ones, $\\hat{\\beta}$ are coefficients, and $\\hat{\\mathbf{y}}$ are outcomes.  Write a function `linearModelPredict` to compute linear model predictions given data and a coefficient vector.  The function should take as it's arguments a 1d-array of coefficients `b` and the design matrix `X` as a 2d-array and return linear model predictions `yp`.\n",
    "\n",
    "Test the function by setting \n",
    "\n",
    "```\n",
    "X = np.array([[1,0],[1,-1],[1,2]])\n",
    "b = np.array([0.1,0.3])\n",
    "```\n",
    "\n",
    "Call your function using these values. \n",
    "\n",
    "Report $\\hat{\\mathbf{y}}$. \n",
    "\n",
    "What is the dimensionality of the numpy-array that you get back? \n",
    "\n",
    "Hint:  Read the documentation for `np.dot` or the `@` operator in `numpy`."
   ]
  },
  {
   "cell_type": "code",
   "execution_count": 4,
   "metadata": {
    "id": "So7kD_OPVQNI"
   },
   "outputs": [
    {
     "data": {
      "text/plain": [
       "array([ 0.1, -0.2,  0.7])"
      ]
     },
     "metadata": {},
     "output_type": "display_data"
    },
    {
     "name": "stdout",
     "output_type": "stream",
     "text": [
      "The dimensionality is 1-d. It is a 1 by 3 matrix. 3 predicted y values corresponding to the 3 x values in the X matrix.\n"
     ]
    }
   ],
   "source": [
    "# Your code here.\n",
    "def linearModelPredict(b,X):\n",
    "    # get model prediction\n",
    "    yp = np.dot(X,b)\n",
    "    return yp\n",
    "\n",
    "X = np.array([[1,0],[1,-1],[1,2]])\n",
    "b = np.array([0.1,0.3])\n",
    "display(linearModelPredict(b,X))\n",
    "\n",
    "print(\"The dimensionality is 1-d. It is a 1 by 3 matrix. 3 predicted y values corresponding to the 3 x values in the X matrix.\")"
   ]
  },
  {
   "cell_type": "markdown",
   "metadata": {
    "id": "CrZokVidX787"
   },
   "source": [
    "### Question 1.3: /15 points\n",
    "\n",
    "Write a function `linearModelLossRSS` which computes and returns the loss function for an OLS model parameterized by $\\beta$, as well as the gradient of the loss.  The function should take as its first argument a 1d-array `beta` of coefficients for the linear model, as its second argument the design matrix `X` as a 2d-array, and as its third argument a 1d-array `y` of observed outcomes.\n",
    "\n",
    "Test the function with the values \n",
    "\n",
    "```\n",
    "X = np.array([[1,0],[1,-1],[1,2]])\n",
    "b = np.array([0.1,0.3])\n",
    "y = np.array([0,0.4,2]) \n",
    "```\n",
    "\n",
    "Report the loss and the gradient. \n"
   ]
  },
  {
   "cell_type": "code",
   "execution_count": 5,
   "metadata": {
    "id": "IHuS9PJJVZiW"
   },
   "outputs": [
    {
     "data": {
      "text/plain": [
       "(2.06, array([-3.6, -4. ]))"
      ]
     },
     "execution_count": 5,
     "metadata": {},
     "output_type": "execute_result"
    }
   ],
   "source": [
    "# Your code here.\n",
    "def linearModelLossRSS(b,X,y):\n",
    "    # get model prediction\n",
    "    yp = linearModelPredict(b,X)\n",
    "    # get residual vector\n",
    "    res = y - yp\n",
    "    # get the residual sum of squares\n",
    "    rss = np.dot(res,res)\n",
    "    # get the gradient\n",
    "    gradient= -2*np.dot(res,X)\n",
    "    return (rss, gradient)\n",
    "    \n",
    "X = np.array([[1,0],[1,-1],[1,2]])\n",
    "b = np.array([0.1,0.3])\n",
    "y = np.array([0,0.4,2])\n",
    "\n",
    "linearModelLossRSS(b,X,y)"
   ]
  },
  {
   "cell_type": "markdown",
   "metadata": {
    "id": "O7tEGnLsVb4L"
   },
   "source": [
    "**Written answer**: To minimize the loss, do you need increase or decrease the value of the parameters? "
   ]
  },
  {
   "cell_type": "markdown",
   "metadata": {
    "id": "gT7yoJLIt9Xs"
   },
   "source": [
    "**Your answer here.** Decrease the value of the parameters."
   ]
  },
  {
   "cell_type": "markdown",
   "metadata": {
    "id": "zpfl2A86X79D"
   },
   "source": [
    "### Question 1.4:  /15 points. \n",
    "\n",
    "Now that you've implemented a loss function in question 1.3, it is now time to minimize it!\n",
    "\n",
    "Write a function `linearModelFit` to fit a linear model.  The function should take as its first argument the design matrix `X` as a 2d-array, as its second argument a 1d-array `y` of outcomes, and as its third argument a function  `lossfcn` which returns as a tuple the value of the loss, as well as the gradient of the loss. As a result, it should return the estimated betas and the R2. \n",
    "\n",
    "Test the function with the values: \n",
    "```\n",
    "X = np.array([[1,0],[1,-1],[1,2]])\n",
    "y = np.array([0,0.4,2]) \n",
    "```\n",
    "\n",
    "Report best parameters and the fitted R2 \n"
   ]
  },
  {
   "cell_type": "code",
   "execution_count": 7,
   "metadata": {
    "id": "HfGGnSoRt7us"
   },
   "outputs": [
    {
     "data": {
      "text/plain": [
       "      fun: 0.56\n",
       " hess_inv: array([[ 0.17857143, -0.03571429],\n",
       "       [-0.03571429,  0.10714286]])\n",
       "      jac: array([-4.44089210e-16, -6.66133815e-16])\n",
       "  message: 'Optimization terminated successfully.'\n",
       "     nfev: 6\n",
       "      nit: 4\n",
       "     njev: 6\n",
       "   status: 0\n",
       "  success: True\n",
       "        x: array([0.6, 0.6])"
      ]
     },
     "metadata": {},
     "output_type": "display_data"
    },
    {
     "data": {
      "text/plain": [
       "(array([0.6, 0.6]), 0.75)"
      ]
     },
     "metadata": {},
     "output_type": "display_data"
    }
   ],
   "source": [
    "# Your code here\n",
    "def linearModelFit(X,y,lossfcn):\n",
    "    # setting starting values\n",
    "    nrows,ncols = X.shape\n",
    "    #display(ncols)\n",
    "    bstart = np.zeros((ncols, 1))\n",
    "    #display(bstart)\n",
    "    # call the optimization function\n",
    "    Result = so.minimize(lossfcn, bstart, args = (X,y), jac = True)\n",
    "    #display(Result)\n",
    "    bpred = Result.x\n",
    "    # computing R-squared using RSS and TSS\n",
    "    RSS, gradient = linearModelLossRSS(bpred,X,y)\n",
    "    TSS = np.dot(y-np.mean(y), y-np.mean(y))\n",
    "    R2 = 1-RSS/TSS\n",
    "    return bpred, R2\n",
    "    \n",
    "X = np.array([[1,0],[1,-1],[1,2]])\n",
    "y = np.array([0,0.4,2]) \n",
    "\n",
    "display(linearModelFit(X,y,linearModelLossRSS))\n",
    "    "
   ]
  },
  {
   "cell_type": "markdown",
   "metadata": {
    "id": "CJ2ZergqX79L"
   },
   "source": [
    "### Question 1.5: /15 points\n",
    "\n",
    "Use the above functions to fit your model to the car data. Use the MPG as the target (y) variable and the weight as the independent (x). Then use your model and the fitted parameters to make predictions along a grid of equally spaced weights within the original range of the weight variable.  \n",
    "\n",
    "Plot the data and add a line for the predicted values. You can get these by generating a new X-matrix with 100 equally space weights (using for example [```np.linspace```](https://numpy.org/doc/stable/reference/generated/numpy.linspace.html)). Also report the $R^2$ value for the fit. You can do this by either printing out the $R^2$ of the fit or putting it on your plot via the `annotate` function in matplotlib.\n"
   ]
  },
  {
   "cell_type": "code",
   "execution_count": null,
   "metadata": {
    "id": "Ije0Hki9t44-"
   },
   "outputs": [],
   "source": [
    "# Your code here\n",
    "y = df.loc[:,\"MPG\"].values\n",
    "x = df.loc[:, \"weight\"].values\n",
    "X = np.transpose(np.concatenate([[np.ones(len(df))], [df[\"weight\"].to_numpy()]]))\n",
    "\n",
    "bpr, R2 = linearModelFit(X,y,lossfcn = linearModelLossRSS) # get beta params\n",
    "\n",
    "x_grid = np.linspace(x.min(), x.max(), 100) # get grid\n",
    "Xnew = np.c_[np.ones(x_grid.size), x_grid] # make design\n",
    "\n",
    "ypred = linearModelPredict(bpr, Xnew) # get prediction\n",
    "\n",
    "plt.scatter(x,y, alpha = 0.7)\n",
    "plt.plot(x_grid, ypred, color = 'red')\n",
    "plt.xlabel('Weight')\n",
    "plt.ylabel('MPG')\n",
    "plt.show()\n",
    "\n",
    "print(\"L2 R-squared Value: \", R2)\n",
    "\n"
   ]
  },
  {
   "cell_type": "markdown",
   "metadata": {
    "id": "A3emHgAcX79R"
   },
   "source": [
    "## Part 2: LAD Regression\n",
    "\n",
    "### Question 2.1:  /15 points\n",
    "\n",
    "In the previous section, we worked with the squared loss.  Now, we'll implement a linear model with least absolute deviation loss.\n",
    "\n",
    "Write a function `linearModelLossLAD` which computes the least absolute deviation loss function for a linear model  parameterized by $\\beta$, as well as the gradient of the loss.  The function should take as its first argument a 1d-array `beta` of coefficients for the linear model, as its second argument the design matrix `X` as a 2d-array, and as its third argument a 1d-array `y` of observed outcomes.\n",
    "\n",
    "Test the function with the values \n",
    "\n",
    "```\n",
    "X = np.array([[1,0],[1,-1],[1,2]])\n",
    "b = np.array([0.1,0.3])\n",
    "y = np.array([0,0.4,2]) \n",
    "```\n",
    "\n",
    "Report the loss and the gradient. "
   ]
  },
  {
   "cell_type": "code",
   "execution_count": null,
   "metadata": {
    "id": "K-Fz6flkuD0j"
   },
   "outputs": [],
   "source": [
    "# Your code here\n",
    "def linearModelLossLAD(beta,X,y):\n",
    "    # get model prediction\n",
    "    yp = linearModelPredict(beta,X)\n",
    "    # get residual vector\n",
    "    res = y - yp\n",
    "    # get the sum of absolute deviations\n",
    "    sad = sum(abs(res))\n",
    "    # get the gradient\n",
    "    grad = - (np.dot(np.sign(res),X))\n",
    "    return (sad,grad)\n",
    "    \n",
    "X = np.array([[1,0],[1,-1],[1,2]])\n",
    "b = np.array([0.1,0.3])\n",
    "y = np.array([0,0.4,2])\n",
    "\n",
    "linearModelLossLAD(b,X,y)"
   ]
  },
  {
   "cell_type": "markdown",
   "metadata": {
    "id": "MTx_xIR5X79V"
   },
   "source": [
    "### Question 2.2: /10 points\n",
    "\n",
    "\n",
    "Use the above functions to fit your LAD model. Use your model to make predictions along a grid of 100 equally spaced car weights.  Once fit, add the fitted line to the scatter plot as in question 1.5.  Also report the $R^2$-value. \n",
    "\n",
    "**Written answer**: What is the difference in the fit obtained with an L1 as compared to the L2 cost function? How their $R^2$ values compare? Why?  \n",
    "\n",
    "Note: If you recieve an error from the optimizer, it may be because the loss function for the LAD model is not differentiable at its minimum.  This will lead to some gradient based optimizers to fail to converge.  If this happens to you then pass `method=\"Powell\"` to `scipy.optimize.minimize`.\n",
    "\n"
   ]
  },
  {
   "cell_type": "code",
   "execution_count": null,
   "metadata": {
    "id": "WjzoFgyOuFPc"
   },
   "outputs": [],
   "source": [
    "# Your code here\n",
    "y = df.loc[:,\"MPG\"].values\n",
    "x = df.loc[:, \"weight\"].values\n",
    "X = np.transpose(np.concatenate([[np.ones(len(df))], [df[\"weight\"].to_numpy()]]))\n",
    "\n",
    "# Repeating Code from OLS plot\n",
    "bpr, R2 = linearModelFit(X,y,lossfcn = linearModelLossLAD) # get beta params\n",
    "\n",
    "x_grid = np.linspace(x.min(), x.max(), 100) # get grid\n",
    "Xnew = np.c_[np.ones(x_grid.size), x_grid] # make design\n",
    "\n",
    "yPredict = linearModelPredict(bpr, Xnew) # get prediction\n",
    "\n",
    "plt.scatter(x,y, alpha = 0.7)\n",
    "plt.plot(x_grid, yPredict, color = 'blue') # LAD fit\n",
    "plt.plot(x_grid, ypred, color = 'red') #OLS fit\n",
    "plt.xlabel('Weight')\n",
    "plt.ylabel('MPG')\n",
    "plt.show()\n",
    "\n",
    "print(\"L1 R-squared Value: \", R2)"
   ]
  },
  {
   "cell_type": "markdown",
   "metadata": {
    "id": "Z0tRMvEiuGJe"
   },
   "source": [
    "The L1 fit is lower than the L2 fit on the left side of the graph. This is because the L1 fit is more robust to outliers. The R-squared value for L2 will always be larger than for L1. This is because OLS is miming Residual Least Squares. "
   ]
  },
  {
   "cell_type": "markdown",
   "metadata": {
    "id": "4Tza7fD4X79a"
   },
   "source": [
    "### Question 2.3: /15 points\n",
    "\n",
    "Now we will use all data for the fit. Fit an OLS model to the car data (excluding the name) with the `linear_model` module from the `sklearn` package by using the [`LinearRegression`](https://scikit-learn.org/stable/modules/generated/sklearn.linear_model.LinearRegression.html) class.  In no more than two sentences, comment on the $R^2$ values from `sklearn` and the $R^2$ values from your models. Are they similar?"
   ]
  },
  {
   "cell_type": "code",
   "execution_count": null,
   "metadata": {
    "id": "l7xLq3wPuJBf"
   },
   "outputs": [],
   "source": [
    "# Your code here\n",
    "\n",
    "model = linear_model.LinearRegression()\n",
    "\n",
    "y = df['MPG']\n",
    "\n",
    "# drop predicting attribute and name column from data\n",
    "x = df.drop(['name','MPG'], axis = 1)\n",
    "\n",
    "# fit the data\n",
    "model.fit(x,y)\n",
    "\n",
    "# get r-squared value\n",
    "r_sq = model.score(x, y)\n",
    "print('coefficient of determination:', r_sq)"
   ]
  },
  {
   "cell_type": "markdown",
   "metadata": {
    "id": "3X_4N0aouLD5"
   },
   "source": [
    "The R-squared value obtained from sklearn is slightly higher that the R-squared value from my OLS model due to the addition of predictor variables. This however does not tell us anything about weight as a predictor as adding predictor variables always results in a higher R-squared and could lead to overfitting."
   ]
  }
 ],
 "metadata": {
  "colab": {
   "name": "Assignment_1_Clean.ipynb",
   "provenance": []
  },
  "kernelspec": {
   "display_name": "Python 3 (ipykernel)",
   "language": "python",
   "name": "python3"
  },
  "language_info": {
   "codemirror_mode": {
    "name": "ipython",
    "version": 3
   },
   "file_extension": ".py",
   "mimetype": "text/x-python",
   "name": "python",
   "nbconvert_exporter": "python",
   "pygments_lexer": "ipython3",
   "version": "3.9.7"
  }
 },
 "nbformat": 4,
 "nbformat_minor": 1
}
